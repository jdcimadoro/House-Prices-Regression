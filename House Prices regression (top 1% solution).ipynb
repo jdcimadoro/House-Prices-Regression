{
 "cells": [
  {
   "cell_type": "markdown",
   "metadata": {},
   "source": [
    "This competition's dataset provides 79 explanatory variables describing (almost) every aspect of residential homes in Ames, Iowa.\n",
    "\n",
    "This competition challenges you to predict the final price of each home."
   ]
  },
  {
   "cell_type": "markdown",
   "metadata": {},
   "source": [
    "# Step 0 - Preliminaries\n",
    "First, i will import common packages and set some notebook defaults."
   ]
  },
  {
   "cell_type": "code",
   "execution_count": 4,
   "metadata": {
    "_cell_guid": "b1076dfc-b9ad-4769-8c92-a6c4dae69d19",
    "_uuid": "8f2839f25d086af736a60e9eeb907d3b93b6e0e5",
    "execution": {
     "iopub.execute_input": "2020-12-03T23:21:11.915723Z",
     "iopub.status.busy": "2020-12-03T23:21:11.914638Z",
     "iopub.status.idle": "2020-12-03T23:21:11.919910Z",
     "shell.execute_reply": "2020-12-03T23:21:11.920526Z"
    },
    "papermill": {
     "duration": 0.096315,
     "end_time": "2020-12-03T23:21:11.920697",
     "exception": false,
     "start_time": "2020-12-03T23:21:11.824382",
     "status": "completed"
    },
    "tags": []
   },
   "outputs": [],
   "source": [
    "# Importing common packages.\n",
    "import os                                        #For communication with the Operative System.\n",
    "import warnings                                  #Just in case I need to hide some warnings.\n",
    "\n",
    "import numpy as np               \n",
    "import pandas as pd              \n",
    "\n",
    "#Graphical and plotting packages:\n",
    "import matplotlib.pyplot as plt\n",
    "import seaborn as sns\n",
    "from IPython.display import display              #Public API for display tools in IPython.\n",
    "\n",
    "from pandas.api.types import CategoricalDtype    #Check if the provided array or dtype is Categorical\n",
    "\n",
    "#Feature Engineering\n",
    "from sklearn.feature_selection import mutual_info_regression   #Mutual Information\n",
    "from category_encoders import MEstimateEncoder   #Target encoding \n",
    "from sklearn.cluster import KMeans               #Clustering\n",
    "from sklearn.decomposition import PCA            #Principal Component Analysis\n",
    "from sklearn.feature_selection import RFECV                 #Recursive Feature Selection\n",
    "\n",
    "#Models\n",
    "from sklearn.model_selection import train_test_split as tts\n",
    "from sklearn.model_selection import KFold, cross_val_score\n",
    "import sklearn.linear_model as linear_model\n",
    "from sklearn.ensemble import RandomForestClassifier\n",
    "from xgboost import XGBRegressor\n",
    "from mlxtend.regressor import StackingCVRegressor\n",
    "\n",
    "#import dabl                                      #Data Analysis and ML Automation\n",
    "from sklearn.metrics import mean_squared_error              #Metric\n",
    "\n",
    "# Mute warnings\n",
    "warnings.filterwarnings('ignore')"
   ]
  },
  {
   "cell_type": "code",
   "execution_count": 5,
   "metadata": {
    "execution": {
     "iopub.execute_input": "2020-12-03T23:21:12.063801Z",
     "iopub.status.busy": "2020-12-03T23:21:12.062867Z",
     "iopub.status.idle": "2020-12-03T23:21:26.746149Z",
     "shell.execute_reply": "2020-12-03T23:21:26.745492Z"
    },
    "papermill": {
     "duration": 14.751777,
     "end_time": "2020-12-03T23:21:26.746296",
     "exception": false,
     "start_time": "2020-12-03T23:21:11.994519",
     "status": "completed"
    },
    "tags": []
   },
   "outputs": [],
   "source": [
    "#!pip install category_encoders\n",
    "#!pip install dabl\n",
    "#!pip install xgboost\n",
    "#!pip install lightgbm"
   ]
  },
  {
   "cell_type": "code",
   "execution_count": 6,
   "metadata": {
    "execution": {
     "iopub.execute_input": "2020-12-03T23:21:45.749389Z",
     "iopub.status.busy": "2020-12-03T23:21:45.748539Z",
     "iopub.status.idle": "2020-12-03T23:21:45.781676Z",
     "shell.execute_reply": "2020-12-03T23:21:45.780888Z"
    },
    "papermill": {
     "duration": 0.11302,
     "end_time": "2020-12-03T23:21:45.781798",
     "exception": false,
     "start_time": "2020-12-03T23:21:45.668778",
     "status": "completed"
    },
    "tags": []
   },
   "outputs": [],
   "source": [
    "# Set Matplotlib defaults\n",
    "%matplotlib inline\n",
    "plt.style.use(\"seaborn-whitegrid\")\n",
    "plt.rc(\"figure\", autolayout=True)\n",
    "plt.rc(\n",
    "    \"axes\",\n",
    "    labelweight=\"bold\",\n",
    "    labelsize=\"large\",\n",
    "    titleweight=\"bold\",\n",
    "    titlesize=14,\n",
    "    titlepad=10\n",
    ")"
   ]
  },
  {
   "cell_type": "markdown",
   "metadata": {},
   "source": [
    "# Step 1 - Data Preprocessing"
   ]
  },
  {
   "cell_type": "markdown",
   "metadata": {},
   "source": [
    "Let's preprocess the data to get it in a form suitable for analysis. \n",
    "\n",
    "For the Ames competition dataset, I'll need to:\n",
    "\n",
    "-Load the data from CSV files\n",
    "-Clean the data to fix any errors or inconsistencies\n",
    "-Encode the statistical data type (numeric, categorical)\n",
    "-Impute any missing values\n",
    "\n",
    "I'll wrap all these steps up in a function, which will make it easy to apply to new dataframes whenever I need."
   ]
  },
  {
   "cell_type": "markdown",
   "metadata": {},
   "source": [
    "## 1.1 Load data.\n",
    "It loads the data from CSV files in my GitHub, and apply clean, encode and impute functions, that will be defined later in this step."
   ]
  },
  {
   "cell_type": "code",
   "execution_count": 4,
   "metadata": {
    "_cell_guid": "79c7e3d0-c299-4dcb-8224-4455121ee9b0",
    "_uuid": "d629ff2d2480ee46fbb7e2d37f6b5fab8052498a",
    "execution": {
     "iopub.execute_input": "2020-12-03T23:21:46.397904Z",
     "iopub.status.busy": "2020-12-03T23:21:46.396739Z",
     "iopub.status.idle": "2020-12-03T23:21:46.469526Z",
     "shell.execute_reply": "2020-12-03T23:21:46.468704Z"
    },
    "papermill": {
     "duration": 0.155693,
     "end_time": "2020-12-03T23:21:46.469664",
     "exception": false,
     "start_time": "2020-12-03T23:21:46.313971",
     "status": "completed"
    },
    "tags": []
   },
   "outputs": [],
   "source": [
    "#Load the data\n",
    "\n",
    "def load_data():\n",
    "    # Read data\n",
    "    data_dir = Path(\"https://raw.githubusercontent.com/jdcimadoro/House-Prices-Regression/main/\")\n",
    "    df_train = pd.read_csv(data_dir / \"train.csv\", index_col=\"Id\")\n",
    "    df_test = pd.read_csv(data_dir / \"test.csv\", index_col=\"Id\")\n",
    "    # Merge the splits so I can preprocess them together\n",
    "    df = pd.concat([df_train, df_test])\n",
    "    # Preprocessing\n",
    "    df = clean(df)\n",
    "    df = encode(df)\n",
    "    df = impute(df)\n",
    "    # Undo merge, reform splits.\n",
    "    df_train = df.loc[df_train.index, :]\n",
    "    df_test = df.loc[df_test.index, :]\n",
    "    return df_train, df_test"
   ]
  },
  {
   "cell_type": "markdown",
   "metadata": {},
   "source": [
    "## 1.2 Clean Data.\n",
    "\n",
    "Data_description.txt has a full description of each column.\n",
    "\n",
    "Some of the categorical features in this dataset have what are apparently typos in their categories.\n",
    "Comparing these to data_description.txt shows me what needs cleaning.\n",
    "\n"
   ]
  },
  {
   "cell_type": "code",
   "execution_count": 11,
   "metadata": {},
   "outputs": [],
   "source": [
    "# Read data\n",
    "data_dir = \"https://raw.githubusercontent.com/jdcimadoro/House-Prices-Regression/main/\"\n",
    "df_train = pd.read_csv(data_dir + \"train.csv\", index_col=\"Id\")\n",
    "df_test = pd.read_csv(data_dir + \"test.csv\", index_col=\"Id\")\n",
    "# Merge the splits so I can preprocess them together\n",
    "df = pd.concat([df_train, df_test])"
   ]
  },
  {
   "cell_type": "code",
   "execution_count": null,
   "metadata": {},
   "outputs": [],
   "source": []
  },
  {
   "cell_type": "code",
   "execution_count": 71,
   "metadata": {},
   "outputs": [
    {
     "name": "stdout",
     "output_type": "stream",
     "text": [
      "********************\n",
      "MSSubClass\n",
      "20     1079\n",
      "60      575\n",
      "50      287\n",
      "120     182\n",
      "30      139\n",
      "70      128\n",
      "160     128\n",
      "80      118\n",
      "90      109\n",
      "190      61\n",
      "85       48\n",
      "75       23\n",
      "45       18\n",
      "180      17\n",
      "40        6\n",
      "150       1\n",
      "Name: MSSubClass, dtype: int64\n",
      "********************\n",
      "MSZoning\n",
      "RL         2265\n",
      "RM          460\n",
      "FV          139\n",
      "RH           26\n",
      "C (all)      25\n",
      "Name: MSZoning, dtype: int64\n",
      "********************\n",
      "LotFrontage\n",
      "60.0     276\n",
      "80.0     137\n",
      "70.0     133\n",
      "50.0     117\n",
      "75.0     105\n",
      "        ... \n",
      "144.0      1\n",
      "111.0      1\n",
      "123.0      1\n",
      "155.0      1\n",
      "31.0       1\n",
      "Name: LotFrontage, Length: 128, dtype: int64\n",
      "********************\n",
      "LotArea\n",
      "9600     44\n",
      "7200     43\n",
      "6000     34\n",
      "9000     29\n",
      "10800    25\n",
      "         ..\n",
      "11787     1\n",
      "9738      1\n",
      "7689      1\n",
      "9736      1\n",
      "8190      1\n",
      "Name: LotArea, Length: 1951, dtype: int64\n",
      "********************\n",
      "Street\n",
      "Pave    2907\n",
      "Grvl      12\n",
      "Name: Street, dtype: int64\n",
      "********************\n",
      "Alley\n",
      "Grvl    120\n",
      "Pave     78\n",
      "Name: Alley, dtype: int64\n",
      "********************\n",
      "LotShape\n",
      "Reg    1859\n",
      "IR1     968\n",
      "IR2      76\n",
      "IR3      16\n",
      "Name: LotShape, dtype: int64\n",
      "********************\n",
      "LandContour\n",
      "Lvl    2622\n",
      "HLS     120\n",
      "Bnk     117\n",
      "Low      60\n",
      "Name: LandContour, dtype: int64\n",
      "********************\n",
      "Utilities\n",
      "AllPub    2916\n",
      "NoSeWa       1\n",
      "Name: Utilities, dtype: int64\n",
      "********************\n",
      "LotConfig\n",
      "Inside     2133\n",
      "Corner      511\n",
      "CulDSac     176\n",
      "FR2          85\n",
      "FR3          14\n",
      "Name: LotConfig, dtype: int64\n",
      "********************\n",
      "LandSlope\n",
      "Gtl    2778\n",
      "Mod     125\n",
      "Sev      16\n",
      "Name: LandSlope, dtype: int64\n",
      "********************\n",
      "Neighborhood\n",
      "NAmes      443\n",
      "CollgCr    267\n",
      "OldTown    239\n",
      "Edwards    194\n",
      "Somerst    182\n",
      "NridgHt    166\n",
      "Gilbert    165\n",
      "Sawyer     151\n",
      "NWAmes     131\n",
      "SawyerW    125\n",
      "Mitchel    114\n",
      "BrkSide    108\n",
      "Crawfor    103\n",
      "IDOTRR      93\n",
      "Timber      72\n",
      "NoRidge     71\n",
      "StoneBr     51\n",
      "SWISU       48\n",
      "ClearCr     44\n",
      "MeadowV     37\n",
      "BrDale      30\n",
      "Blmngtn     28\n",
      "Veenker     24\n",
      "NPkVill     23\n",
      "Blueste     10\n",
      "Name: Neighborhood, dtype: int64\n",
      "********************\n",
      "Condition1\n",
      "Norm      2511\n",
      "Feedr      164\n",
      "Artery      92\n",
      "RRAn        50\n",
      "PosN        39\n",
      "RRAe        28\n",
      "PosA        20\n",
      "RRNn         9\n",
      "RRNe         6\n",
      "Name: Condition1, dtype: int64\n",
      "********************\n",
      "Condition2\n",
      "Norm      2889\n",
      "Feedr       13\n",
      "Artery       5\n",
      "PosA         4\n",
      "PosN         4\n",
      "RRNn         2\n",
      "RRAn         1\n",
      "RRAe         1\n",
      "Name: Condition2, dtype: int64\n",
      "********************\n",
      "BldgType\n",
      "1Fam      2425\n",
      "TwnhsE     227\n",
      "Duplex     109\n",
      "Twnhs       96\n",
      "2fmCon      62\n",
      "Name: BldgType, dtype: int64\n",
      "********************\n",
      "HouseStyle\n",
      "1Story    1471\n",
      "2Story     872\n",
      "1.5Fin     314\n",
      "SLvl       128\n",
      "SFoyer      83\n",
      "2.5Unf      24\n",
      "1.5Unf      19\n",
      "2.5Fin       8\n",
      "Name: HouseStyle, dtype: int64\n",
      "********************\n",
      "OverallQual\n",
      "5     825\n",
      "6     731\n",
      "7     600\n",
      "8     342\n",
      "4     226\n",
      "9     107\n",
      "3      40\n",
      "10     31\n",
      "2      13\n",
      "1       4\n",
      "Name: OverallQual, dtype: int64\n",
      "********************\n",
      "OverallCond\n",
      "5    1645\n",
      "6     531\n",
      "7     390\n",
      "8     144\n",
      "4     101\n",
      "3      50\n",
      "9      41\n",
      "2      10\n",
      "1       7\n",
      "Name: OverallCond, dtype: int64\n",
      "********************\n",
      "YearBuilt\n",
      "2005    142\n",
      "2006    138\n",
      "2007    109\n",
      "2004     99\n",
      "2003     88\n",
      "       ... \n",
      "1893      1\n",
      "1879      1\n",
      "1875      1\n",
      "1913      1\n",
      "1872      1\n",
      "Name: YearBuilt, Length: 118, dtype: int64\n",
      "********************\n",
      "YearRemodAdd\n",
      "1950    361\n",
      "2006    202\n",
      "2007    164\n",
      "2005    141\n",
      "2004    111\n",
      "       ... \n",
      "2010     13\n",
      "1986     12\n",
      "1981     12\n",
      "1983     11\n",
      "1982      9\n",
      "Name: YearRemodAdd, Length: 61, dtype: int64\n",
      "********************\n",
      "RoofStyle\n",
      "Gable      2310\n",
      "Hip         551\n",
      "Gambrel      22\n",
      "Flat         20\n",
      "Mansard      11\n",
      "Shed          5\n",
      "Name: RoofStyle, dtype: int64\n",
      "********************\n",
      "RoofMatl\n",
      "CompShg    2876\n",
      "Tar&Grv      23\n",
      "WdShake       9\n",
      "WdShngl       7\n",
      "ClyTile       1\n",
      "Roll          1\n",
      "Membran       1\n",
      "Metal         1\n",
      "Name: RoofMatl, dtype: int64\n",
      "********************\n",
      "Exterior1st\n",
      "VinylSd    1025\n",
      "MetalSd     450\n",
      "HdBoard     442\n",
      "Wd Sdng     411\n",
      "Plywood     221\n",
      "CemntBd     126\n",
      "BrkFace      87\n",
      "WdShing      56\n",
      "AsbShng      44\n",
      "Stucco       43\n",
      "BrkComm       6\n",
      "AsphShn       2\n",
      "Stone         2\n",
      "CBlock        2\n",
      "ImStucc       1\n",
      "Name: Exterior1st, dtype: int64\n",
      "********************\n",
      "Exterior2nd\n",
      "VinylSd    1014\n",
      "MetalSd     447\n",
      "HdBoard     406\n",
      "Wd Sdng     391\n",
      "Plywood     270\n",
      "CmentBd     126\n",
      "Wd Shng      81\n",
      "BrkFace      47\n",
      "Stucco       47\n",
      "AsbShng      38\n",
      "Brk Cmn      22\n",
      "ImStucc      15\n",
      "Stone         6\n",
      "AsphShn       4\n",
      "CBlock        3\n",
      "Other         1\n",
      "Name: Exterior2nd, dtype: int64\n",
      "********************\n",
      "MasVnrType\n",
      "None       1742\n",
      "BrkFace     879\n",
      "Stone       249\n",
      "BrkCmn       25\n",
      "Name: MasVnrType, dtype: int64\n",
      "********************\n",
      "MasVnrArea\n",
      "0.0       1738\n",
      "120.0       15\n",
      "200.0       13\n",
      "176.0       13\n",
      "216.0       12\n",
      "          ... \n",
      "167.0        1\n",
      "731.0        1\n",
      "394.0        1\n",
      "886.0        1\n",
      "1159.0       1\n",
      "Name: MasVnrArea, Length: 444, dtype: int64\n",
      "********************\n",
      "ExterQual\n",
      "TA    1798\n",
      "Gd     979\n",
      "Ex     107\n",
      "Fa      35\n",
      "Name: ExterQual, dtype: int64\n",
      "********************\n",
      "ExterCond\n",
      "TA    2538\n",
      "Gd     299\n",
      "Fa      67\n",
      "Ex      12\n",
      "Po       3\n",
      "Name: ExterCond, dtype: int64\n",
      "********************\n",
      "Foundation\n",
      "PConc     1308\n",
      "CBlock    1235\n",
      "BrkTil     311\n",
      "Slab        49\n",
      "Stone       11\n",
      "Wood         5\n",
      "Name: Foundation, dtype: int64\n",
      "********************\n",
      "BsmtQual\n",
      "TA    1283\n",
      "Gd    1209\n",
      "Ex     258\n",
      "Fa      88\n",
      "Name: BsmtQual, dtype: int64\n",
      "********************\n",
      "BsmtCond\n",
      "TA    2606\n",
      "Gd     122\n",
      "Fa     104\n",
      "Po       5\n",
      "Name: BsmtCond, dtype: int64\n",
      "********************\n",
      "BsmtExposure\n",
      "No    1904\n",
      "Av     418\n",
      "Gd     276\n",
      "Mn     239\n",
      "Name: BsmtExposure, dtype: int64\n",
      "********************\n",
      "BsmtFinType1\n",
      "Unf    851\n",
      "GLQ    849\n",
      "ALQ    429\n",
      "Rec    288\n",
      "BLQ    269\n",
      "LwQ    154\n",
      "Name: BsmtFinType1, dtype: int64\n",
      "********************\n",
      "BsmtFinSF1\n",
      "0.0       929\n",
      "24.0       27\n",
      "16.0       14\n",
      "300.0       9\n",
      "384.0       8\n",
      "         ... \n",
      "952.0       1\n",
      "607.0       1\n",
      "440.0       1\n",
      "1236.0      1\n",
      "1178.0      1\n",
      "Name: BsmtFinSF1, Length: 991, dtype: int64\n",
      "********************\n",
      "BsmtFinType2\n",
      "Unf    2493\n",
      "Rec     105\n",
      "LwQ      87\n",
      "BLQ      68\n",
      "ALQ      52\n",
      "GLQ      34\n",
      "Name: BsmtFinType2, dtype: int64\n",
      "********************\n",
      "BsmtFinSF2\n",
      "0.0      2571\n",
      "294.0       5\n",
      "180.0       5\n",
      "168.0       3\n",
      "162.0       3\n",
      "         ... \n",
      "382.0       1\n",
      "449.0       1\n",
      "350.0       1\n",
      "499.0       1\n",
      "208.0       1\n",
      "Name: BsmtFinSF2, Length: 272, dtype: int64\n",
      "********************\n",
      "BsmtUnfSF\n",
      "0.0       241\n",
      "384.0      19\n",
      "728.0      14\n",
      "672.0      13\n",
      "600.0      12\n",
      "         ... \n",
      "1041.0      1\n",
      "1272.0      1\n",
      "465.0       1\n",
      "551.0       1\n",
      "1211.0      1\n",
      "Name: BsmtUnfSF, Length: 1135, dtype: int64\n",
      "********************\n",
      "TotalBsmtSF\n",
      "0.0       78\n",
      "864.0     74\n",
      "672.0     29\n",
      "912.0     26\n",
      "1040.0    25\n",
      "          ..\n",
      "494.0      1\n",
      "551.0      1\n",
      "1154.0     1\n",
      "105.0      1\n",
      "1570.0     1\n",
      "Name: TotalBsmtSF, Length: 1058, dtype: int64\n",
      "********************\n",
      "Heating\n",
      "GasA     2874\n",
      "GasW       27\n",
      "Grav        9\n",
      "Wall        6\n",
      "OthW        2\n",
      "Floor       1\n",
      "Name: Heating, dtype: int64\n",
      "********************\n",
      "HeatingQC\n",
      "Ex    1493\n",
      "TA     857\n",
      "Gd     474\n",
      "Fa      92\n",
      "Po       3\n",
      "Name: HeatingQC, dtype: int64\n",
      "********************\n",
      "CentralAir\n",
      "Y    2723\n",
      "N     196\n",
      "Name: CentralAir, dtype: int64\n",
      "********************\n",
      "Electrical\n",
      "SBrkr    2671\n",
      "FuseA     188\n",
      "FuseF      50\n",
      "FuseP       8\n",
      "Mix         1\n",
      "Name: Electrical, dtype: int64\n",
      "********************\n",
      "1stFlrSF\n",
      "864     46\n",
      "1040    28\n",
      "912     19\n",
      "816     18\n",
      "848     18\n",
      "        ..\n",
      "2028     1\n",
      "2032     1\n",
      "2034     1\n",
      "2048     1\n",
      "2039     1\n",
      "Name: 1stFlrSF, Length: 1083, dtype: int64\n",
      "********************\n",
      "2ndFlrSF\n",
      "0       1668\n",
      "546       23\n",
      "728       18\n",
      "504       17\n",
      "600       13\n",
      "        ... \n",
      "1872       1\n",
      "1862       1\n",
      "1836       1\n",
      "1818       1\n",
      "1721       1\n",
      "Name: 2ndFlrSF, Length: 635, dtype: int64\n",
      "********************\n",
      "LowQualFinSF\n",
      "0       2879\n",
      "80         4\n",
      "360        2\n",
      "205        2\n",
      "515        1\n",
      "514        1\n",
      "528        1\n",
      "572        1\n",
      "1064       1\n",
      "53         1\n",
      "259        1\n",
      "513        1\n",
      "512        1\n",
      "397        1\n",
      "431        1\n",
      "473        1\n",
      "479        1\n",
      "481        1\n",
      "371        1\n",
      "450        1\n",
      "436        1\n",
      "420        1\n",
      "392        1\n",
      "390        1\n",
      "384        1\n",
      "362        1\n",
      "312        1\n",
      "234        1\n",
      "232        1\n",
      "156        1\n",
      "144        1\n",
      "140        1\n",
      "120        1\n",
      "114        1\n",
      "108        1\n",
      "697        1\n",
      "Name: LowQualFinSF, dtype: int64\n",
      "********************\n",
      "GrLivArea\n",
      "864     41\n",
      "1092    26\n",
      "1040    25\n",
      "1456    20\n",
      "1200    18\n",
      "        ..\n",
      "2126     1\n",
      "2128     1\n",
      "2132     1\n",
      "2134     1\n",
      "2039     1\n",
      "Name: GrLivArea, Length: 1292, dtype: int64\n",
      "********************\n",
      "BsmtFullBath\n",
      "0.0    1705\n",
      "1.0    1172\n",
      "2.0      38\n",
      "3.0       2\n",
      "Name: BsmtFullBath, dtype: int64\n",
      "********************\n",
      "BsmtHalfBath\n",
      "0.0    2742\n",
      "1.0     171\n",
      "2.0       4\n",
      "Name: BsmtHalfBath, dtype: int64\n",
      "********************\n",
      "FullBath\n",
      "2    1530\n",
      "1    1309\n",
      "3      64\n",
      "0      12\n",
      "4       4\n",
      "Name: FullBath, dtype: int64\n",
      "********************\n",
      "HalfBath\n",
      "0    1834\n",
      "1    1060\n",
      "2      25\n",
      "Name: HalfBath, dtype: int64\n",
      "********************\n",
      "BedroomAbvGr\n",
      "3    1596\n",
      "2     742\n",
      "4     400\n",
      "1     103\n",
      "5      48\n",
      "6      21\n",
      "0       8\n",
      "8       1\n",
      "Name: BedroomAbvGr, dtype: int64\n",
      "********************\n",
      "KitchenAbvGr\n",
      "1    2785\n",
      "2     129\n",
      "0       3\n",
      "3       2\n",
      "Name: KitchenAbvGr, dtype: int64\n",
      "********************\n",
      "KitchenQual\n",
      "TA    1492\n",
      "Gd    1151\n",
      "Ex     205\n",
      "Fa      70\n",
      "Name: KitchenQual, dtype: int64\n",
      "********************\n",
      "TotRmsAbvGrd\n",
      "6     844\n",
      "7     649\n",
      "5     583\n",
      "8     347\n",
      "4     196\n",
      "9     143\n",
      "10     80\n",
      "11     32\n",
      "3      25\n",
      "12     16\n",
      "2       1\n",
      "14      1\n",
      "13      1\n",
      "15      1\n",
      "Name: TotRmsAbvGrd, dtype: int64\n",
      "********************\n",
      "Functional\n",
      "Typ     2717\n",
      "Min2      70\n",
      "Min1      65\n",
      "Mod       35\n",
      "Maj1      19\n",
      "Maj2       9\n",
      "Sev        2\n",
      "Name: Functional, dtype: int64\n",
      "********************\n",
      "Fireplaces\n",
      "0    1420\n",
      "1    1268\n",
      "2     219\n",
      "3      11\n",
      "4       1\n",
      "Name: Fireplaces, dtype: int64\n",
      "********************\n",
      "FireplaceQu\n",
      "Gd    744\n",
      "TA    592\n",
      "Fa     74\n",
      "Po     46\n",
      "Ex     43\n",
      "Name: FireplaceQu, dtype: int64\n",
      "********************\n",
      "GarageType\n",
      "Attchd     1723\n",
      "Detchd      779\n",
      "BuiltIn     186\n",
      "Basment      36\n",
      "2Types       23\n",
      "CarPort      15\n",
      "Name: GarageType, dtype: int64\n",
      "********************\n",
      "GarageYrBlt\n",
      "2005.0    142\n",
      "2007.0    115\n",
      "2006.0    115\n",
      "2004.0     99\n",
      "2003.0     92\n",
      "         ... \n",
      "1908.0      1\n",
      "1919.0      1\n",
      "1896.0      1\n",
      "1933.0      1\n",
      "1943.0      1\n",
      "Name: GarageYrBlt, Length: 103, dtype: int64\n",
      "********************\n",
      "GarageFinish\n",
      "Unf    1230\n",
      "RFn     811\n",
      "Fin     719\n",
      "Name: GarageFinish, dtype: int64\n",
      "********************\n",
      "GarageCars\n",
      "2.0    1594\n",
      "1.0     776\n",
      "3.0     374\n",
      "0.0     157\n",
      "4.0      16\n",
      "5.0       1\n",
      "Name: GarageCars, dtype: int64\n",
      "********************\n",
      "GarageArea\n",
      "0.0       157\n",
      "576.0      97\n",
      "440.0      96\n",
      "240.0      69\n",
      "484.0      68\n",
      "         ... \n",
      "1110.0      1\n",
      "766.0       1\n",
      "208.0       1\n",
      "1043.0      1\n",
      "428.0       1\n",
      "Name: GarageArea, Length: 603, dtype: int64\n",
      "********************\n",
      "GarageQual\n",
      "TA    2604\n",
      "Fa     124\n",
      "Gd      24\n",
      "Po       5\n",
      "Ex       3\n",
      "Name: GarageQual, dtype: int64\n",
      "********************\n",
      "GarageCond\n",
      "TA    2654\n",
      "Fa      74\n",
      "Gd      15\n",
      "Po      14\n",
      "Ex       3\n",
      "Name: GarageCond, dtype: int64\n",
      "********************\n",
      "PavedDrive\n",
      "Y    2641\n",
      "N     216\n",
      "P      62\n",
      "Name: PavedDrive, dtype: int64\n",
      "********************\n",
      "WoodDeckSF\n",
      "0      1523\n",
      "100      74\n",
      "192      70\n",
      "144      61\n",
      "168      56\n",
      "       ... \n",
      "358       1\n",
      "354       1\n",
      "139       1\n",
      "336       1\n",
      "857       1\n",
      "Name: WoodDeckSF, Length: 379, dtype: int64\n",
      "********************\n",
      "OpenPorchSF\n",
      "0      1298\n",
      "36       52\n",
      "48       51\n",
      "40       44\n",
      "32       38\n",
      "       ... \n",
      "364       1\n",
      "324       1\n",
      "4         1\n",
      "288       1\n",
      "547       1\n",
      "Name: OpenPorchSF, Length: 252, dtype: int64\n",
      "********************\n",
      "EnclosedPorch\n",
      "0      2460\n",
      "112      22\n",
      "96       13\n",
      "144      11\n",
      "192      10\n",
      "       ... \n",
      "272       1\n",
      "268       1\n",
      "260       1\n",
      "256       1\n",
      "429       1\n",
      "Name: EnclosedPorch, Length: 183, dtype: int64\n",
      "********************\n",
      "3SsnPorch\n",
      "0      2882\n",
      "153       3\n",
      "168       3\n",
      "144       2\n",
      "180       2\n",
      "216       2\n",
      "140       1\n",
      "304       1\n",
      "323       1\n",
      "255       1\n",
      "245       1\n",
      "225       1\n",
      "219       1\n",
      "96        1\n",
      "23        1\n",
      "508       1\n",
      "360       1\n",
      "320       1\n",
      "290       1\n",
      "150       1\n",
      "238       1\n",
      "224       1\n",
      "86        1\n",
      "196       1\n",
      "182       1\n",
      "120       1\n",
      "176       1\n",
      "174       1\n",
      "130       1\n",
      "162       1\n",
      "407       1\n",
      "Name: 3SsnPorch, dtype: int64\n",
      "********************\n",
      "ScreenPorch\n",
      "0      2663\n",
      "144      13\n",
      "192      11\n",
      "168      10\n",
      "120       9\n",
      "       ... \n",
      "252       1\n",
      "234       1\n",
      "228       1\n",
      "222       1\n",
      "385       1\n",
      "Name: ScreenPorch, Length: 121, dtype: int64\n",
      "********************\n",
      "PoolArea\n",
      "0      2906\n",
      "144       1\n",
      "228       1\n",
      "368       1\n",
      "444       1\n",
      "480       1\n",
      "512       1\n",
      "576       1\n",
      "648       1\n",
      "738       1\n",
      "800       1\n",
      "519       1\n",
      "555       1\n",
      "561       1\n",
      "Name: PoolArea, dtype: int64\n",
      "********************\n",
      "PoolQC\n",
      "Gd    4\n",
      "Ex    4\n",
      "Fa    2\n",
      "Name: PoolQC, dtype: int64\n",
      "********************\n",
      "Fence\n",
      "MnPrv    329\n",
      "GdPrv    118\n",
      "GdWo     112\n",
      "MnWw      12\n",
      "Name: Fence, dtype: int64\n",
      "********************\n",
      "MiscFeature\n",
      "Shed    95\n",
      "Gar2     5\n",
      "Othr     4\n",
      "TenC     1\n",
      "Name: MiscFeature, dtype: int64\n",
      "********************\n",
      "MiscVal\n",
      "0        2816\n",
      "400        18\n",
      "500        13\n",
      "450         9\n",
      "600         8\n",
      "2000        7\n",
      "700         7\n",
      "1500        3\n",
      "1200        3\n",
      "650         3\n",
      "480         2\n",
      "4500        2\n",
      "3000        2\n",
      "2500        2\n",
      "420         1\n",
      "1150        1\n",
      "15500       1\n",
      "455         1\n",
      "6500        1\n",
      "80          1\n",
      "1512        1\n",
      "8300        1\n",
      "1400        1\n",
      "1300        1\n",
      "12500       1\n",
      "1000        1\n",
      "460         1\n",
      "900         1\n",
      "800         1\n",
      "750         1\n",
      "300         1\n",
      "54          1\n",
      "620         1\n",
      "17000       1\n",
      "350         1\n",
      "560         1\n",
      "490         1\n",
      "3500        1\n",
      "Name: MiscVal, dtype: int64\n",
      "********************\n",
      "MoSold\n",
      "6     503\n",
      "7     446\n",
      "5     394\n",
      "4     279\n",
      "8     233\n",
      "3     232\n",
      "10    173\n",
      "9     158\n",
      "11    142\n",
      "2     133\n",
      "1     122\n",
      "12    104\n",
      "Name: MoSold, dtype: int64\n",
      "********************\n",
      "YrSold\n",
      "2007    692\n",
      "2009    647\n",
      "2008    622\n",
      "2006    619\n",
      "2010    339\n",
      "Name: YrSold, dtype: int64\n",
      "********************\n",
      "SaleType\n",
      "WD       2525\n",
      "New       239\n",
      "COD        87\n",
      "ConLD      26\n",
      "CWD        12\n",
      "ConLI       9\n",
      "ConLw       8\n",
      "Oth         7\n",
      "Con         5\n",
      "Name: SaleType, dtype: int64\n",
      "********************\n",
      "SaleCondition\n",
      "Normal     2402\n",
      "Partial     245\n",
      "Abnorml     190\n",
      "Family       46\n",
      "Alloca       24\n",
      "AdjLand      12\n",
      "Name: SaleCondition, dtype: int64\n",
      "********************\n",
      "SalePrice\n",
      "140000.0    20\n",
      "135000.0    17\n",
      "155000.0    14\n",
      "145000.0    14\n",
      "190000.0    13\n",
      "            ..\n",
      "316600.0     1\n",
      "223000.0     1\n",
      "145900.0     1\n",
      "254000.0     1\n",
      "198900.0     1\n",
      "Name: SalePrice, Length: 663, dtype: int64\n"
     ]
    }
   ],
   "source": [
    "for col,value in df.iteritems():\n",
    "    print ('*'*20)\n",
    "    print (col)\n",
    "    print (value.value_counts())\n",
    "    #col.value_counts(sort=False, ascending=False)"
   ]
  },
  {
   "cell_type": "code",
   "execution_count": null,
   "metadata": {},
   "outputs": [],
   "source": []
  },
  {
   "cell_type": "markdown",
   "metadata": {
    "papermill": {
     "duration": 0.075133,
     "end_time": "2020-12-03T23:21:46.620152",
     "exception": false,
     "start_time": "2020-12-03T23:21:46.545019",
     "status": "completed"
    },
    "tags": []
   },
   "source": [
    "The first step is Exploratory Data Analysis."
   ]
  },
  {
   "cell_type": "code",
   "execution_count": 5,
   "metadata": {
    "execution": {
     "iopub.execute_input": "2020-12-03T23:21:46.821605Z",
     "iopub.status.busy": "2020-12-03T23:21:46.820405Z",
     "iopub.status.idle": "2020-12-03T23:21:46.866764Z",
     "shell.execute_reply": "2020-12-03T23:21:46.867413Z"
    },
    "papermill": {
     "duration": 0.171363,
     "end_time": "2020-12-03T23:21:46.867573",
     "exception": false,
     "start_time": "2020-12-03T23:21:46.696210",
     "status": "completed"
    },
    "tags": []
   },
   "outputs": [],
   "source": [
    "#see samples on train dataset\n",
    "\n",
    "train.head()\n",
    "\n",
    "#We store Id features in a variables and will use them to send predictions to the leaderboard.\n",
    "\n",
    "train_ID = train['Id']\n",
    "test_ID = test['Id']"
   ]
  },
  {
   "cell_type": "code",
   "execution_count": 6,
   "metadata": {
    "execution": {
     "iopub.execute_input": "2020-12-03T23:21:47.093759Z",
     "iopub.status.busy": "2020-12-03T23:21:47.092524Z",
     "iopub.status.idle": "2020-12-03T23:21:47.103257Z",
     "shell.execute_reply": "2020-12-03T23:21:47.104429Z"
    },
    "papermill": {
     "duration": 0.145791,
     "end_time": "2020-12-03T23:21:47.104655",
     "exception": false,
     "start_time": "2020-12-03T23:21:46.958864",
     "status": "completed"
    },
    "tags": []
   },
   "outputs": [
    {
     "name": "stdout",
     "output_type": "stream",
     "text": [
      "Training set shape: (1460, 81)\n",
      "Testing set shape: (1459, 80)\n"
     ]
    }
   ],
   "source": [
    "#see the shapes of training and testing datasets\n",
    "\n",
    "print('Training set shape:', train.shape)\n",
    "print('Testing set shape:', test.shape)\n",
    "\n",
    "# Now drop the  'Id' colum since it's unnecessary for  the prediction process.\n",
    "\n",
    "train.drop(['Id'], axis=1, inplace=True)\n",
    "test.drop(['Id'], axis=1, inplace=True)"
   ]
  },
  {
   "cell_type": "code",
   "execution_count": 7,
   "metadata": {
    "execution": {
     "iopub.execute_input": "2020-12-03T23:21:47.383638Z",
     "iopub.status.busy": "2020-12-03T23:21:47.382554Z",
     "iopub.status.idle": "2020-12-03T23:21:47.395353Z",
     "shell.execute_reply": "2020-12-03T23:21:47.396583Z"
    },
    "papermill": {
     "duration": 0.15047,
     "end_time": "2020-12-03T23:21:47.396774",
     "exception": false,
     "start_time": "2020-12-03T23:21:47.246304",
     "status": "completed"
    },
    "tags": []
   },
   "outputs": [],
   "source": []
  },
  {
   "cell_type": "code",
   "execution_count": 8,
   "metadata": {
    "execution": {
     "iopub.execute_input": "2020-12-03T23:21:47.675020Z",
     "iopub.status.busy": "2020-12-03T23:21:47.674046Z",
     "iopub.status.idle": "2020-12-03T23:21:56.299659Z",
     "shell.execute_reply": "2020-12-03T23:21:56.300191Z"
    },
    "papermill": {
     "duration": 8.791109,
     "end_time": "2020-12-03T23:21:56.300331",
     "exception": false,
     "start_time": "2020-12-03T23:21:47.509222",
     "status": "completed"
    },
    "tags": []
   },
   "outputs": [],
   "source": [
    "#Automatically plots for performing EDA and detect anomalies in dataset\n",
    "\n",
    "### However, we are not going to do this for testing dataset and after because even though we detect anomalies in testing set,\n",
    "# we could not delete rows with such anomalies.\n",
    "\n",
    "# dabl.plot(train, 'SalePrice')"
   ]
  },
  {
   "cell_type": "code",
   "execution_count": 9,
   "metadata": {
    "execution": {
     "iopub.execute_input": "2020-12-03T23:21:56.492198Z",
     "iopub.status.busy": "2020-12-03T23:21:56.491131Z",
     "iopub.status.idle": "2020-12-03T23:21:56.520274Z",
     "shell.execute_reply": "2020-12-03T23:21:56.521448Z"
    },
    "papermill": {
     "duration": 0.133972,
     "end_time": "2020-12-03T23:21:56.521679",
     "exception": false,
     "start_time": "2020-12-03T23:21:56.387707",
     "status": "completed"
    },
    "tags": []
   },
   "outputs": [],
   "source": [
    "# see the training set structure\n",
    "# train.info()\n",
    "# train.head()"
   ]
  },
  {
   "cell_type": "code",
   "execution_count": 10,
   "metadata": {
    "execution": {
     "iopub.execute_input": "2020-12-03T23:23:40.502931Z",
     "iopub.status.busy": "2020-12-03T23:23:40.501367Z",
     "iopub.status.idle": "2020-12-03T23:23:40.526438Z",
     "shell.execute_reply": "2020-12-03T23:23:40.525844Z"
    },
    "papermill": {
     "duration": 0.125967,
     "end_time": "2020-12-03T23:23:40.526544",
     "exception": false,
     "start_time": "2020-12-03T23:23:40.400577",
     "status": "completed"
    },
    "tags": []
   },
   "outputs": [],
   "source": [
    "#Some of the features are seen as numericals and they may be categoricals and others must be datetypes and they are numericals. So we transform them.\n",
    "\n",
    "train['GarageYrBlt'].fillna(train['GarageYrBlt'].mode()[0], inplace=True)\n",
    "train['GarageDateBlt'] = pd.to_datetime(train['GarageYrBlt'], format='%Y') \n",
    "\n",
    "train.drop([\"GarageYrBlt\"], axis = 1, inplace = True) \n",
    "\n",
    "train['MSSubClass'] = train['MSSubClass'].apply(str)\n",
    "train['YrSold'] = train['YrSold'].astype(str)\n",
    "train['MoSold'] = train['MoSold'].astype(str)\n",
    "\n",
    "train['DateBuilt'] = pd.to_datetime(train['YearBuilt'], format='%Y') \n",
    "\n",
    "\n",
    "train['DateSold'] = pd.to_datetime(train['YrSold'], format='%Y') \n",
    "\n",
    "\n",
    "train['DateRemodAdd'] = pd.to_datetime(train['YearRemodAdd'], format='%Y') \n",
    "\n",
    "train.drop([\"YearBuilt\", \"YrSold\", \"YearRemodAdd\"], axis = 1, inplace = True) "
   ]
  },
  {
   "cell_type": "code",
   "execution_count": 11,
   "metadata": {
    "execution": {
     "iopub.execute_input": "2020-12-03T23:23:40.719302Z",
     "iopub.status.busy": "2020-12-03T23:23:40.716614Z",
     "iopub.status.idle": "2020-12-03T23:23:40.740185Z",
     "shell.execute_reply": "2020-12-03T23:23:40.739058Z"
    },
    "papermill": {
     "duration": 0.123777,
     "end_time": "2020-12-03T23:23:40.740312",
     "exception": false,
     "start_time": "2020-12-03T23:23:40.616535",
     "status": "completed"
    },
    "tags": []
   },
   "outputs": [],
   "source": [
    "#Some of the features are seen as numericals and they may be categoricals and others must be datetypes and they are numericals. So we transform them.\n",
    "\n",
    "test['GarageYrBlt'].fillna(test['GarageYrBlt'].mode()[0], inplace=True)\n",
    "test['GarageDateBlt'] = pd.to_datetime(test['GarageYrBlt'], format='%Y') \n",
    "\n",
    "test.drop([\"GarageYrBlt\"], axis = 1, inplace = True) \n",
    "\n",
    "test['MSSubClass'] = test['MSSubClass'].apply(str)\n",
    "test['YrSold'] = test['YrSold'].astype(str)\n",
    "test['MoSold'] = test['MoSold'].astype(str)\n",
    "\n",
    "test['DateBuilt'] = pd.to_datetime(test['YearBuilt'], format='%Y') \n",
    "\n",
    "\n",
    "test['DateSold'] = pd.to_datetime(test['YrSold'], format='%Y') \n",
    "\n",
    "\n",
    "test['DateRemodAdd'] = pd.to_datetime(test['YearRemodAdd'], format='%Y') \n",
    "\n",
    "test.drop([\"YearBuilt\", \"YrSold\", \"YearRemodAdd\"], axis = 1, inplace = True) "
   ]
  },
  {
   "cell_type": "code",
   "execution_count": 12,
   "metadata": {
    "execution": {
     "iopub.execute_input": "2020-12-03T23:23:40.929487Z",
     "iopub.status.busy": "2020-12-03T23:23:40.927543Z",
     "iopub.status.idle": "2020-12-03T23:23:40.930230Z",
     "shell.execute_reply": "2020-12-03T23:23:40.930726Z"
    },
    "papermill": {
     "duration": 0.100445,
     "end_time": "2020-12-03T23:23:40.930842",
     "exception": false,
     "start_time": "2020-12-03T23:23:40.830397",
     "status": "completed"
    },
    "tags": []
   },
   "outputs": [],
   "source": [
    "#Function for finding numerical and categorical features\n",
    "\n",
    "def characteristics(dataset):\n",
    "    print('Shape of the dataset: {}'.format(dataset.shape))\n",
    "    dataset_numerical = dataset.select_dtypes(include = [np.number])\n",
    "    print('Number of Numerical Features: {}'.format(dataset_numerical.shape[1]))\n",
    "    dataset_categorical = dataset.select_dtypes(exclude = [np.number])\n",
    "    print('Number of Categorical Features: {}'.format(dataset_categorical.shape[1]))"
   ]
  },
  {
   "cell_type": "code",
   "execution_count": 13,
   "metadata": {
    "execution": {
     "iopub.execute_input": "2020-12-03T23:23:41.122815Z",
     "iopub.status.busy": "2020-12-03T23:23:41.121920Z",
     "iopub.status.idle": "2020-12-03T23:23:41.129618Z",
     "shell.execute_reply": "2020-12-03T23:23:41.129037Z"
    },
    "papermill": {
     "duration": 0.108364,
     "end_time": "2020-12-03T23:23:41.129748",
     "exception": false,
     "start_time": "2020-12-03T23:23:41.021384",
     "status": "completed"
    },
    "tags": []
   },
   "outputs": [
    {
     "name": "stdout",
     "output_type": "stream",
     "text": [
      "Shape of the dataset: (1460, 80)\n",
      "Number of Numerical Features: 31\n",
      "Number of Categorical Features: 49\n"
     ]
    }
   ],
   "source": [
    "characteristics(train)"
   ]
  },
  {
   "cell_type": "code",
   "execution_count": 14,
   "metadata": {
    "execution": {
     "iopub.execute_input": "2020-12-03T23:23:41.325118Z",
     "iopub.status.busy": "2020-12-03T23:23:41.323126Z",
     "iopub.status.idle": "2020-12-03T23:23:41.331011Z",
     "shell.execute_reply": "2020-12-03T23:23:41.331873Z"
    },
    "papermill": {
     "duration": 0.109032,
     "end_time": "2020-12-03T23:23:41.332051",
     "exception": false,
     "start_time": "2020-12-03T23:23:41.223019",
     "status": "completed"
    },
    "tags": []
   },
   "outputs": [
    {
     "name": "stdout",
     "output_type": "stream",
     "text": [
      "Shape of the dataset: (1459, 79)\n",
      "Number of Numerical Features: 30\n",
      "Number of Categorical Features: 49\n"
     ]
    }
   ],
   "source": [
    "characteristics(test)"
   ]
  },
  {
   "cell_type": "code",
   "execution_count": 15,
   "metadata": {
    "execution": {
     "iopub.execute_input": "2020-12-03T23:23:41.527226Z",
     "iopub.status.busy": "2020-12-03T23:23:41.526267Z",
     "iopub.status.idle": "2020-12-03T23:23:41.529432Z",
     "shell.execute_reply": "2020-12-03T23:23:41.528918Z"
    },
    "papermill": {
     "duration": 0.104688,
     "end_time": "2020-12-03T23:23:41.529569",
     "exception": false,
     "start_time": "2020-12-03T23:23:41.424881",
     "status": "completed"
    },
    "tags": []
   },
   "outputs": [],
   "source": [
    "#Variables for storing numerical and categoricals features in training dataset\n",
    "\n",
    "numerical_train = train.select_dtypes(include = [np.number])\n",
    "numerical_features = numerical_train.columns\n",
    "\n",
    "categorical_train = train.select_dtypes(exclude = [np.number])\n",
    "categorical_features = categorical_train.columns"
   ]
  },
  {
   "cell_type": "code",
   "execution_count": 16,
   "metadata": {
    "execution": {
     "iopub.execute_input": "2020-12-03T23:23:41.721159Z",
     "iopub.status.busy": "2020-12-03T23:23:41.720232Z",
     "iopub.status.idle": "2020-12-03T23:23:41.723640Z",
     "shell.execute_reply": "2020-12-03T23:23:41.723111Z"
    },
    "papermill": {
     "duration": 0.104424,
     "end_time": "2020-12-03T23:23:41.723747",
     "exception": false,
     "start_time": "2020-12-03T23:23:41.619323",
     "status": "completed"
    },
    "tags": []
   },
   "outputs": [],
   "source": [
    "#Variables for storing numerical and categoricals features in testing dataset\n",
    "\n",
    "numerical_test = test.select_dtypes(include = [np.number])\n",
    "numerical_features = numerical_test.columns\n",
    "\n",
    "categorical_test = test.select_dtypes(exclude = [np.number])\n",
    "categorical_features = categorical_test.columns"
   ]
  },
  {
   "cell_type": "code",
   "execution_count": 17,
   "metadata": {
    "execution": {
     "iopub.execute_input": "2020-12-03T23:23:41.956448Z",
     "iopub.status.busy": "2020-12-03T23:23:41.955354Z",
     "iopub.status.idle": "2020-12-03T23:23:41.984893Z",
     "shell.execute_reply": "2020-12-03T23:23:41.985479Z"
    },
    "papermill": {
     "duration": 0.173551,
     "end_time": "2020-12-03T23:23:41.985632",
     "exception": false,
     "start_time": "2020-12-03T23:23:41.812081",
     "status": "completed"
    },
    "tags": []
   },
   "outputs": [],
   "source": [
    "# Deleting features with more than 96% of common values in both dataset because these features won't be efficient to predict \"SalePrice\".\n",
    "\n",
    "overfit_categorical_train = []\n",
    "for i in categorical_train:\n",
    "    counts = train[i].value_counts()\n",
    "    zeros = counts.iloc[0]\n",
    "    if zeros / len(train) * 100 > 96:\n",
    "        overfit_categorical_train.append(i)\n",
    "\n",
    "overfit_categorical_train = list(overfit_categorical_train)\n",
    "test = test.drop(overfit_categorical_train, axis=1)\n",
    "train = train.drop(overfit_categorical_train, axis=1)"
   ]
  },
  {
   "cell_type": "code",
   "execution_count": 18,
   "metadata": {
    "execution": {
     "iopub.execute_input": "2020-12-03T23:23:42.180852Z",
     "iopub.status.busy": "2020-12-03T23:23:42.179709Z",
     "iopub.status.idle": "2020-12-03T23:23:42.209181Z",
     "shell.execute_reply": "2020-12-03T23:23:42.208579Z"
    },
    "papermill": {
     "duration": 0.131442,
     "end_time": "2020-12-03T23:23:42.209295",
     "exception": false,
     "start_time": "2020-12-03T23:23:42.077853",
     "status": "completed"
    },
    "tags": []
   },
   "outputs": [],
   "source": [
    "overfit_numerical_train = []\n",
    "for i in numerical_train:\n",
    "    counts = train[i].value_counts()\n",
    "    zeros = counts.iloc[0]\n",
    "    if zeros / len(train) * 100 > 96:\n",
    "        overfit_numerical_train.append(i)\n",
    "\n",
    "overfit_numerical_train = list(overfit_numerical_train)\n",
    "test = test.drop(overfit_numerical_train, axis=1)\n",
    "train = train.drop(overfit_numerical_train, axis=1)"
   ]
  },
  {
   "cell_type": "code",
   "execution_count": 19,
   "metadata": {
    "execution": {
     "iopub.execute_input": "2020-12-03T23:23:42.401572Z",
     "iopub.status.busy": "2020-12-03T23:23:42.400695Z",
     "iopub.status.idle": "2020-12-03T23:23:42.406839Z",
     "shell.execute_reply": "2020-12-03T23:23:42.407364Z"
    },
    "papermill": {
     "duration": 0.105503,
     "end_time": "2020-12-03T23:23:42.407498",
     "exception": false,
     "start_time": "2020-12-03T23:23:42.301995",
     "status": "completed"
    },
    "tags": []
   },
   "outputs": [
    {
     "name": "stdout",
     "output_type": "stream",
     "text": [
      "Categorical Features with >96% of the same value:  ['Street', 'Utilities', 'Condition2', 'RoofMatl', 'Heating']\n",
      "Numerical Features with >96% of the same value:  ['LowQualFinSF', '3SsnPorch', 'PoolArea', 'MiscVal']\n"
     ]
    }
   ],
   "source": [
    "print(\"Categorical Features with >96% of the same value: \",overfit_categorical_train)\n",
    "print(\"Numerical Features with >96% of the same value: \",overfit_numerical_train)"
   ]
  },
  {
   "cell_type": "code",
   "execution_count": 20,
   "metadata": {
    "execution": {
     "iopub.execute_input": "2020-12-03T23:23:42.600386Z",
     "iopub.status.busy": "2020-12-03T23:23:42.599543Z",
     "iopub.status.idle": "2020-12-03T23:23:42.604446Z",
     "shell.execute_reply": "2020-12-03T23:23:42.605148Z"
    },
    "papermill": {
     "duration": 0.10527,
     "end_time": "2020-12-03T23:23:42.605318",
     "exception": false,
     "start_time": "2020-12-03T23:23:42.500048",
     "status": "completed"
    },
    "tags": []
   },
   "outputs": [
    {
     "name": "stdout",
     "output_type": "stream",
     "text": [
      "Training set shape is now : (1460, 71)\n"
     ]
    }
   ],
   "source": [
    "print('Training set shape is now :', train.shape)"
   ]
  },
  {
   "cell_type": "code",
   "execution_count": 21,
   "metadata": {
    "execution": {
     "iopub.execute_input": "2020-12-03T23:23:42.797180Z",
     "iopub.status.busy": "2020-12-03T23:23:42.796337Z",
     "iopub.status.idle": "2020-12-03T23:23:42.804009Z",
     "shell.execute_reply": "2020-12-03T23:23:42.804782Z"
    },
    "papermill": {
     "duration": 0.108267,
     "end_time": "2020-12-03T23:23:42.805012",
     "exception": false,
     "start_time": "2020-12-03T23:23:42.696745",
     "status": "completed"
    },
    "tags": []
   },
   "outputs": [
    {
     "name": "stdout",
     "output_type": "stream",
     "text": [
      "Testing set shape is now : (1459, 70)\n"
     ]
    }
   ],
   "source": [
    "print('Testing set shape is now :', test.shape)"
   ]
  },
  {
   "cell_type": "code",
   "execution_count": 22,
   "metadata": {
    "execution": {
     "iopub.execute_input": "2020-12-03T23:23:43.015286Z",
     "iopub.status.busy": "2020-12-03T23:23:43.014049Z",
     "iopub.status.idle": "2020-12-03T23:23:43.016497Z",
     "shell.execute_reply": "2020-12-03T23:23:43.017125Z"
    },
    "papermill": {
     "duration": 0.109895,
     "end_time": "2020-12-03T23:23:43.017256",
     "exception": false,
     "start_time": "2020-12-03T23:23:42.907361",
     "status": "completed"
    },
    "tags": []
   },
   "outputs": [],
   "source": [
    "#Variables for storing numerical and categoricals features in training dataset\n",
    "\n",
    "numerical_train = train.select_dtypes(include = [np.number])\n",
    "numerical_features = numerical_train.columns\n",
    "categorical_train = train.select_dtypes(exclude = [np.number])\n",
    "categorical_features = categorical_train.columns"
   ]
  },
  {
   "cell_type": "code",
   "execution_count": 23,
   "metadata": {
    "execution": {
     "iopub.execute_input": "2020-12-03T23:23:43.219028Z",
     "iopub.status.busy": "2020-12-03T23:23:43.218094Z",
     "iopub.status.idle": "2020-12-03T23:23:43.220799Z",
     "shell.execute_reply": "2020-12-03T23:23:43.221341Z"
    },
    "papermill": {
     "duration": 0.109955,
     "end_time": "2020-12-03T23:23:43.221500",
     "exception": false,
     "start_time": "2020-12-03T23:23:43.111545",
     "status": "completed"
    },
    "tags": []
   },
   "outputs": [],
   "source": [
    "#Variables for storing numerical and categoricals features in testing dataset\n",
    "\n",
    "numerical_test = test.select_dtypes(include = [np.number])\n",
    "numerical_features = numerical_test.columns\n",
    "\n",
    "categorical_test = test.select_dtypes(exclude = [np.number])\n",
    "categorical_features = categorical_test.columns"
   ]
  },
  {
   "cell_type": "markdown",
   "metadata": {
    "papermill": {
     "duration": 0.095939,
     "end_time": "2020-12-03T23:23:43.414161",
     "exception": false,
     "start_time": "2020-12-03T23:23:43.318222",
     "status": "completed"
    },
    "tags": []
   },
   "source": [
    "# Outliers detection\n",
    "\n",
    "\n",
    "#### The presence of outliers in a classifcation or regression dataset can result in a poor fit and lower predictive modeling performance.<br> In that way, we have to treat them effectively before modeling.<br>\n",
    "\n",
    "#### The first thing to do when we want to see if there are outliers in our training dataset is to plot all variables in but we are not going <br>to perform outliers detection on our testing dataset."
   ]
  },
  {
   "cell_type": "code",
   "execution_count": 24,
   "metadata": {
    "execution": {
     "iopub.execute_input": "2020-12-03T23:23:43.620794Z",
     "iopub.status.busy": "2020-12-03T23:23:43.619670Z",
     "iopub.status.idle": "2020-12-03T23:23:54.257545Z",
     "shell.execute_reply": "2020-12-03T23:23:54.258141Z"
    },
    "papermill": {
     "duration": 10.749781,
     "end_time": "2020-12-03T23:23:54.258284",
     "exception": false,
     "start_time": "2020-12-03T23:23:43.508503",
     "status": "completed"
    },
    "tags": []
   },
   "outputs": [
    {
     "data": {
      "image/png": "[encoded data removed]",
      "text/plain": [
       "<Figure size 1080x4320 with 68 Axes>"
      ]
     },
     "metadata": {
      "needs_background": "light"
     },
     "output_type": "display_data"
    }
   ],
   "source": [
    "#Plots for helping determine outliers\n",
    "\n",
    "train.shape[1]\n",
    "#a = int(np.sqrt(train.shape[1]))\n",
    "a = 4\n",
    "b = int(train.shape[1]/4)\n",
    "r = int(train.shape[1]/a)\n",
    "c = int(train.shape[1]/b)\n",
    "i = 0\n",
    "fig, ax = plt.subplots(nrows=r, ncols=c, figsize=(15, 60))\n",
    "for row in ax:\n",
    "    for col in row:\n",
    "        try:\n",
    "            col.scatter(x = train[train.columns[i]], y = np.log(train['SalePrice']))\n",
    "            col.title.set_text(train.columns[i])\n",
    "        except:\n",
    "            temp=1\n",
    "        #except Exception as e:\n",
    "        #    print(e.message, e.args)\n",
    "        finally:\n",
    "            temp=1\n",
    "        i = i + 1\n",
    "        \n",
    "plt.show()"
   ]
  },
  {
   "cell_type": "markdown",
   "metadata": {
    "papermill": {
     "duration": 0.107826,
     "end_time": "2020-12-03T23:23:54.475702",
     "exception": false,
     "start_time": "2020-12-03T23:23:54.367876",
     "status": "completed"
    },
    "tags": []
   },
   "source": [
    "#### As seen with plots, we have several outliers in our training dataset<br>\n",
    "#### I will read plots and delete rows manually when certains conditions are not repected;<br>"
   ]
  },
  {
   "cell_type": "code",
   "execution_count": 25,
   "metadata": {
    "execution": {
     "iopub.execute_input": "2020-12-03T23:23:54.754620Z",
     "iopub.status.busy": "2020-12-03T23:23:54.753447Z",
     "iopub.status.idle": "2020-12-03T23:25:26.347987Z",
     "shell.execute_reply": "2020-12-03T23:25:26.348571Z"
    },
    "papermill": {
     "duration": 91.716523,
     "end_time": "2020-12-03T23:25:26.348726",
     "exception": false,
     "start_time": "2020-12-03T23:23:54.632203",
     "status": "completed"
    },
    "scrolled": true,
    "tags": []
   },
   "outputs": [],
   "source": [
    "#This is a heavy plot, be patient.\n",
    "#fig = plt.figure(figsize=(20,15))\n",
    "#for index,col in enumerate(numerical_train):\n",
    "#    plt.subplot(6,5,index+1)\n",
    "#    sns.countplot(x=col, data=numerical_train.dropna())\n",
    "#fig.tight_layout(pad=1.0)"
   ]
  },
  {
   "cell_type": "code",
   "execution_count": 26,
   "metadata": {
    "execution": {
     "iopub.execute_input": "2020-12-03T23:25:26.589612Z",
     "iopub.status.busy": "2020-12-03T23:25:26.588629Z",
     "iopub.status.idle": "2020-12-03T23:25:26.605282Z",
     "shell.execute_reply": "2020-12-03T23:25:26.604543Z"
    },
    "papermill": {
     "duration": 0.141761,
     "end_time": "2020-12-03T23:25:26.605411",
     "exception": false,
     "start_time": "2020-12-03T23:25:26.463650",
     "status": "completed"
    },
    "tags": []
   },
   "outputs": [],
   "source": [
    "train = train.drop(train[train['LotFrontage'] > 200].index)\n",
    "train = train.drop(train[train['LotArea'] > 100000].index)\n",
    "train = train.drop(train[train['BsmtFinSF1'] > 4000].index)\n",
    "train = train.drop(train[train['TotalBsmtSF'] > 5000].index)\n",
    "train = train.drop(train[train['GrLivArea'] > 4000].index)\n",
    "train = train.drop(train[train['EnclosedPorch'] > 401].index)\n",
    "train.reset_index(drop=True, inplace=True)"
   ]
  },
  {
   "cell_type": "code",
   "execution_count": 27,
   "metadata": {
    "execution": {
     "iopub.execute_input": "2020-12-03T23:25:26.842227Z",
     "iopub.status.busy": "2020-12-03T23:25:26.841174Z",
     "iopub.status.idle": "2020-12-03T23:25:27.764921Z",
     "shell.execute_reply": "2020-12-03T23:25:27.766056Z"
    },
    "papermill": {
     "duration": 1.049945,
     "end_time": "2020-12-03T23:25:27.766234",
     "exception": false,
     "start_time": "2020-12-03T23:25:26.716289",
     "status": "completed"
    },
    "tags": []
   },
   "outputs": [
    {
     "name": "stderr",
     "output_type": "stream",
     "text": [
      "/home/j/anaconda3/lib/python3.7/site-packages/ipykernel_launcher.py:4: UserWarning: Boolean Series key will be reindexed to match DataFrame index.\n",
      "  after removing the cwd from sys.path.\n",
      "/home/j/anaconda3/lib/python3.7/site-packages/ipykernel_launcher.py:6: UserWarning: Boolean Series key will be reindexed to match DataFrame index.\n",
      "  \n",
      "/home/j/anaconda3/lib/python3.7/site-packages/ipykernel_launcher.py:7: UserWarning: Boolean Series key will be reindexed to match DataFrame index.\n",
      "  import sys\n",
      "/home/j/anaconda3/lib/python3.7/site-packages/ipykernel_launcher.py:8: UserWarning: Boolean Series key will be reindexed to match DataFrame index.\n",
      "  \n"
     ]
    },
    {
     "data": {
      "text/plain": [
       "(1444, 71)"
      ]
     },
     "execution_count": 27,
     "metadata": {},
     "output_type": "execute_result"
    }
   ],
   "source": [
    "trt = train.copy()\n",
    "outliers = []\n",
    "\n",
    "outliers.append(trt[trt['1stFlrSF']>2700][trt['SalePrice']<500_000].index)\n",
    "outliers.append(trt[trt['BsmtFullBath']==3.0].index)\n",
    "outliers.append(trt[trt['GrLivArea']>3300][trt['SalePrice']<300_000].index)\n",
    "outliers.append(trt[trt['FullBath']==0.0][trt['SalePrice']>300_000].index)\n",
    "outliers.append(trt[trt['GarageArea']>1200][trt['SalePrice']<200_000].index)\n",
    "outliers.append(trt[trt['OpenPorchSF']>500].index)\n",
    "\n",
    "outliers = [x[0] for x in outliers]\n",
    "outliers\n",
    "train.drop(outliers, axis=0, inplace=True)\n",
    "train.shape"
   ]
  },
  {
   "cell_type": "code",
   "execution_count": 28,
   "metadata": {
    "execution": {
     "iopub.execute_input": "2020-12-03T23:25:28.074352Z",
     "iopub.status.busy": "2020-12-03T23:25:28.073478Z",
     "iopub.status.idle": "2020-12-03T23:25:28.078818Z",
     "shell.execute_reply": "2020-12-03T23:25:28.079546Z"
    },
    "papermill": {
     "duration": 0.162244,
     "end_time": "2020-12-03T23:25:28.079743",
     "exception": false,
     "start_time": "2020-12-03T23:25:27.917499",
     "status": "completed"
    },
    "tags": []
   },
   "outputs": [],
   "source": [
    "def characteristics(dataset):\n",
    "    print('Shape of the dataset: {}'.format(dataset.shape))\n",
    "    dataset_numerical = dataset.select_dtypes(include = [np.number])\n",
    "    print('Number of Numerical Features: {}'.format(dataset_numerical.shape[1]))\n",
    "    dataset_categorical = dataset.select_dtypes(exclude = [np.number])\n",
    "    print('Number of Categorical Features: {}'.format(dataset_categorical.shape[1]))"
   ]
  },
  {
   "cell_type": "code",
   "execution_count": 29,
   "metadata": {
    "execution": {
     "iopub.execute_input": "2020-12-03T23:25:28.390101Z",
     "iopub.status.busy": "2020-12-03T23:25:28.387035Z",
     "iopub.status.idle": "2020-12-03T23:25:28.393766Z",
     "shell.execute_reply": "2020-12-03T23:25:28.394573Z"
    },
    "papermill": {
     "duration": 0.139346,
     "end_time": "2020-12-03T23:25:28.394776",
     "exception": false,
     "start_time": "2020-12-03T23:25:28.255430",
     "status": "completed"
    },
    "tags": []
   },
   "outputs": [
    {
     "name": "stdout",
     "output_type": "stream",
     "text": [
      "Shape of the dataset: (1444, 71)\n",
      "Number of Numerical Features: 27\n",
      "Number of Categorical Features: 44\n"
     ]
    }
   ],
   "source": [
    "characteristics(train)"
   ]
  },
  {
   "cell_type": "code",
   "execution_count": 30,
   "metadata": {
    "execution": {
     "iopub.execute_input": "2020-12-03T23:25:28.643158Z",
     "iopub.status.busy": "2020-12-03T23:25:28.641265Z",
     "iopub.status.idle": "2020-12-03T23:25:28.649700Z",
     "shell.execute_reply": "2020-12-03T23:25:28.648831Z"
    },
    "papermill": {
     "duration": 0.130551,
     "end_time": "2020-12-03T23:25:28.649826",
     "exception": false,
     "start_time": "2020-12-03T23:25:28.519275",
     "status": "completed"
    },
    "tags": []
   },
   "outputs": [
    {
     "name": "stdout",
     "output_type": "stream",
     "text": [
      "Shape of the dataset: (1459, 70)\n",
      "Number of Numerical Features: 26\n",
      "Number of Categorical Features: 44\n"
     ]
    }
   ],
   "source": [
    "characteristics(test)"
   ]
  },
  {
   "cell_type": "markdown",
   "metadata": {
    "papermill": {
     "duration": 0.114521,
     "end_time": "2020-12-03T23:25:28.876161",
     "exception": false,
     "start_time": "2020-12-03T23:25:28.761640",
     "status": "completed"
    },
    "tags": []
   },
   "source": [
    "# Handling missing values\n",
    "\n",
    "\n",
    "### Missing values <br> In that way, we have to treat them effectively before modeling.<br>"
   ]
  },
  {
   "cell_type": "code",
   "execution_count": 31,
   "metadata": {
    "execution": {
     "iopub.execute_input": "2020-12-03T23:25:29.131804Z",
     "iopub.status.busy": "2020-12-03T23:25:29.121345Z",
     "iopub.status.idle": "2020-12-03T23:25:29.138553Z",
     "shell.execute_reply": "2020-12-03T23:25:29.137852Z"
    },
    "papermill": {
     "duration": 0.148114,
     "end_time": "2020-12-03T23:25:29.138681",
     "exception": false,
     "start_time": "2020-12-03T23:25:28.990567",
     "status": "completed"
    },
    "tags": []
   },
   "outputs": [
    {
     "data": {
      "text/html": [
       "<div>\n",
       "<style scoped>\n",
       "    .dataframe tbody tr th:only-of-type {\n",
       "        vertical-align: middle;\n",
       "    }\n",
       "\n",
       "    .dataframe tbody tr th {\n",
       "        vertical-align: top;\n",
       "    }\n",
       "\n",
       "    .dataframe thead th {\n",
       "        text-align: right;\n",
       "    }\n",
       "</style>\n",
       "<table border=\"1\" class=\"dataframe\">\n",
       "  <thead>\n",
       "    <tr style=\"text-align: right;\">\n",
       "      <th></th>\n",
       "      <th>Missing Ratio</th>\n",
       "    </tr>\n",
       "  </thead>\n",
       "  <tbody>\n",
       "    <tr>\n",
       "      <th>PoolQC</th>\n",
       "      <td>99.722992</td>\n",
       "    </tr>\n",
       "    <tr>\n",
       "      <th>MiscFeature</th>\n",
       "      <td>96.468144</td>\n",
       "    </tr>\n",
       "    <tr>\n",
       "      <th>Alley</th>\n",
       "      <td>93.698061</td>\n",
       "    </tr>\n",
       "    <tr>\n",
       "      <th>Fence</th>\n",
       "      <td>80.747922</td>\n",
       "    </tr>\n",
       "    <tr>\n",
       "      <th>FireplaceQu</th>\n",
       "      <td>47.576177</td>\n",
       "    </tr>\n",
       "    <tr>\n",
       "      <th>LotFrontage</th>\n",
       "      <td>17.659280</td>\n",
       "    </tr>\n",
       "    <tr>\n",
       "      <th>GarageType</th>\n",
       "      <td>5.470914</td>\n",
       "    </tr>\n",
       "    <tr>\n",
       "      <th>GarageFinish</th>\n",
       "      <td>5.470914</td>\n",
       "    </tr>\n",
       "    <tr>\n",
       "      <th>GarageQual</th>\n",
       "      <td>5.470914</td>\n",
       "    </tr>\n",
       "    <tr>\n",
       "      <th>GarageCond</th>\n",
       "      <td>5.470914</td>\n",
       "    </tr>\n",
       "    <tr>\n",
       "      <th>BsmtExposure</th>\n",
       "      <td>2.631579</td>\n",
       "    </tr>\n",
       "    <tr>\n",
       "      <th>BsmtFinType2</th>\n",
       "      <td>2.631579</td>\n",
       "    </tr>\n",
       "    <tr>\n",
       "      <th>BsmtFinType1</th>\n",
       "      <td>2.562327</td>\n",
       "    </tr>\n",
       "    <tr>\n",
       "      <th>BsmtCond</th>\n",
       "      <td>2.562327</td>\n",
       "    </tr>\n",
       "    <tr>\n",
       "      <th>BsmtQual</th>\n",
       "      <td>2.562327</td>\n",
       "    </tr>\n",
       "    <tr>\n",
       "      <th>MasVnrArea</th>\n",
       "      <td>0.554017</td>\n",
       "    </tr>\n",
       "    <tr>\n",
       "      <th>MasVnrType</th>\n",
       "      <td>0.554017</td>\n",
       "    </tr>\n",
       "    <tr>\n",
       "      <th>Electrical</th>\n",
       "      <td>0.069252</td>\n",
       "    </tr>\n",
       "  </tbody>\n",
       "</table>\n",
       "</div>"
      ],
      "text/plain": [
       "              Missing Ratio\n",
       "PoolQC            99.722992\n",
       "MiscFeature       96.468144\n",
       "Alley             93.698061\n",
       "Fence             80.747922\n",
       "FireplaceQu       47.576177\n",
       "LotFrontage       17.659280\n",
       "GarageType         5.470914\n",
       "GarageFinish       5.470914\n",
       "GarageQual         5.470914\n",
       "GarageCond         5.470914\n",
       "BsmtExposure       2.631579\n",
       "BsmtFinType2       2.631579\n",
       "BsmtFinType1       2.562327\n",
       "BsmtCond           2.562327\n",
       "BsmtQual           2.562327\n",
       "MasVnrArea         0.554017\n",
       "MasVnrType         0.554017\n",
       "Electrical         0.069252"
      ]
     },
     "execution_count": 31,
     "metadata": {},
     "output_type": "execute_result"
    }
   ],
   "source": [
    "train_na = (train.isnull().sum() / len(train)) * 100\n",
    "train_na = train_na.drop(train_na[train_na == 0].index).sort_values(ascending=False)[:71]\n",
    "missing_data = pd.DataFrame({'Missing Ratio' :train_na})\n",
    "missing_data.head(50)"
   ]
  },
  {
   "cell_type": "code",
   "execution_count": 32,
   "metadata": {
    "execution": {
     "iopub.execute_input": "2020-12-03T23:25:29.393831Z",
     "iopub.status.busy": "2020-12-03T23:25:29.391565Z",
     "iopub.status.idle": "2020-12-03T23:25:29.723147Z",
     "shell.execute_reply": "2020-12-03T23:25:29.722500Z"
    },
    "papermill": {
     "duration": 0.464328,
     "end_time": "2020-12-03T23:25:29.723269",
     "exception": false,
     "start_time": "2020-12-03T23:25:29.258941",
     "status": "completed"
    },
    "tags": []
   },
   "outputs": [
    {
     "data": {
      "text/plain": [
       "Text(0.5, 1.0, 'Percent missing data by feature')"
      ]
     },
     "execution_count": 32,
     "metadata": {},
     "output_type": "execute_result"
    },
    {
     "data": {
      "image/png": "[encoded data removed]",
      "text/plain": [
       "<Figure size 1080x864 with 1 Axes>"
      ]
     },
     "metadata": {
      "needs_background": "light"
     },
     "output_type": "display_data"
    }
   ],
   "source": [
    "f, ax = plt.subplots(figsize=(15, 12))\n",
    "plt.xticks(rotation='90')\n",
    "sns.barplot(x=train_na.index, y=train_na)\n",
    "plt.xlabel('Features', fontsize=15)\n",
    "plt.ylabel('Percent of missing values', fontsize=15)\n",
    "plt.title('Percent missing data by feature', fontsize=15)"
   ]
  },
  {
   "cell_type": "code",
   "execution_count": 33,
   "metadata": {
    "execution": {
     "iopub.execute_input": "2020-12-03T23:25:29.981919Z",
     "iopub.status.busy": "2020-12-03T23:25:29.975575Z",
     "iopub.status.idle": "2020-12-03T23:25:30.004554Z",
     "shell.execute_reply": "2020-12-03T23:25:30.003900Z"
    },
    "papermill": {
     "duration": 0.164623,
     "end_time": "2020-12-03T23:25:30.004700",
     "exception": false,
     "start_time": "2020-12-03T23:25:29.840077",
     "status": "completed"
    },
    "tags": []
   },
   "outputs": [],
   "source": [
    "train[\"PoolQC\"] = train[\"PoolQC\"].fillna(\"None\")\n",
    "train[\"MiscFeature\"] = train[\"MiscFeature\"].fillna(\"None\")\n",
    "train[\"Alley\"] = train[\"Alley\"].fillna(\"None\")\n",
    "train[\"Fence\"] = train[\"Fence\"].fillna(\"None\")\n",
    "train[\"FireplaceQu\"] = train[\"FireplaceQu\"].fillna(\"None\")\n",
    "train[\"MasVnrType\"] = train[\"MasVnrType\"].fillna(\"None\")\n",
    "\n",
    "\n",
    "train[\"GarageType\"] = train[\"GarageType\"].fillna(\"None\")\n",
    "train[\"GarageFinish\"] = train[\"GarageFinish\"].fillna(\"None\")\n",
    "train[\"GarageQual\"] = train[\"GarageQual\"].fillna(\"None\")\n",
    "train[\"GarageCond\"] = train[\"GarageCond\"].fillna(\"None\")\n",
    "train[\"BsmtQual\"] = train[\"BsmtQual\"].fillna(\"None\")\n",
    "train[\"BsmtCond\"] = train[\"BsmtCond\"].fillna(\"None\")\n",
    "train[\"BsmtExposure\"] = train[\"BsmtExposure\"].fillna(\"None\")\n",
    "train[\"BsmtFinType1\"] = train[\"BsmtFinType1\"].fillna(\"None\")\n",
    "train[\"BsmtFinType2\"] = train[\"BsmtFinType2\"].fillna(\"None\")\n",
    "\n",
    "train[\"LotFrontage\"] = train.groupby(\"Neighborhood\")[\"LotFrontage\"].transform(\n",
    "    lambda x: x.fillna(x.median()))\n",
    "\n",
    "train['GarageCars'] = train['GarageCars'].fillna(0)\n",
    "\n",
    "train[\"MasVnrArea\"] = train[\"MasVnrArea\"].fillna(0)\n",
    "\n",
    "train['Electrical'] = train['Electrical'].fillna(\"Typ\")"
   ]
  },
  {
   "cell_type": "code",
   "execution_count": 34,
   "metadata": {
    "execution": {
     "iopub.execute_input": "2020-12-03T23:25:30.256390Z",
     "iopub.status.busy": "2020-12-03T23:25:30.255337Z",
     "iopub.status.idle": "2020-12-03T23:25:30.272333Z",
     "shell.execute_reply": "2020-12-03T23:25:30.271689Z"
    },
    "papermill": {
     "duration": 0.151032,
     "end_time": "2020-12-03T23:25:30.272466",
     "exception": false,
     "start_time": "2020-12-03T23:25:30.121434",
     "status": "completed"
    },
    "tags": []
   },
   "outputs": [
    {
     "data": {
      "text/html": [
       "<div>\n",
       "<style scoped>\n",
       "    .dataframe tbody tr th:only-of-type {\n",
       "        vertical-align: middle;\n",
       "    }\n",
       "\n",
       "    .dataframe tbody tr th {\n",
       "        vertical-align: top;\n",
       "    }\n",
       "\n",
       "    .dataframe thead th {\n",
       "        text-align: right;\n",
       "    }\n",
       "</style>\n",
       "<table border=\"1\" class=\"dataframe\">\n",
       "  <thead>\n",
       "    <tr style=\"text-align: right;\">\n",
       "      <th></th>\n",
       "      <th>Missing Ratio</th>\n",
       "    </tr>\n",
       "  </thead>\n",
       "  <tbody>\n",
       "    <tr>\n",
       "      <th>PoolQC</th>\n",
       "      <td>99.794380</td>\n",
       "    </tr>\n",
       "    <tr>\n",
       "      <th>MiscFeature</th>\n",
       "      <td>96.504455</td>\n",
       "    </tr>\n",
       "    <tr>\n",
       "      <th>Alley</th>\n",
       "      <td>92.666210</td>\n",
       "    </tr>\n",
       "    <tr>\n",
       "      <th>Fence</th>\n",
       "      <td>80.123372</td>\n",
       "    </tr>\n",
       "    <tr>\n",
       "      <th>FireplaceQu</th>\n",
       "      <td>50.034270</td>\n",
       "    </tr>\n",
       "    <tr>\n",
       "      <th>LotFrontage</th>\n",
       "      <td>15.558602</td>\n",
       "    </tr>\n",
       "    <tr>\n",
       "      <th>GarageCond</th>\n",
       "      <td>5.346127</td>\n",
       "    </tr>\n",
       "    <tr>\n",
       "      <th>GarageQual</th>\n",
       "      <td>5.346127</td>\n",
       "    </tr>\n",
       "    <tr>\n",
       "      <th>GarageFinish</th>\n",
       "      <td>5.346127</td>\n",
       "    </tr>\n",
       "    <tr>\n",
       "      <th>GarageType</th>\n",
       "      <td>5.209047</td>\n",
       "    </tr>\n",
       "    <tr>\n",
       "      <th>BsmtCond</th>\n",
       "      <td>3.084304</td>\n",
       "    </tr>\n",
       "    <tr>\n",
       "      <th>BsmtExposure</th>\n",
       "      <td>3.015764</td>\n",
       "    </tr>\n",
       "    <tr>\n",
       "      <th>BsmtQual</th>\n",
       "      <td>3.015764</td>\n",
       "    </tr>\n",
       "    <tr>\n",
       "      <th>BsmtFinType1</th>\n",
       "      <td>2.878684</td>\n",
       "    </tr>\n",
       "    <tr>\n",
       "      <th>BsmtFinType2</th>\n",
       "      <td>2.878684</td>\n",
       "    </tr>\n",
       "    <tr>\n",
       "      <th>MasVnrType</th>\n",
       "      <td>1.096642</td>\n",
       "    </tr>\n",
       "    <tr>\n",
       "      <th>MasVnrArea</th>\n",
       "      <td>1.028101</td>\n",
       "    </tr>\n",
       "    <tr>\n",
       "      <th>MSZoning</th>\n",
       "      <td>0.274160</td>\n",
       "    </tr>\n",
       "    <tr>\n",
       "      <th>BsmtFullBath</th>\n",
       "      <td>0.137080</td>\n",
       "    </tr>\n",
       "    <tr>\n",
       "      <th>BsmtHalfBath</th>\n",
       "      <td>0.137080</td>\n",
       "    </tr>\n",
       "    <tr>\n",
       "      <th>Functional</th>\n",
       "      <td>0.137080</td>\n",
       "    </tr>\n",
       "    <tr>\n",
       "      <th>GarageCars</th>\n",
       "      <td>0.068540</td>\n",
       "    </tr>\n",
       "    <tr>\n",
       "      <th>GarageArea</th>\n",
       "      <td>0.068540</td>\n",
       "    </tr>\n",
       "    <tr>\n",
       "      <th>TotalBsmtSF</th>\n",
       "      <td>0.068540</td>\n",
       "    </tr>\n",
       "    <tr>\n",
       "      <th>KitchenQual</th>\n",
       "      <td>0.068540</td>\n",
       "    </tr>\n",
       "    <tr>\n",
       "      <th>BsmtUnfSF</th>\n",
       "      <td>0.068540</td>\n",
       "    </tr>\n",
       "    <tr>\n",
       "      <th>BsmtFinSF2</th>\n",
       "      <td>0.068540</td>\n",
       "    </tr>\n",
       "    <tr>\n",
       "      <th>BsmtFinSF1</th>\n",
       "      <td>0.068540</td>\n",
       "    </tr>\n",
       "    <tr>\n",
       "      <th>Exterior2nd</th>\n",
       "      <td>0.068540</td>\n",
       "    </tr>\n",
       "    <tr>\n",
       "      <th>Exterior1st</th>\n",
       "      <td>0.068540</td>\n",
       "    </tr>\n",
       "    <tr>\n",
       "      <th>SaleType</th>\n",
       "      <td>0.068540</td>\n",
       "    </tr>\n",
       "  </tbody>\n",
       "</table>\n",
       "</div>"
      ],
      "text/plain": [
       "              Missing Ratio\n",
       "PoolQC            99.794380\n",
       "MiscFeature       96.504455\n",
       "Alley             92.666210\n",
       "Fence             80.123372\n",
       "FireplaceQu       50.034270\n",
       "LotFrontage       15.558602\n",
       "GarageCond         5.346127\n",
       "GarageQual         5.346127\n",
       "GarageFinish       5.346127\n",
       "GarageType         5.209047\n",
       "BsmtCond           3.084304\n",
       "BsmtExposure       3.015764\n",
       "BsmtQual           3.015764\n",
       "BsmtFinType1       2.878684\n",
       "BsmtFinType2       2.878684\n",
       "MasVnrType         1.096642\n",
       "MasVnrArea         1.028101\n",
       "MSZoning           0.274160\n",
       "BsmtFullBath       0.137080\n",
       "BsmtHalfBath       0.137080\n",
       "Functional         0.137080\n",
       "GarageCars         0.068540\n",
       "GarageArea         0.068540\n",
       "TotalBsmtSF        0.068540\n",
       "KitchenQual        0.068540\n",
       "BsmtUnfSF          0.068540\n",
       "BsmtFinSF2         0.068540\n",
       "BsmtFinSF1         0.068540\n",
       "Exterior2nd        0.068540\n",
       "Exterior1st        0.068540\n",
       "SaleType           0.068540"
      ]
     },
     "execution_count": 34,
     "metadata": {},
     "output_type": "execute_result"
    }
   ],
   "source": [
    "test_na = (test.isnull().sum() / len(test)) * 100\n",
    "test_na = test_na.drop(test_na[test_na == 0].index).sort_values(ascending=False)[:71]\n",
    "missing_data = pd.DataFrame({'Missing Ratio' :test_na})\n",
    "missing_data.head(50)"
   ]
  },
  {
   "cell_type": "code",
   "execution_count": 35,
   "metadata": {
    "execution": {
     "iopub.execute_input": "2020-12-03T23:25:30.531239Z",
     "iopub.status.busy": "2020-12-03T23:25:30.530016Z",
     "iopub.status.idle": "2020-12-03T23:25:30.977906Z",
     "shell.execute_reply": "2020-12-03T23:25:30.978531Z"
    },
    "papermill": {
     "duration": 0.583724,
     "end_time": "2020-12-03T23:25:30.978693",
     "exception": false,
     "start_time": "2020-12-03T23:25:30.394969",
     "status": "completed"
    },
    "tags": []
   },
   "outputs": [
    {
     "data": {
      "text/plain": [
       "Text(0.5, 1.0, 'Percent missing data by feature in testing dataset')"
      ]
     },
     "execution_count": 35,
     "metadata": {},
     "output_type": "execute_result"
    },
    {
     "data": {
      "image/png": "[encoded data removed]",
      "text/plain": [
       "<Figure size 1080x864 with 1 Axes>"
      ]
     },
     "metadata": {
      "needs_background": "light"
     },
     "output_type": "display_data"
    }
   ],
   "source": [
    "f, ax = plt.subplots(figsize=(15, 12))\n",
    "plt.xticks(rotation='90')\n",
    "sns.barplot(x=test_na.index, y=test_na)\n",
    "plt.xlabel('Features', fontsize=15)\n",
    "plt.ylabel('Percent of missing values', fontsize=15)\n",
    "plt.title('Percent missing data by feature in testing dataset', fontsize=15)"
   ]
  },
  {
   "cell_type": "code",
   "execution_count": 36,
   "metadata": {
    "execution": {
     "iopub.execute_input": "2020-12-03T23:25:31.257766Z",
     "iopub.status.busy": "2020-12-03T23:25:31.240989Z",
     "iopub.status.idle": "2020-12-03T23:25:31.291996Z",
     "shell.execute_reply": "2020-12-03T23:25:31.291400Z"
    },
    "papermill": {
     "duration": 0.189139,
     "end_time": "2020-12-03T23:25:31.292110",
     "exception": false,
     "start_time": "2020-12-03T23:25:31.102971",
     "status": "completed"
    },
    "tags": []
   },
   "outputs": [],
   "source": [
    "test[\"PoolQC\"] = test[\"PoolQC\"].fillna(\"None\")\n",
    "test[\"MiscFeature\"] = test[\"MiscFeature\"].fillna(\"None\")\n",
    "test[\"Alley\"] = test[\"Alley\"].fillna(\"None\")\n",
    "test[\"Fence\"] = test[\"Fence\"].fillna(\"None\")\n",
    "test[\"FireplaceQu\"] = test[\"FireplaceQu\"].fillna(\"None\")\n",
    "test[\"MasVnrType\"] = test[\"MasVnrType\"].fillna(\"None\")\n",
    "\n",
    "\n",
    "test[\"GarageType\"] = test[\"GarageType\"].fillna(\"None\")\n",
    "test[\"GarageFinish\"] = test[\"GarageFinish\"].fillna(\"None\")\n",
    "test[\"GarageQual\"] = test[\"GarageQual\"].fillna(\"None\")\n",
    "test[\"GarageCond\"] = test[\"GarageCond\"].fillna(\"None\")\n",
    "test[\"BsmtQual\"] = test[\"BsmtQual\"].fillna(\"None\")\n",
    "test[\"BsmtCond\"] = test[\"BsmtCond\"].fillna(\"None\")\n",
    "test[\"BsmtExposure\"] = test[\"BsmtExposure\"].fillna(\"None\")\n",
    "test[\"BsmtFinType1\"] = test[\"BsmtFinType1\"].fillna(\"None\")\n",
    "test[\"BsmtFinType2\"] = test[\"BsmtFinType2\"].fillna(\"None\")\n",
    "\n",
    "test[\"LotFrontage\"] = test.groupby(\"Neighborhood\")[\"LotFrontage\"].transform(\n",
    "    lambda x: x.fillna(x.median()))\n",
    "\n",
    "test['GarageCars'] = test['GarageCars'].fillna(0)\n",
    "\n",
    "test[\"MasVnrArea\"] = test[\"MasVnrArea\"].fillna(0)\n",
    "\n",
    "test['MSZoning'].fillna(test['MSZoning'].mode()[0], inplace=True)\n",
    "test['Functional'].fillna(test['Functional'].mode()[0], inplace=True)\n",
    "\n",
    "test['BsmtHalfBath'].fillna(test['BsmtHalfBath'].mode()[0], inplace=True)\n",
    "test['BsmtFullBath'].fillna(test['BsmtFullBath'].mode()[0], inplace=True)\n",
    "\n",
    "test['SaleType'].fillna(test['SaleType'].mode()[0], inplace=True)\n",
    "test['GarageArea'].fillna(test['GarageArea'].mode()[0], inplace=True)\n",
    "test['KitchenQual'].fillna(test['KitchenQual'].mode()[0], inplace=True)\n",
    "test['TotalBsmtSF'].fillna(test['TotalBsmtSF'].mode()[0], inplace=True)\n",
    "test['BsmtUnfSF'].fillna(test['BsmtUnfSF'].mode()[0], inplace=True)\n",
    "test['BsmtFinSF2'].fillna(test['BsmtFinSF2'].mode()[0], inplace=True)\n",
    "test['BsmtFinSF1'].fillna(test['BsmtFinSF1'].mode()[0], inplace=True)\n",
    "test['Exterior2nd'].fillna(test['Exterior2nd'].mode()[0], inplace=True)\n",
    "test['Exterior1st'].fillna(test['Exterior1st'].mode()[0], inplace=True)\n"
   ]
  },
  {
   "cell_type": "code",
   "execution_count": 37,
   "metadata": {
    "execution": {
     "iopub.execute_input": "2020-12-03T23:25:31.800208Z",
     "iopub.status.busy": "2020-12-03T23:25:31.799207Z",
     "iopub.status.idle": "2020-12-03T23:25:31.802058Z",
     "shell.execute_reply": "2020-12-03T23:25:31.802725Z"
    },
    "papermill": {
     "duration": 0.144164,
     "end_time": "2020-12-03T23:25:31.802860",
     "exception": false,
     "start_time": "2020-12-03T23:25:31.658696",
     "status": "completed"
    },
    "tags": []
   },
   "outputs": [],
   "source": [
    "#Encoding Categorical variables\n",
    "\n",
    "categorical_train = train.select_dtypes(exclude = [np.number])\n",
    "categorical_features = categorical_train.columns\n",
    "\n",
    "categorical_test = test.select_dtypes(exclude = [np.number])\n",
    "categorical_features = categorical_test.columns"
   ]
  },
  {
   "cell_type": "code",
   "execution_count": 38,
   "metadata": {
    "execution": {
     "iopub.execute_input": "2020-12-03T23:25:32.073610Z",
     "iopub.status.busy": "2020-12-03T23:25:32.072616Z",
     "iopub.status.idle": "2020-12-03T23:25:32.198430Z",
     "shell.execute_reply": "2020-12-03T23:25:32.197776Z"
    },
    "papermill": {
     "duration": 0.27496,
     "end_time": "2020-12-03T23:25:32.198557",
     "exception": false,
     "start_time": "2020-12-03T23:25:31.923597",
     "status": "completed"
    },
    "tags": []
   },
   "outputs": [],
   "source": [
    "for i in categorical_train:\n",
    "    fe = train.groupby(i).size()/len(train)\n",
    "    train.loc[:, i] = train[i].map(fe)"
   ]
  },
  {
   "cell_type": "code",
   "execution_count": 39,
   "metadata": {
    "execution": {
     "iopub.execute_input": "2020-12-03T23:25:32.454109Z",
     "iopub.status.busy": "2020-12-03T23:25:32.453047Z",
     "iopub.status.idle": "2020-12-03T23:25:32.574166Z",
     "shell.execute_reply": "2020-12-03T23:25:32.573476Z"
    },
    "papermill": {
     "duration": 0.252504,
     "end_time": "2020-12-03T23:25:32.574304",
     "exception": false,
     "start_time": "2020-12-03T23:25:32.321800",
     "status": "completed"
    },
    "tags": []
   },
   "outputs": [],
   "source": [
    "for i in categorical_test:\n",
    "    fe = test.groupby(i).size()/len(test)\n",
    "    test.loc[:, i] = test[i].map(fe)"
   ]
  },
  {
   "cell_type": "markdown",
   "metadata": {
    "papermill": {
     "duration": 0.123556,
     "end_time": "2020-12-03T23:25:32.819648",
     "exception": false,
     "start_time": "2020-12-03T23:25:32.696092",
     "status": "completed"
    },
    "tags": []
   },
   "source": [
    "# Now we gonna start features selection for building our models.\n",
    "\n",
    "Feature selection is a process where you automatically select those features in your data that contribute most to the prediction variable or output in which you are interested. Having irrelevant features in your data can decrease the accuracy of many models, especially linear algorithms like linear and logistic regression.\n",
    "\n",
    "Three benefits of performing feature selection before modeling your data are:\n",
    "\n",
    "    Reduces Overfitting: Less redundant data means less opportunity to make decisions based on noise.\n",
    "    Improves Accuracy: Less misleading data means modeling accuracy improves.\n",
    "    Reduces Training Time: Less data means that algorithms train faster."
   ]
  },
  {
   "cell_type": "code",
   "execution_count": 40,
   "metadata": {
    "execution": {
     "iopub.execute_input": "2020-12-03T23:25:33.091538Z",
     "iopub.status.busy": "2020-12-03T23:25:33.090415Z",
     "iopub.status.idle": "2020-12-03T23:25:33.146995Z",
     "shell.execute_reply": "2020-12-03T23:25:33.147520Z"
    },
    "papermill": {
     "duration": 0.206855,
     "end_time": "2020-12-03T23:25:33.147681",
     "exception": false,
     "start_time": "2020-12-03T23:25:32.940826",
     "status": "completed"
    },
    "tags": []
   },
   "outputs": [
    {
     "name": "stdout",
     "output_type": "stream",
     "text": [
      "Categorical Features with >96% of the same value:  ['PoolQC', 'MiscFeature']\n",
      "Numerical Features with >96% of the same value:  []\n"
     ]
    }
   ],
   "source": [
    "# Deleting features with more than 96% of common values in training dataset because these features won't be efficient to predict \"SalePrice\".\n",
    "\n",
    "overfit_categorical_train = []\n",
    "for i in categorical_train:\n",
    "    counts = train[i].value_counts()\n",
    "    zeros = counts.iloc[0]\n",
    "    if zeros / len(train) * 100 > 96:\n",
    "        overfit_categorical_train.append(i)\n",
    "\n",
    "overfit_categorical_train = list(overfit_categorical_train)\n",
    "train = train.drop(overfit_categorical_train, axis=1)\n",
    "test = test.drop(overfit_categorical_train, axis=1)\n",
    "\n",
    "overfit_numerical_train = []\n",
    "for i in numerical_train:\n",
    "    counts = train[i].value_counts()\n",
    "    zeros = counts.iloc[0]\n",
    "    if zeros / len(train) * 100 > 96:\n",
    "        overfit_numerical_train.append(i)\n",
    "\n",
    "overfit_numerical_train = list(overfit_numerical_train)\n",
    "train = train.drop(overfit_numerical_train, axis=1)\n",
    "test = test.drop(overfit_numerical_train, axis=1)\n",
    "\n",
    "print(\"Categorical Features with >96% of the same value: \",overfit_categorical_train)\n",
    "print(\"Numerical Features with >96% of the same value: \",overfit_numerical_train)"
   ]
  },
  {
   "cell_type": "code",
   "execution_count": 41,
   "metadata": {
    "execution": {
     "iopub.execute_input": "2020-12-03T23:25:33.403648Z",
     "iopub.status.busy": "2020-12-03T23:25:33.402867Z",
     "iopub.status.idle": "2020-12-03T23:25:33.514965Z",
     "shell.execute_reply": "2020-12-03T23:25:33.514323Z"
    },
    "papermill": {
     "duration": 0.244911,
     "end_time": "2020-12-03T23:25:33.515111",
     "exception": false,
     "start_time": "2020-12-03T23:25:33.270200",
     "status": "completed"
    },
    "tags": []
   },
   "outputs": [],
   "source": [
    "correlated_features = set()\n",
    "correlation_matrix = train.drop('SalePrice', axis=1).corr()\n",
    "\n",
    "for i in range(len(correlation_matrix.columns)):\n",
    "    for j in range(i):\n",
    "        if abs(correlation_matrix.iloc[i, j]) > 0.8:\n",
    "            colname = correlation_matrix.columns[i]\n",
    "            correlated_features.add(colname)\n",
    "            \n",
    "for i in correlated_features:\n",
    "    train.drop(i, axis=1, inplace=True)\n",
    "    test.drop(i, axis=1, inplace=True)"
   ]
  },
  {
   "cell_type": "markdown",
   "metadata": {
    "papermill": {
     "duration": 0.121912,
     "end_time": "2020-12-03T23:25:33.759010",
     "exception": false,
     "start_time": "2020-12-03T23:25:33.637098",
     "status": "completed"
    },
    "tags": []
   },
   "source": [
    "### As we will build differents models (Robust Regression, Support Vector Regression, XGBoost and Random Forest) and each model has it's features selection criteria, we will perform different features selection algorithms based on each models. <br>\n",
    "\n",
    "#### For example, if we wanna build a robust regression model, we should select features based on a non-collinearity criteria and looking for overfiting/underfiting too.<br>\n",
    "\n",
    "#### Also, Linear Kernel of Support vector Regression is very similar to linear Regression, and hence the effect of multicollinearity has a very similar effect in case of Linear Kernel of SVR.<br> So we have to remove multicollinearity between features , if we want to use weight vectors directly for feature importance. \n",
    "\n",
    "#### Random Forest uses bootstrap sampling and feature sampling, i.e row sampling and column sampling. Therefore Random Forest is not affected by multicollinearity that much since it is picking different set of features for different models and of course every model sees a different set of data points. But there is a chance of multicollinear features getting picked up together, and when that happens we will see some trace of it.\n",
    "\n",
    "https://medium.com/@raj5287/effects-of-multi-collinearity-in-logistic-regression-svm-rf-af6766d91f1b"
   ]
  },
  {
   "cell_type": "markdown",
   "metadata": {
    "papermill": {
     "duration": 0.121535,
     "end_time": "2020-12-03T23:25:34.002062",
     "exception": false,
     "start_time": "2020-12-03T23:25:33.880527",
     "status": "completed"
    },
    "tags": []
   },
   "source": [
    "### Models"
   ]
  },
  {
   "cell_type": "code",
   "execution_count": 42,
   "metadata": {
    "execution": {
     "iopub.execute_input": "2020-12-03T23:25:34.252927Z",
     "iopub.status.busy": "2020-12-03T23:25:34.251996Z",
     "iopub.status.idle": "2020-12-03T23:25:36.154694Z",
     "shell.execute_reply": "2020-12-03T23:25:36.153671Z"
    },
    "papermill": {
     "duration": 2.031213,
     "end_time": "2020-12-03T23:25:36.154831",
     "exception": false,
     "start_time": "2020-12-03T23:25:34.123618",
     "status": "completed"
    },
    "tags": []
   },
   "outputs": [],
   "source": [
    "from sklearn.ensemble import GradientBoostingRegressor\n",
    "from sklearn.svm import SVR\n",
    "from xgboost import XGBRegressor\n",
    "from lightgbm import LGBMRegressor\n",
    "from sklearn.ensemble import RandomForestRegressor\n",
    "from sklearn.tree import DecisionTreeRegressor"
   ]
  },
  {
   "cell_type": "markdown",
   "metadata": {
    "papermill": {
     "duration": 0.161349,
     "end_time": "2020-12-03T23:25:54.528899",
     "exception": false,
     "start_time": "2020-12-03T23:25:54.367550",
     "status": "completed"
    },
    "tags": []
   },
   "source": [
    "### Now we should notice that all except SVR are good for our dataset. So, we gonna use them."
   ]
  },
  {
   "cell_type": "code",
   "execution_count": 43,
   "metadata": {
    "execution": {
     "iopub.execute_input": "2020-12-03T23:25:54.852402Z",
     "iopub.status.busy": "2020-12-03T23:25:54.851352Z",
     "iopub.status.idle": "2020-12-03T23:25:54.854649Z",
     "shell.execute_reply": "2020-12-03T23:25:54.854093Z"
    },
    "papermill": {
     "duration": 0.170149,
     "end_time": "2020-12-03T23:25:54.854767",
     "exception": false,
     "start_time": "2020-12-03T23:25:54.684618",
     "status": "completed"
    },
    "tags": []
   },
   "outputs": [],
   "source": [
    "X_train = train.drop(['SalePrice'],axis=1)\n",
    "y_train = train['SalePrice']\n",
    "kfolds = KFold(n_splits=10, shuffle=True, random_state=42)\n",
    "\n",
    "def rmsle(y_train, y_pred):\n",
    "    return np.sqrt(mean_squared_error(y_train, y_pred))\n",
    "\n",
    "def cv_rmse(model, X_train=X_train):\n",
    "    rmse = np.sqrt(-cross_val_score(model, X_train, y_train, scoring=\"neg_mean_squared_error\", cv=kfolds))\n",
    "    return (rmse)"
   ]
  },
  {
   "cell_type": "code",
   "execution_count": 44,
   "metadata": {
    "execution": {
     "iopub.execute_input": "2020-12-03T23:25:55.180900Z",
     "iopub.status.busy": "2020-12-03T23:25:55.179613Z",
     "iopub.status.idle": "2020-12-03T23:26:34.200900Z",
     "shell.execute_reply": "2020-12-03T23:26:34.201749Z"
    },
    "papermill": {
     "duration": 39.19133,
     "end_time": "2020-12-03T23:26:34.201929",
     "exception": false,
     "start_time": "2020-12-03T23:25:55.010599",
     "status": "completed"
    },
    "tags": []
   },
   "outputs": [
    {
     "name": "stdout",
     "output_type": "stream",
     "text": [
      "LinearRegression: 25311.0963 (2545.7536)\n",
      "\n",
      "Lasso: 25281.3053 (2541.6455)\n",
      "\n",
      "DecisionTreeRegressor: 38269.2209 (4698.5801)\n",
      "\n",
      "RandomForestRegressor: 25450.3151 (1872.8612)\n",
      "\n",
      "GradientBoostingRegressor: 23375.6962 (2033.5043)\n",
      "\n"
     ]
    }
   ],
   "source": [
    "score1 = cv_rmse(linear_model.LinearRegression())\n",
    "print(\"LinearRegression: {:.4f} ({:.4f})\\n\".format(score1.mean(), score1.std()), )\n",
    "\n",
    "my_Lasso = linear_model.Lasso(alpha = 2, max_iter = 10000)\n",
    "score2 = cv_rmse(my_Lasso)\n",
    "print(\"Lasso: {:.4f} ({:.4f})\\n\".format(score2.mean(), score2.std()), )\n",
    "\n",
    "my_DecisionTreeRegressor = DecisionTreeRegressor()\n",
    "score4 = cv_rmse(my_DecisionTreeRegressor)\n",
    "print(\"DecisionTreeRegressor: {:.4f} ({:.4f})\\n\".format(score4.mean(), score4.std()), )\n",
    "\n",
    "my_RandomForestRegressor = RandomForestRegressor()\n",
    "score5 = cv_rmse(my_RandomForestRegressor)\n",
    "print(\"RandomForestRegressor: {:.4f} ({:.4f})\\n\".format(score5.mean(), score5.std()), )\n",
    "\n",
    "my_GradientBoostingRegressor = GradientBoostingRegressor()\n",
    "score6 = cv_rmse(my_GradientBoostingRegressor)\n",
    "print(\"GradientBoostingRegressor: {:.4f} ({:.4f})\\n\".format(score6.mean(), score6.std()), )"
   ]
  },
  {
   "cell_type": "code",
   "execution_count": 45,
   "metadata": {},
   "outputs": [
    {
     "name": "stdout",
     "output_type": "stream",
     "text": [
      "LGBMRegressor: 23870.9442 (2084.3620)\n",
      "\n",
      "XGBRegressor: 25288.0823 (2006.6829)\n",
      "\n"
     ]
    }
   ],
   "source": [
    "my_LGBMRegressor = LGBMRegressor()\n",
    "score7 = cv_rmse(my_LGBMRegressor)\n",
    "print(\"LGBMRegressor: {:.4f} ({:.4f})\\n\".format(score7.mean(), score7.std()), )\n",
    "\n",
    "my_XGBRegressor = XGBRegressor()\n",
    "score8 = cv_rmse(my_XGBRegressor)\n",
    "print(\"XGBRegressor: {:.4f} ({:.4f})\\n\".format(score8.mean(), score8.std()), )"
   ]
  },
  {
   "cell_type": "code",
   "execution_count": 46,
   "metadata": {
    "execution": {
     "iopub.execute_input": "2020-12-03T23:26:34.590085Z",
     "iopub.status.busy": "2020-12-03T23:26:34.588784Z",
     "iopub.status.idle": "2020-12-03T23:28:39.854647Z",
     "shell.execute_reply": "2020-12-03T23:28:39.854048Z"
    },
    "papermill": {
     "duration": 125.442948,
     "end_time": "2020-12-03T23:28:39.854761",
     "exception": false,
     "start_time": "2020-12-03T23:26:34.411813",
     "status": "completed"
    },
    "tags": []
   },
   "outputs": [],
   "source": [
    "X = train.drop('SalePrice', axis=1)\n",
    "target = train['SalePrice']\n",
    "\n",
    "# Load a regression dataset\n",
    "#viz = ValidationCurve(\n",
    "#    GradientBoostingRegressor, param_name=\"max_depth\",\n",
    "#    param_range=np.arange(1, 11), cv=10, scoring=\"r2\"\n",
    "#)\n",
    "\n",
    "# Fit and show the visualizer\n",
    "#viz.fit(X, target)\n",
    "#viz.show()"
   ]
  },
  {
   "cell_type": "markdown",
   "metadata": {
    "papermill": {
     "duration": 0.155571,
     "end_time": "2020-12-03T23:28:40.166371",
     "exception": false,
     "start_time": "2020-12-03T23:28:40.010800",
     "status": "completed"
    },
    "tags": []
   },
   "source": [
    "### This tells us the best model for our dataset is GradientBoostingRegressor and the validation curve shoxs it's adapted to our dataset.\n",
    "\n",
    "#### Now, let use Recursive Feature Selection for having best features that we gonna use for model optimization."
   ]
  },
  {
   "cell_type": "code",
   "execution_count": 47,
   "metadata": {
    "execution": {
     "iopub.execute_input": "2020-12-03T23:28:40.497634Z",
     "iopub.status.busy": "2020-12-03T23:28:40.495493Z",
     "iopub.status.idle": "2020-12-03T23:31:12.798202Z",
     "shell.execute_reply": "2020-12-03T23:31:12.799093Z"
    },
    "papermill": {
     "duration": 152.473706,
     "end_time": "2020-12-03T23:31:12.799306",
     "exception": false,
     "start_time": "2020-12-03T23:28:40.325600",
     "status": "completed"
    },
    "tags": []
   },
   "outputs": [
    {
     "name": "stdout",
     "output_type": "stream",
     "text": [
      "Optimal number of features: 47\n"
     ]
    }
   ],
   "source": [
    "# Now, we gonna use RFE with linear regression but we could also use VIF Calculation for finding best features for our linear and svr models.\n",
    "\n",
    "X = train.drop('SalePrice', axis=1)\n",
    "target = train['SalePrice']\n",
    "\n",
    "\n",
    "my_GBR = GradientBoostingRegressor()\n",
    "selector = RFECV(my_GBR)\n",
    "selector = selector.fit(X, target)\n",
    "print('Optimal number of features: {}'.format(selector.n_features_))"
   ]
  },
  {
   "cell_type": "code",
   "execution_count": 48,
   "metadata": {
    "execution": {
     "iopub.execute_input": "2020-12-03T23:31:13.147734Z",
     "iopub.status.busy": "2020-12-03T23:31:13.146516Z",
     "iopub.status.idle": "2020-12-03T23:31:13.394130Z",
     "shell.execute_reply": "2020-12-03T23:31:13.394757Z"
    },
    "papermill": {
     "duration": 0.424391,
     "end_time": "2020-12-03T23:31:13.394900",
     "exception": false,
     "start_time": "2020-12-03T23:31:12.970509",
     "status": "completed"
    },
    "tags": []
   },
   "outputs": [
    {
     "data": {
      "image/png": "[encoded data removed]",
      "text/plain": [
       "<Figure size 1152x648 with 1 Axes>"
      ]
     },
     "metadata": {
      "needs_background": "light"
     },
     "output_type": "display_data"
    }
   ],
   "source": [
    "plt.figure(figsize=(16, 9))\n",
    "plt.title('Recursive Feature Elimination with Cross-Validation', fontsize=18, fontweight='bold', pad=20)\n",
    "plt.xlabel('Number of features selected', fontsize=14, labelpad=20)\n",
    "plt.ylabel('% Correct Classification', fontsize=14, labelpad=20)\n",
    "plt.plot(range(1, len(selector.grid_scores_) + 1), selector.grid_scores_, color='#303F9F', linewidth=3)\n",
    "plt.show()"
   ]
  },
  {
   "cell_type": "code",
   "execution_count": 49,
   "metadata": {
    "execution": {
     "iopub.execute_input": "2020-12-03T23:31:13.873452Z",
     "iopub.status.busy": "2020-12-03T23:31:13.872410Z",
     "iopub.status.idle": "2020-12-03T23:31:13.882433Z",
     "shell.execute_reply": "2020-12-03T23:31:13.883754Z"
    },
    "papermill": {
     "duration": 0.282765,
     "end_time": "2020-12-03T23:31:13.883995",
     "exception": false,
     "start_time": "2020-12-03T23:31:13.601230",
     "status": "completed"
    },
    "tags": []
   },
   "outputs": [],
   "source": [
    "test.drop(X.columns[np.where(selector.support_ == False)[0]], axis=1, inplace=True)\n",
    "train.drop(X.columns[np.where(selector.support_ == False)[0]], axis=1, inplace=True)"
   ]
  },
  {
   "cell_type": "code",
   "execution_count": 50,
   "metadata": {
    "execution": {
     "iopub.execute_input": "2020-12-03T23:31:14.344084Z",
     "iopub.status.busy": "2020-12-03T23:31:14.342892Z",
     "iopub.status.idle": "2020-12-03T23:31:14.354737Z",
     "shell.execute_reply": "2020-12-03T23:31:14.356276Z"
    },
    "papermill": {
     "duration": 0.214626,
     "end_time": "2020-12-03T23:31:14.356473",
     "exception": false,
     "start_time": "2020-12-03T23:31:14.141847",
     "status": "completed"
    },
    "tags": []
   },
   "outputs": [],
   "source": [
    "X = train.drop('SalePrice', axis=1)\n",
    "target = train['SalePrice']\n",
    "\n",
    "X_train, X_val, y_train, y_val = tts(X, target, test_size=0.2, random_state=2020)"
   ]
  },
  {
   "cell_type": "code",
   "execution_count": 51,
   "metadata": {
    "execution": {
     "iopub.execute_input": "2020-12-03T23:31:14.733198Z",
     "iopub.status.busy": "2020-12-03T23:31:14.732460Z",
     "iopub.status.idle": "2020-12-03T23:31:14.737429Z",
     "shell.execute_reply": "2020-12-03T23:31:14.736757Z"
    },
    "papermill": {
     "duration": 0.194981,
     "end_time": "2020-12-03T23:31:14.737631",
     "exception": false,
     "start_time": "2020-12-03T23:31:14.542650",
     "status": "completed"
    },
    "tags": []
   },
   "outputs": [],
   "source": [
    "from sklearn.ensemble import GradientBoostingRegressor\n",
    "from sklearn.svm import SVR\n",
    "from xgboost import XGBRegressor\n",
    "from lightgbm import LGBMRegressor\n",
    "from sklearn.ensemble import RandomForestRegressor\n",
    "from sklearn.tree import DecisionTreeRegressor\n",
    "from sklearn.linear_model import Lasso"
   ]
  },
  {
   "cell_type": "code",
   "execution_count": 52,
   "metadata": {
    "execution": {
     "iopub.execute_input": "2020-12-03T23:31:15.083531Z",
     "iopub.status.busy": "2020-12-03T23:31:15.081223Z",
     "iopub.status.idle": "2020-12-03T23:31:27.203450Z",
     "shell.execute_reply": "2020-12-03T23:31:27.204432Z"
    },
    "papermill": {
     "duration": 12.295819,
     "end_time": "2020-12-03T23:31:27.204666",
     "exception": false,
     "start_time": "2020-12-03T23:31:14.908847",
     "status": "completed"
    },
    "tags": []
   },
   "outputs": [
    {
     "data": {
      "text/plain": [
       "GradientBoostingRegressor(learning_rate=0.05, loss='huber', max_depth=4,\n",
       "                          max_features='sqrt', min_samples_leaf=15,\n",
       "                          min_samples_split=10, n_estimators=3000,\n",
       "                          random_state=42)"
      ]
     },
     "execution_count": 52,
     "metadata": {},
     "output_type": "execute_result"
    }
   ],
   "source": [
    "#We did the same thing for GradientBoostingRegressor and detect these hyperparameters are best:\n",
    "\n",
    "GradientBoostingRegr = GradientBoostingRegressor(n_estimators=3000, learning_rate=0.05,\n",
    "                                   max_depth=4, max_features='sqrt',\n",
    "                                   min_samples_leaf=15, min_samples_split=10, \n",
    "                                   loss='huber', random_state =42)\n",
    "GradientBoostingRegr.fit(X_train, y_train)"
   ]
  },
  {
   "cell_type": "code",
   "execution_count": 53,
   "metadata": {
    "execution": {
     "iopub.execute_input": "2020-12-03T23:31:27.548824Z",
     "iopub.status.busy": "2020-12-03T23:31:27.547844Z",
     "iopub.status.idle": "2020-12-03T23:31:27.647276Z",
     "shell.execute_reply": "2020-12-03T23:31:27.646662Z"
    },
    "papermill": {
     "duration": 0.273597,
     "end_time": "2020-12-03T23:31:27.647406",
     "exception": false,
     "start_time": "2020-12-03T23:31:27.373809",
     "status": "completed"
    },
    "tags": []
   },
   "outputs": [],
   "source": [
    "Predictions = GradientBoostingRegr.predict(test)"
   ]
  },
  {
   "cell_type": "code",
   "execution_count": 54,
   "metadata": {
    "execution": {
     "iopub.execute_input": "2020-12-03T23:31:27.986282Z",
     "iopub.status.busy": "2020-12-03T23:31:27.985561Z",
     "iopub.status.idle": "2020-12-03T23:31:28.250382Z",
     "shell.execute_reply": "2020-12-03T23:31:28.249568Z"
    },
    "papermill": {
     "duration": 0.437698,
     "end_time": "2020-12-03T23:31:28.250510",
     "exception": false,
     "start_time": "2020-12-03T23:31:27.812812",
     "status": "completed"
    },
    "tags": []
   },
   "outputs": [],
   "source": [
    "# I'll submit predictions to the competition for scoring on the leaderboard.\n",
    "\n",
    "submission = pd.DataFrame({'Id': test_ID,\n",
    "                           'SalePrice': Predictions})\n",
    "submission.to_csv('submission_boost.csv', index=False)"
   ]
  }
 ],
 "metadata": {
  "kernelspec": {
   "display_name": "Python 3",
   "language": "python",
   "name": "python3"
  },
  "language_info": {
   "codemirror_mode": {
    "name": "ipython",
    "version": 3
   },
   "file_extension": ".py",
   "mimetype": "text/x-python",
   "name": "python",
   "nbconvert_exporter": "python",
   "pygments_lexer": "ipython3",
   "version": "3.7.9"
  },
  "papermill": {
   "duration": 622.917501,
   "end_time": "2020-12-03T23:31:29.655129",
   "environment_variables": {},
   "exception": null,
   "input_path": "__notebook__.ipynb",
   "output_path": "__notebook__.ipynb",
   "parameters": {},
   "start_time": "2020-12-03T23:21:06.737628",
   "version": "2.1.0"
  }
 },
 "nbformat": 4,
 "nbformat_minor": 4
}
