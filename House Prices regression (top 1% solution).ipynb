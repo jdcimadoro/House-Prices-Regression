{
 "cells": [
  {
   "cell_type": "markdown",
   "metadata": {},
   "source": [
    "This competition's dataset provides 79 explanatory variables describing (almost) every aspect of residential homes in Ames, Iowa.\n",
    "\n",
    "This competition challenges you to predict the final price of each home."
   ]
  },
  {
   "cell_type": "markdown",
   "metadata": {},
   "source": [
    "# Step 0 - Preliminaries\n",
    "First, i will import common packages and set some notebook defaults."
   ]
  },
  {
   "cell_type": "code",
   "execution_count": 1,
   "metadata": {
    "_cell_guid": "b1076dfc-b9ad-4769-8c92-a6c4dae69d19",
    "_uuid": "8f2839f25d086af736a60e9eeb907d3b93b6e0e5",
    "execution": {
     "iopub.execute_input": "2020-12-03T23:21:11.915723Z",
     "iopub.status.busy": "2020-12-03T23:21:11.914638Z",
     "iopub.status.idle": "2020-12-03T23:21:11.919910Z",
     "shell.execute_reply": "2020-12-03T23:21:11.920526Z"
    },
    "papermill": {
     "duration": 0.096315,
     "end_time": "2020-12-03T23:21:11.920697",
     "exception": false,
     "start_time": "2020-12-03T23:21:11.824382",
     "status": "completed"
    },
    "tags": []
   },
   "outputs": [],
   "source": [
    "# Importing common packages.\n",
    "import os                                        #For communication with the Operative System.\n",
    "import warnings                                  #Just in case I need to hide some warnings.\n",
    "\n",
    "import numpy as np               \n",
    "import pandas as pd              \n",
    "\n",
    "#Graphical and plotting packages:\n",
    "import matplotlib.pyplot as plt\n",
    "import seaborn as sns\n",
    "#from IPython.display import display              #Public API for display tools in IPython.\n",
    "\n",
    "from pandas.api.types import CategoricalDtype    #Check if the provided array or dtype is Categorical\n",
    "\n",
    "#Feature Engineering\n",
    "from sklearn.feature_selection import mutual_info_regression   #Mutual Information\n",
    "from category_encoders import MEstimateEncoder   #Target encoding \n",
    "from sklearn.cluster import KMeans               #Clustering\n",
    "from sklearn.decomposition import PCA            #Principal Component Analysis\n",
    "from sklearn.feature_selection import RFECV                 #Recursive Feature Selection\n",
    "\n",
    "#Models\n",
    "from sklearn.model_selection import train_test_split as tts\n",
    "from sklearn.model_selection import KFold, cross_val_score\n",
    "import sklearn.linear_model as linear_model\n",
    "from sklearn.ensemble import RandomForestClassifier\n",
    "from xgboost import XGBRegressor\n",
    "from mlxtend.regressor import StackingCVRegressor\n",
    "\n",
    "#import dabl                                      #Data Analysis and ML Automation\n",
    "from sklearn.metrics import mean_squared_error              #Metric\n",
    "\n",
    "# Mute warnings\n",
    "warnings.filterwarnings('ignore')"
   ]
  },
  {
   "cell_type": "code",
   "execution_count": 2,
   "metadata": {
    "execution": {
     "iopub.execute_input": "2020-12-03T23:21:12.063801Z",
     "iopub.status.busy": "2020-12-03T23:21:12.062867Z",
     "iopub.status.idle": "2020-12-03T23:21:26.746149Z",
     "shell.execute_reply": "2020-12-03T23:21:26.745492Z"
    },
    "papermill": {
     "duration": 14.751777,
     "end_time": "2020-12-03T23:21:26.746296",
     "exception": false,
     "start_time": "2020-12-03T23:21:11.994519",
     "status": "completed"
    },
    "tags": []
   },
   "outputs": [],
   "source": [
    "#!pip install category_encoders\n",
    "#!pip install dabl\n",
    "#!pip install xgboost\n",
    "#!pip install lightgbm"
   ]
  },
  {
   "cell_type": "code",
   "execution_count": 3,
   "metadata": {
    "execution": {
     "iopub.execute_input": "2020-12-03T23:21:45.749389Z",
     "iopub.status.busy": "2020-12-03T23:21:45.748539Z",
     "iopub.status.idle": "2020-12-03T23:21:45.781676Z",
     "shell.execute_reply": "2020-12-03T23:21:45.780888Z"
    },
    "papermill": {
     "duration": 0.11302,
     "end_time": "2020-12-03T23:21:45.781798",
     "exception": false,
     "start_time": "2020-12-03T23:21:45.668778",
     "status": "completed"
    },
    "tags": []
   },
   "outputs": [],
   "source": [
    "# Set Matplotlib defaults\n",
    "%matplotlib inline\n",
    "plt.style.use(\"seaborn-whitegrid\")\n",
    "plt.rc(\"figure\", autolayout=True)\n",
    "plt.rc(\n",
    "    \"axes\",\n",
    "    labelweight=\"bold\",\n",
    "    labelsize=\"large\",\n",
    "    titleweight=\"bold\",\n",
    "    titlesize=14,\n",
    "    titlepad=10\n",
    ")"
   ]
  },
  {
   "cell_type": "markdown",
   "metadata": {},
   "source": [
    "# Step 1 - Extract, Transform and Loading + Baseline"
   ]
  },
  {
   "cell_type": "markdown",
   "metadata": {},
   "source": [
    "Let's preprocess the data to get it in a form suitable for analysis. \n",
    "\n",
    "For the Ames competition dataset, I'll need to:\n",
    "\n",
    "-Load the data from CSV files\n",
    "-Clean the data to fix any errors or inconsistencies\n",
    "-Encode the statistical data type (numeric, categorical)\n",
    "-Impute any missing values\n",
    "\n",
    "I'll wrap all these steps up in a function, which will make it easy to apply to new dataframes whenever I need."
   ]
  },
  {
   "cell_type": "markdown",
   "metadata": {},
   "source": [
    "## 1.1 Path of data.\n",
    "It loads the data from CSV files in my GitHub, and apply clean, encode and impute functions, that will be defined later in this step."
   ]
  },
  {
   "cell_type": "code",
   "execution_count": 4,
   "metadata": {
    "_cell_guid": "79c7e3d0-c299-4dcb-8224-4455121ee9b0",
    "_uuid": "d629ff2d2480ee46fbb7e2d37f6b5fab8052498a",
    "execution": {
     "iopub.execute_input": "2020-12-03T23:21:46.397904Z",
     "iopub.status.busy": "2020-12-03T23:21:46.396739Z",
     "iopub.status.idle": "2020-12-03T23:21:46.469526Z",
     "shell.execute_reply": "2020-12-03T23:21:46.468704Z"
    },
    "papermill": {
     "duration": 0.155693,
     "end_time": "2020-12-03T23:21:46.469664",
     "exception": false,
     "start_time": "2020-12-03T23:21:46.313971",
     "status": "completed"
    },
    "tags": []
   },
   "outputs": [],
   "source": [
    "#Load the data\n",
    "\n",
    "def load_data():\n",
    "    # Read data\n",
    "    data_dir = \"https://raw.githubusercontent.com/jdcimadoro/House-Prices-Regression/main/\"\n",
    "    df_train = pd.read_csv(data_dir + \"train.csv\", index_col=\"Id\")\n",
    "    df_test = pd.read_csv(data_dir + \"test.csv\", index_col=\"Id\")\n",
    "    # Merge the splits so I can preprocess them together\n",
    "    df = pd.concat([df_train, df_test])\n",
    "    # Preprocessing\n",
    "    df = clean(df)\n",
    "    df = encode(df)\n",
    "    df = impute(df)\n",
    "    # Undo merge, reform splits.\n",
    "    df_train = df.loc[df_train.index, :]\n",
    "    df_test = df.loc[df_test.index, :]\n",
    "    return df_train, df_test"
   ]
  },
  {
   "cell_type": "markdown",
   "metadata": {},
   "source": [
    "## 1.2 Clean Data.\n",
    "\n",
    "Some of the categorical features in this dataset have what are apparently typos in their categories.\n",
    "Comparing these to data_description.txt shows me what needs cleaning."
   ]
  },
  {
   "cell_type": "code",
   "execution_count": 5,
   "metadata": {},
   "outputs": [],
   "source": [
    "def clean(df):\n",
    "    # There are some typos in Exterior2nd, so lets replace them\n",
    "    df[\"Exterior2nd\"] = df[\"Exterior2nd\"].replace({\"Brk Cmn\": \"BrkComm\"})\n",
    "    # Some values of GarageYrBlt are corrupt, so I'll replace them\n",
    "    # with the year the house was built\n",
    "    df[\"GarageYrBlt\"] = df[\"GarageYrBlt\"].where(df.GarageYrBlt <= 2010, df.YearBuilt)\n",
    "    # I prefer don't work with names beginning with numbers\n",
    "    df.rename(columns={\n",
    "        \"1stFlrSF\": \"FirstFlrSF\",\n",
    "        \"2ndFlrSF\": \"SecondFlrSF\",\n",
    "        \"3SsnPorch\": \"Threeseasonporch\",\n",
    "    }, inplace=True,\n",
    "    )\n",
    "    return df"
   ]
  },
  {
   "cell_type": "code",
   "execution_count": 6,
   "metadata": {},
   "outputs": [],
   "source": [
    "# Read data\n",
    "#data_dir = \"https://raw.githubusercontent.com/jdcimadoro/House-Prices-Regression/main/\"\n",
    "#df_train = pd.read_csv(data_dir + \"train.csv\", index_col=\"Id\")\n",
    "#df_test = pd.read_csv(data_dir + \"test.csv\", index_col=\"Id\")\n",
    "# Merge the splits so I can preprocess them together\n",
    "#df = pd.concat([df_train, df_test])"
   ]
  },
  {
   "cell_type": "code",
   "execution_count": 7,
   "metadata": {},
   "outputs": [],
   "source": [
    "#df_objects = df[df.columns.where(df.dtypes == object).dropna()]\n",
    "#df_objects\n",
    "#for col,value in df_objects.iteritems():\n",
    "#    print ('*'*20)\n",
    "#    print (\"%s: %s\" % (col,value.unique()))\n",
    "#    print (\"Value Counts:\\n%s\" % value.value_counts())"
   ]
  },
  {
   "cell_type": "markdown",
   "metadata": {},
   "source": [
    "## 1.3 Encode.\n",
    "\n",
    "Encoding each feature with its correct type helps ensure each feature is treated appropriately by functions,\n",
    "and makes it easier to apply transformations."
   ]
  },
  {
   "cell_type": "code",
   "execution_count": 8,
   "metadata": {
    "papermill": {
     "duration": 0.075133,
     "end_time": "2020-12-03T23:21:46.620152",
     "exception": false,
     "start_time": "2020-12-03T23:21:46.545019",
     "status": "completed"
    },
    "tags": []
   },
   "outputs": [],
   "source": [
    "# Data_description.txt has a full description of each column.\n",
    "\n",
    "# The numeric features are already encoded correctly (`float`, `int`)\n",
    "# but I need to do it by myself with categoricals. \n",
    "# Note in particular, that the `MSSubClass` feature is read as an `int` type,\n",
    "# but is actually a (nominative) categorical.\n",
    "\n",
    "# The nominative (unordered) categorical features\n",
    "features_nom = [\"MSSubClass\", \"MSZoning\", \"Street\", \"Alley\", \"LandContour\", \"LotConfig\", \n",
    "                \"Neighborhood\", \"Condition1\", \"Condition2\", \"BldgType\", \"HouseStyle\", \"RoofStyle\", \n",
    "                \"RoofMatl\", \"Exterior1st\", \"Exterior2nd\", \"MasVnrType\", \"Foundation\", \"Heating\", \n",
    "                \"CentralAir\", \"GarageType\", \"MiscFeature\", \"SaleType\", \"SaleCondition\"\n",
    "               ]\n",
    "\n",
    "\n",
    "# The ordinal (ordered) categorical features \n",
    "\n",
    "# Pandas calls the categories \"levels\"\n",
    "five_levels = [\"Po\", \"Fa\", \"TA\", \"Gd\", \"Ex\"]\n",
    "ten_levels = list(range(10))\n",
    "\n",
    "ordered_levels = {\n",
    "    \"OverallQual\": ten_levels,\n",
    "    \"OverallCond\": ten_levels,\n",
    "    \"ExterQual\": five_levels,\n",
    "    \"ExterCond\": five_levels,\n",
    "    \"BsmtQual\": five_levels,\n",
    "    \"BsmtCond\": five_levels,\n",
    "    \"HeatingQC\": five_levels,\n",
    "    \"KitchenQual\": five_levels,\n",
    "    \"FireplaceQu\": five_levels,\n",
    "    \"GarageQual\": five_levels,\n",
    "    \"GarageCond\": five_levels,\n",
    "    \"PoolQC\": five_levels,\n",
    "    \"LotShape\": [\"Reg\", \"IR1\", \"IR2\", \"IR3\"],\n",
    "    \"LandSlope\": [\"Sev\", \"Mod\", \"Gtl\"],\n",
    "    \"BsmtExposure\": [\"No\", \"Mn\", \"Av\", \"Gd\"],\n",
    "    \"BsmtFinType1\": [\"Unf\", \"LwQ\", \"Rec\", \"BLQ\", \"ALQ\", \"GLQ\"],\n",
    "    \"BsmtFinType2\": [\"Unf\", \"LwQ\", \"Rec\", \"BLQ\", \"ALQ\", \"GLQ\"],\n",
    "    \"Functional\": [\"Sal\", \"Sev\", \"Maj1\", \"Maj2\", \"Mod\", \"Min2\", \"Min1\", \"Typ\"],\n",
    "    \"GarageFinish\": [\"Unf\", \"RFn\", \"Fin\"],\n",
    "    \"PavedDrive\": [\"N\", \"P\", \"Y\"],\n",
    "    \"Utilities\": [\"NoSeWa\", \"NoSewr\", \"AllPub\"],\n",
    "    \"CentralAir\": [\"N\", \"Y\"],\n",
    "    \"Electrical\": [\"Mix\", \"FuseP\", \"FuseF\", \"FuseA\", \"SBrkr\"],\n",
    "    \"Fence\": [\"MnWw\", \"GdWo\", \"MnPrv\", \"GdPrv\"],\n",
    "}\n",
    "\n",
    "# Add a None level for missing values\n",
    "ordered_levels = {key: [\"None\"] + value for key, value in\n",
    "                  ordered_levels.items()}\n",
    "\n",
    "\n",
    "def encode(df):\n",
    "    # Nominal categories\n",
    "    for name in features_nom:\n",
    "        df[name] = df[name].astype(\"category\")\n",
    "        # Add a None category for missing values\n",
    "        if \"None\" not in df[name].cat.categories:\n",
    "            df[name].cat.add_categories(\"None\", inplace=True)\n",
    "    # Ordinal categories\n",
    "    for name, levels in ordered_levels.items():\n",
    "        df[name] = df[name].astype(CategoricalDtype(levels,\n",
    "                                                    ordered=True))\n",
    "    return df"
   ]
  },
  {
   "cell_type": "markdown",
   "metadata": {
    "execution": {
     "iopub.execute_input": "2020-12-03T23:21:46.821605Z",
     "iopub.status.busy": "2020-12-03T23:21:46.820405Z",
     "iopub.status.idle": "2020-12-03T23:21:46.866764Z",
     "shell.execute_reply": "2020-12-03T23:21:46.867413Z"
    },
    "papermill": {
     "duration": 0.171363,
     "end_time": "2020-12-03T23:21:46.867573",
     "exception": false,
     "start_time": "2020-12-03T23:21:46.696210",
     "status": "completed"
    },
    "tags": []
   },
   "source": [
    "## 1.4 Imputation.\n",
    "\n",
    "Handling missing values now will make the feature engineering go more smoothly.\n",
    "I'll impute 0 for missing numeric values and \"None\" for missing categorical values.\n",
    "\n"
   ]
  },
  {
   "cell_type": "code",
   "execution_count": 9,
   "metadata": {},
   "outputs": [],
   "source": [
    "#Later, I will try creating \"missing value\" indicators: 1 whenever a value was imputed and 0 otherwise.\n",
    "\n",
    "def impute(df):\n",
    "    for name in df.select_dtypes(\"number\"):\n",
    "        df[name] = df[name].fillna(0)\n",
    "    for name in df.select_dtypes(\"category\"):\n",
    "        df[name] = df[name].fillna(\"None\")\n",
    "    return df"
   ]
  },
  {
   "cell_type": "markdown",
   "metadata": {},
   "source": [
    "## 1.5 Loading and exploring data."
   ]
  },
  {
   "cell_type": "code",
   "execution_count": 10,
   "metadata": {},
   "outputs": [],
   "source": [
    "# Now I can call the data loader and get the preprocessed data splits\n",
    "\n",
    "df_train, df_test = load_data()\n",
    "\n",
    "# Exploring the result data.\n",
    "\n",
    "#df_train.head()\n",
    "#df_test.head()\n",
    "\n",
    "# Display information about dtypes and missing values\n",
    "#df_train.info()\n",
    "#df_test.info()"
   ]
  },
  {
   "cell_type": "markdown",
   "metadata": {},
   "source": [
    "## 1.6 Baseline. \n",
    "I will stablish a baseline score to efficiently judge wheter future changes pay off or not."
   ]
  },
  {
   "cell_type": "code",
   "execution_count": 11,
   "metadata": {},
   "outputs": [],
   "source": [
    "#This function will compute the cross-validated RMSLE score, using a default XGBoost as model.\n",
    "\n",
    "def score_dataset(X, y, model=XGBRegressor()):\n",
    "    # Label encoding for categoricals\n",
    "    #\n",
    "    # Label encoding is good for XGBoost and RandomForest, but one-hot\n",
    "    # would be better for models like Lasso or Ridge. The `cat.codes`\n",
    "    # attribute holds the category levels.\n",
    "    for colname in X.select_dtypes([\"category\"]):\n",
    "        X[colname] = X[colname].cat.codes\n",
    "    # Metric for Housing competition is RMSLE (Root Mean Squared Log Error)\n",
    "    log_y = np.log(y)\n",
    "    score = cross_val_score(\n",
    "        model, X, log_y, cv=5, scoring=\"neg_mean_squared_error\",\n",
    "    )\n",
    "    score = -1 * score.mean()\n",
    "    score = np.sqrt(score)\n",
    "    return score"
   ]
  },
  {
   "cell_type": "code",
   "execution_count": 12,
   "metadata": {},
   "outputs": [
    {
     "name": "stdout",
     "output_type": "stream",
     "text": [
      "Baseline score: 0.14351 RMSLE\n"
     ]
    }
   ],
   "source": [
    "# Baseline Score\n",
    "\n",
    "X = df_train.copy()\n",
    "y = X.pop(\"SalePrice\")\n",
    "\n",
    "baseline_score = score_dataset(X, y)\n",
    "print(f\"Baseline score: {baseline_score:.5f} RMSLE\")"
   ]
  },
  {
   "cell_type": "markdown",
   "metadata": {},
   "source": [
    "# ***** Baseline score: 0.14351 RMSLE *****\n",
    "\n",
    "This baseline score help me to know whether some set of features I've assembled has actually led to any improvement or not."
   ]
  },
  {
   "cell_type": "markdown",
   "metadata": {},
   "source": [
    "# Step 2 - Feature Utility and Common-Valued Features.\n",
    "I will use mutual information to compute a \"utility score\" for a feature, giving an indication of how much potential the feature has."
   ]
  },
  {
   "cell_type": "markdown",
   "metadata": {},
   "source": [
    "## 2.1 Mutual Information."
   ]
  },
  {
   "cell_type": "code",
   "execution_count": 13,
   "metadata": {},
   "outputs": [],
   "source": [
    "# The mutual information function itself\n",
    "def make_mi_scores(X, y):\n",
    "    X = X.copy()\n",
    "    for colname in X.select_dtypes([\"object\", \"category\"]):\n",
    "        X[colname], _ = X[colname].factorize()\n",
    "    # All discrete features should now have integer dtypes\n",
    "    discrete_features = X.dtypes == int\n",
    "    mi_scores = mutual_info_regression(X, y, discrete_features=discrete_features, random_state=0)\n",
    "    mi_scores = pd.Series(mi_scores, name=\"MI Scores\", index=X.columns)\n",
    "    mi_scores = mi_scores.sort_values(ascending=False)\n",
    "    return mi_scores\n",
    "\n",
    "# The plot utility\n",
    "def plot_mi_scores(scores):\n",
    "    scores = scores.sort_values(ascending=True)\n",
    "    width = np.arange(len(scores))\n",
    "    ticks = list(scores.index)\n",
    "    color = np.array([\"C0\"] * scores.shape[0])\n",
    "    # Color red for probes\n",
    "    idx = [i for i, col in enumerate(scores.index)\n",
    "           if col.startswith(\"PROBE\")]\n",
    "    color[idx] = \"C3\"\n",
    "    # Create plot\n",
    "    plt.barh(width, scores, color=color)\n",
    "    plt.yticks(width, ticks)\n",
    "    plt.title(\"Mutual Information Scores\")"
   ]
  },
  {
   "cell_type": "code",
   "execution_count": 14,
   "metadata": {
    "scrolled": false
   },
   "outputs": [
    {
     "data": {
      "image/png": "[encoded data removed]",
      "text/plain": [
       "<Figure size 864x1296 with 1 Axes>"
      ]
     },
     "metadata": {},
     "output_type": "display_data"
    }
   ],
   "source": [
    "# Let's look at our feature scores:\n",
    "X = df_train.copy()\n",
    "y = X.pop(\"SalePrice\")\n",
    "\n",
    "mi_scores = make_mi_scores(X, y)\n",
    "plt.figure(figsize=(12,18))\n",
    "plot_mi_scores(mi_scores)"
   ]
  },
  {
   "cell_type": "markdown",
   "metadata": {},
   "source": [
    "So there are a number of features that are highly informative and also some that don't seem to be informative at all (at least by themselves). \n",
    "I will focus my efforts in the top scoring features during feature development.\n",
    "Also, it's well known that training on uninformative features can lead to overfitting, so I will drop entirely the features with a score lower than 0.00."
   ]
  },
  {
   "cell_type": "code",
   "execution_count": 15,
   "metadata": {},
   "outputs": [],
   "source": [
    "#I will define a function to drop uninformative features from the dataset\n",
    "def drop_uninformative(df, mi_scores):\n",
    "    return df.loc[:, mi_scores > 0.0]\n",
    "\n",
    "# Removing them does lead to a modest performance gain.\n",
    "# Later, I'll add the drop_uninformative function to the feature-creation pipeline."
   ]
  },
  {
   "cell_type": "markdown",
   "metadata": {},
   "source": [
    "## 2.2 Dropping features with majority of common values."
   ]
  },
  {
   "cell_type": "code",
   "execution_count": 16,
   "metadata": {},
   "outputs": [],
   "source": [
    "# Deleting features with more than a certain percentage of common values in both dataset because these \n",
    "# features won't be efficient to predict \"SalePrice\".\n",
    "\n",
    "def rem_features_with_common(df, percentage):\n",
    "    features_with_common = []\n",
    "    for col,value in df.iteritems():\n",
    "        counts = df[col].value_counts()\n",
    "        zeros = counts.iloc[0]\n",
    "        if (zeros / len(df)) > (percentage/100):\n",
    "            features_with_common.append(col)\n",
    "    return df.drop(list(features_with_common), axis=1)\n",
    "    print (\"List of columns that have been removed from dataset:\\n\", features_with_common)\n",
    "\n",
    "# Later, I'll add the rem_features_with_common function to the feature-creation pipeline."
   ]
  },
  {
   "cell_type": "markdown",
   "metadata": {},
   "source": [
    "# Step 3 - Feature Engineering.\n",
    "\n",
    "Now I'll start developing the feature set.\n",
    "\n",
    "To make the feature engineering workflow more modular, I'll define a function that will take a prepared dataframe and pass it through a pipeline of transformations to get the final feature set."
   ]
  },
  {
   "cell_type": "markdown",
   "metadata": {},
   "source": [
    "## 3.1 Label Encoding for Categorical Data."
   ]
  },
  {
   "cell_type": "code",
   "execution_count": 17,
   "metadata": {
    "execution": {
     "iopub.execute_input": "2020-12-03T23:21:56.492198Z",
     "iopub.status.busy": "2020-12-03T23:21:56.491131Z",
     "iopub.status.idle": "2020-12-03T23:21:56.520274Z",
     "shell.execute_reply": "2020-12-03T23:21:56.521448Z"
    },
    "papermill": {
     "duration": 0.133972,
     "end_time": "2020-12-03T23:21:56.521679",
     "exception": false,
     "start_time": "2020-12-03T23:21:56.387707",
     "status": "completed"
    },
    "tags": []
   },
   "outputs": [],
   "source": [
    "# Let's go ahead and define one transformation now, a label encoding for the categorical features:\n",
    "def label_encode(df):\n",
    "    X = df.copy()\n",
    "    for colname in X.select_dtypes([\"category\"]):\n",
    "        X[colname] = X[colname].cat.codes\n",
    "    return X"
   ]
  },
  {
   "cell_type": "markdown",
   "metadata": {},
   "source": [
    "## 3.2 Creating New Features by hand."
   ]
  },
  {
   "cell_type": "code",
   "execution_count": 18,
   "metadata": {
    "execution": {
     "iopub.execute_input": "2020-12-03T23:23:40.502931Z",
     "iopub.status.busy": "2020-12-03T23:23:40.501367Z",
     "iopub.status.idle": "2020-12-03T23:23:40.526438Z",
     "shell.execute_reply": "2020-12-03T23:23:40.525844Z"
    },
    "papermill": {
     "duration": 0.125967,
     "end_time": "2020-12-03T23:23:40.526544",
     "exception": false,
     "start_time": "2020-12-03T23:23:40.400577",
     "status": "completed"
    },
    "tags": []
   },
   "outputs": [],
   "source": [
    "#Next, I will create features by usint three different approachs.\n",
    "\n",
    "#First, simple mathematical transformations, combining different features.\n",
    "#    Those were discussed in specialized forums in Kaggle, so I just took the \"recipe\" from other people.\n",
    "\n",
    "def mathematical_transforms(df):\n",
    "    X = pd.DataFrame()  # dataframe to hold new features\n",
    "    X[\"LivLotRatio\"] = df.GrLivArea / df.LotArea\n",
    "    X[\"Spaciousness\"] = (df.FirstFlrSF + df.SecondFlrSF) / df.TotRmsAbvGrd\n",
    "    # This feature ended up not helping performance\n",
    "    # X[\"TotalOutsideSF\"] = \\\n",
    "    #     df.WoodDeckSF + df.OpenPorchSF + df.EnclosedPorch + \\\n",
    "    #     df.Threeseasonporch + df.ScreenPorch\n",
    "    return X\n",
    "\n",
    "#Second, I will use a dummificator but with the GrLivArea as a weight criteria.\n",
    "#    This is the \"interactions\" function\n",
    "\n",
    "def interactions(df):\n",
    "    X = pd.get_dummies(df.BldgType, prefix=\"Bldg\")\n",
    "    X = X.mul(df.GrLivArea, axis=0)\n",
    "    return X\n",
    "\n",
    "#Third, I will create a feature that counts the number of Porch types.\n",
    "#    The combination of all these features seems to create a more informative feature.\n",
    "\n",
    "def counts(df):\n",
    "    X = pd.DataFrame()\n",
    "    X[\"PorchTypes\"] = df[[\n",
    "        \"WoodDeckSF\",\n",
    "        \"OpenPorchSF\",\n",
    "        \"EnclosedPorch\",\n",
    "        \"Threeseasonporch\",\n",
    "        \"ScreenPorch\",\n",
    "    ]].gt(0.0).sum(axis=1)\n",
    "    return X\n",
    "\n",
    "#Fourth, create MedNhbdArea for taking account of the median GrLivArea of the Neighborhood.\n",
    "\n",
    "def group_transforms(df):\n",
    "    X = pd.DataFrame()\n",
    "    X[\"MedNhbdArea\"] = df.groupby(\"Neighborhood\")[\"GrLivArea\"].transform(\"median\")\n",
    "    return X"
   ]
  },
  {
   "cell_type": "code",
   "execution_count": 19,
   "metadata": {},
   "outputs": [],
   "source": [
    "# ***********************\n",
    "\n",
    "def break_down(df):\n",
    "    X = pd.DataFrame()\n",
    "    X[\"MSClass\"] = df.MSSubClass.str.split(\"_\", n=1, expand=True)[0]\n",
    "    return X\n",
    "\n",
    "#************************"
   ]
  },
  {
   "cell_type": "markdown",
   "metadata": {
    "execution": {
     "iopub.execute_input": "2020-12-03T23:23:40.719302Z",
     "iopub.status.busy": "2020-12-03T23:23:40.716614Z",
     "iopub.status.idle": "2020-12-03T23:23:40.740185Z",
     "shell.execute_reply": "2020-12-03T23:23:40.739058Z"
    },
    "papermill": {
     "duration": 0.123777,
     "end_time": "2020-12-03T23:23:40.740312",
     "exception": false,
     "start_time": "2020-12-03T23:23:40.616535",
     "status": "completed"
    },
    "tags": []
   },
   "source": [
    "## 3.3 k-Means Clustering.\n",
    "\n",
    "I will use two diffenet approachs to create features with clustering.\n",
    "\n",
    "On one hand, I could use the cluster labels as a feature (a column with 0, 1, 2, ...)\n",
    "\n",
    "On the other hand, I could use the distance of the observations to each cluster, it can sometimes be effective at untangling complicated spatial relationships."
   ]
  },
  {
   "cell_type": "code",
   "execution_count": 20,
   "metadata": {
    "execution": {
     "iopub.execute_input": "2020-12-03T23:23:41.325118Z",
     "iopub.status.busy": "2020-12-03T23:23:41.323126Z",
     "iopub.status.idle": "2020-12-03T23:23:41.331011Z",
     "shell.execute_reply": "2020-12-03T23:23:41.331873Z"
    },
    "papermill": {
     "duration": 0.109032,
     "end_time": "2020-12-03T23:23:41.332051",
     "exception": false,
     "start_time": "2020-12-03T23:23:41.223019",
     "status": "completed"
    },
    "tags": []
   },
   "outputs": [],
   "source": [
    "cluster_features = [\n",
    "    \"LotArea\",\n",
    "    \"TotalBsmtSF\",\n",
    "    \"FirstFlrSF\",\n",
    "    \"SecondFlrSF\",\n",
    "    \"GrLivArea\",\n",
    "]\n",
    "\n",
    "#Remember that clustering needs normalization.\n",
    "\n",
    "def cluster_labels(df, features, n_clusters=20):\n",
    "    X = df.copy()\n",
    "    X_scaled = X.loc[:, features]\n",
    "    X_scaled = (X_scaled - X_scaled.mean(axis=0)) / X_scaled.std(axis=0)\n",
    "    kmeans = KMeans(n_clusters=n_clusters, n_init=50, random_state=0)\n",
    "    X_new = pd.DataFrame()\n",
    "    X_new[\"Cluster\"] = kmeans.fit_predict(X_scaled)\n",
    "    return X_new\n",
    "\n",
    "\n",
    "def cluster_distance(df, features, n_clusters=20):\n",
    "    X = df.copy()\n",
    "    X_scaled = X.loc[:, features]\n",
    "    X_scaled = (X_scaled - X_scaled.mean(axis=0)) / X_scaled.std(axis=0)\n",
    "    kmeans = KMeans(n_clusters=20, n_init=50, random_state=0)\n",
    "    X_cd = kmeans.fit_transform(X_scaled)\n",
    "    # Label features and join to dataset\n",
    "    X_cd = pd.DataFrame(\n",
    "        X_cd, columns=[f\"Centroid_{i}\" for i in range(X_cd.shape[1])]\n",
    "    )\n",
    "    return X_cd"
   ]
  },
  {
   "cell_type": "markdown",
   "metadata": {
    "execution": {
     "iopub.execute_input": "2020-12-03T23:23:40.929487Z",
     "iopub.status.busy": "2020-12-03T23:23:40.927543Z",
     "iopub.status.idle": "2020-12-03T23:23:40.930230Z",
     "shell.execute_reply": "2020-12-03T23:23:40.930726Z"
    },
    "papermill": {
     "duration": 0.100445,
     "end_time": "2020-12-03T23:23:40.930842",
     "exception": false,
     "start_time": "2020-12-03T23:23:40.830397",
     "status": "completed"
    },
    "tags": []
   },
   "source": [
    "## 3.4 Principal Component Analysis.\n",
    "\n",
    "PCA could be used to decompose the variational structure in the data. \n",
    "The PCA algorithm gave us loadings which described each component of variation, and also the components which were the transformed datapoints.\n",
    "The loadings can suggest features to create and the components I can use as features directly."
   ]
  },
  {
   "cell_type": "code",
   "execution_count": 21,
   "metadata": {
    "execution": {
     "iopub.execute_input": "2020-12-03T23:23:41.122815Z",
     "iopub.status.busy": "2020-12-03T23:23:41.121920Z",
     "iopub.status.idle": "2020-12-03T23:23:41.129618Z",
     "shell.execute_reply": "2020-12-03T23:23:41.129037Z"
    },
    "papermill": {
     "duration": 0.108364,
     "end_time": "2020-12-03T23:23:41.129748",
     "exception": false,
     "start_time": "2020-12-03T23:23:41.021384",
     "status": "completed"
    },
    "tags": []
   },
   "outputs": [],
   "source": [
    "def apply_pca(X, standardize=True):\n",
    "    # Standardize\n",
    "    if standardize:\n",
    "        X = (X - X.mean(axis=0)) / X.std(axis=0)\n",
    "    # Create principal components\n",
    "    pca = PCA()\n",
    "    X_pca = pca.fit_transform(X)\n",
    "    # Convert to dataframe\n",
    "    component_names = [f\"PC{i+1}\" for i in range(X_pca.shape[1])]\n",
    "    X_pca = pd.DataFrame(X_pca, columns=component_names)\n",
    "    # Create loadings\n",
    "    loadings = pd.DataFrame(\n",
    "        pca.components_.T,  # transpose the matrix of loadings\n",
    "        columns=component_names,  # so the columns are the principal components\n",
    "        index=X.columns,  # and the rows are the original features\n",
    "    )\n",
    "    return pca, X_pca, loadings\n",
    "\n",
    "\n",
    "def plot_variance(pca, width=8, dpi=100):\n",
    "    # Create figure\n",
    "    fig, axs = plt.subplots(1, 2)\n",
    "    n = pca.n_components_\n",
    "    grid = np.arange(1, n + 1)\n",
    "    # Explained variance\n",
    "    evr = pca.explained_variance_ratio_\n",
    "    axs[0].bar(grid, evr)\n",
    "    axs[0].set(\n",
    "        xlabel=\"Component\", title=\"% Explained Variance\", ylim=(0.0, 1.0)\n",
    "    )\n",
    "    # Cumulative Variance\n",
    "    cv = np.cumsum(evr)\n",
    "    axs[1].plot(np.r_[0, grid], np.r_[0, cv], \"o-\")\n",
    "    axs[1].set(\n",
    "        xlabel=\"Component\", title=\"% Cumulative Variance\", ylim=(0.0, 1.0)\n",
    "    )\n",
    "    # Set up figure\n",
    "    fig.set(figwidth=8, dpi=100)\n",
    "    return axs"
   ]
  },
  {
   "cell_type": "markdown",
   "metadata": {},
   "source": [
    "Some interesting features obtained by using PCA analysis:"
   ]
  },
  {
   "cell_type": "code",
   "execution_count": 22,
   "metadata": {},
   "outputs": [],
   "source": [
    "def pca_inspired(df):\n",
    "    X = pd.DataFrame()\n",
    "    X[\"Feature1\"] = df.GrLivArea + df.TotalBsmtSF\n",
    "    X[\"Feature2\"] = df.YearRemodAdd * df.TotalBsmtSF\n",
    "    return X\n",
    "\n",
    "\n",
    "def pca_components(df, features):\n",
    "    X = df.loc[:, features]\n",
    "    _, X_pca, _ = apply_pca(X)\n",
    "    return X_pca\n",
    "\n",
    "pca_features = [\n",
    "    \"GarageArea\",\n",
    "    \"YearRemodAdd\",\n",
    "    \"TotalBsmtSF\",\n",
    "    \"GrLivArea\",\n",
    "]"
   ]
  },
  {
   "cell_type": "markdown",
   "metadata": {
    "execution": {
     "iopub.execute_input": "2020-12-03T23:23:41.527226Z",
     "iopub.status.busy": "2020-12-03T23:23:41.526267Z",
     "iopub.status.idle": "2020-12-03T23:23:41.529432Z",
     "shell.execute_reply": "2020-12-03T23:23:41.528918Z"
    },
    "papermill": {
     "duration": 0.104688,
     "end_time": "2020-12-03T23:23:41.529569",
     "exception": false,
     "start_time": "2020-12-03T23:23:41.424881",
     "status": "completed"
    },
    "tags": []
   },
   "source": [
    "## 3.5 Correlation matrix\n",
    "\n",
    "Groups of highly correlated features often yield interesting loadings."
   ]
  },
  {
   "cell_type": "code",
   "execution_count": 23,
   "metadata": {
    "execution": {
     "iopub.execute_input": "2020-12-03T23:23:41.721159Z",
     "iopub.status.busy": "2020-12-03T23:23:41.720232Z",
     "iopub.status.idle": "2020-12-03T23:23:41.723640Z",
     "shell.execute_reply": "2020-12-03T23:23:41.723111Z"
    },
    "papermill": {
     "duration": 0.104424,
     "end_time": "2020-12-03T23:23:41.723747",
     "exception": false,
     "start_time": "2020-12-03T23:23:41.619323",
     "status": "completed"
    },
    "tags": []
   },
   "outputs": [
    {
     "data": {
      "image/png": "[encoded data removed]",
      "text/plain": [
       "<Figure size 720x720 with 4 Axes>"
      ]
     },
     "metadata": {},
     "output_type": "display_data"
    }
   ],
   "source": [
    "def corrplot(df, method=\"pearson\", annot=True, **kwargs):\n",
    "    sns.clustermap(\n",
    "        df.corr(method),\n",
    "        vmin=-1.0,\n",
    "        vmax=1.0,\n",
    "        cmap=\"icefire\",\n",
    "        method=\"complete\",\n",
    "        annot=annot,\n",
    "        **kwargs,\n",
    "    )\n",
    "\n",
    "# Probably, it is possible to obtain new features by looking at correlation matrix:\n",
    "corrplot(df_train, annot=None)\n",
    "\n",
    "# A list of features with correlation higher than 0.5 with at least other feature:\n",
    "#(df_train.corr().gt(0.5).sum()-1).gt(0).index"
   ]
  },
  {
   "cell_type": "markdown",
   "metadata": {
    "execution": {
     "iopub.execute_input": "2020-12-03T23:23:42.180852Z",
     "iopub.status.busy": "2020-12-03T23:23:42.179709Z",
     "iopub.status.idle": "2020-12-03T23:23:42.209181Z",
     "shell.execute_reply": "2020-12-03T23:23:42.208579Z"
    },
    "papermill": {
     "duration": 0.131442,
     "end_time": "2020-12-03T23:23:42.209295",
     "exception": false,
     "start_time": "2020-12-03T23:23:42.077853",
     "status": "completed"
    },
    "tags": []
   },
   "source": [
    "## 3.6 Outliers Detection."
   ]
  },
  {
   "cell_type": "markdown",
   "metadata": {
    "execution": {
     "iopub.execute_input": "2020-12-03T23:23:42.401572Z",
     "iopub.status.busy": "2020-12-03T23:23:42.400695Z",
     "iopub.status.idle": "2020-12-03T23:23:42.406839Z",
     "shell.execute_reply": "2020-12-03T23:23:42.407364Z"
    },
    "papermill": {
     "duration": 0.105503,
     "end_time": "2020-12-03T23:23:42.407498",
     "exception": false,
     "start_time": "2020-12-03T23:23:42.301995",
     "status": "completed"
    },
    "tags": []
   },
   "source": [
    "I will apply PCA to determine outliers, that is, houses having values not well represented in the rest of the data."
   ]
  },
  {
   "cell_type": "code",
   "execution_count": 65,
   "metadata": {
    "execution": {
     "iopub.execute_input": "2020-12-03T23:23:42.797180Z",
     "iopub.status.busy": "2020-12-03T23:23:42.796337Z",
     "iopub.status.idle": "2020-12-03T23:23:42.804009Z",
     "shell.execute_reply": "2020-12-03T23:23:42.804782Z"
    },
    "papermill": {
     "duration": 0.108267,
     "end_time": "2020-12-03T23:23:42.805012",
     "exception": false,
     "start_time": "2020-12-03T23:23:42.696745",
     "status": "completed"
    },
    "tags": []
   },
   "outputs": [
    {
     "data": {
      "image/png": "[encoded data removed]",
      "text/plain": [
       "<Figure size 720x720 with 4 Axes>"
      ]
     },
     "metadata": {},
     "output_type": "display_data"
    }
   ],
   "source": [
    "# For this, I will use the features with higher correlation values with SalePrice in the correlation matrix.\n",
    "\n",
    "features = [\n",
    "    \"GarageArea\",\n",
    "    \"YearRemodAdd\",\n",
    "    \"TotalBsmtSF\",\n",
    "    \"GrLivArea\",\n",
    "]\n",
    "\n",
    "X = df_train.copy()\n",
    "y = X.pop(\"SalePrice\")\n",
    "X = X.loc[:, features]\n",
    "\n",
    "# Using function 'apply_pca', defined above:\n",
    "pca, X_pca, loadings = apply_pca(X)\n",
    "\n",
    "# Plotting for easiest visual inspection\n",
    "sns.catplot(\n",
    "    y=\"value\",\n",
    "    col=\"variable\",\n",
    "    data=X_pca.melt(),\n",
    "    kind='boxen',\n",
    "    sharey=False,\n",
    "    col_wrap=2,\n",
    ");\n"
   ]
  },
  {
   "cell_type": "code",
   "execution_count": 96,
   "metadata": {
    "execution": {
     "iopub.execute_input": "2020-12-03T23:23:43.015286Z",
     "iopub.status.busy": "2020-12-03T23:23:43.014049Z",
     "iopub.status.idle": "2020-12-03T23:23:43.016497Z",
     "shell.execute_reply": "2020-12-03T23:23:43.017125Z"
    },
    "papermill": {
     "duration": 0.109895,
     "end_time": "2020-12-03T23:23:43.017256",
     "exception": false,
     "start_time": "2020-12-03T23:23:42.907361",
     "status": "completed"
    },
    "tags": []
   },
   "outputs": [],
   "source": [
    "# In each of the components there are several points lying at the extreme ends of the distributions.\n",
    "# Next code shows up those houses that sit at the extremes of a component:\n",
    "\n",
    "#component = [\"PC1\"] # It can be changed to PC2, PC3, or PC4\n",
    "#idx = X_pca[component].sort_values(by=component,ascending=False).index\n",
    "#df_train.iloc[idx][[\"SalePrice\", \"Neighborhood\", \"SaleCondition\"]+features]"
   ]
  },
  {
   "cell_type": "markdown",
   "metadata": {
    "execution": {
     "iopub.execute_input": "2020-12-03T23:23:43.219028Z",
     "iopub.status.busy": "2020-12-03T23:23:43.218094Z",
     "iopub.status.idle": "2020-12-03T23:23:43.220799Z",
     "shell.execute_reply": "2020-12-03T23:23:43.221341Z"
    },
    "papermill": {
     "duration": 0.109955,
     "end_time": "2020-12-03T23:23:43.221500",
     "exception": false,
     "start_time": "2020-12-03T23:23:43.111545",
     "status": "completed"
    },
    "tags": []
   },
   "source": [
    "Notice that there are several dwellings listed as Partial sales in the Edwards neighborhood that stand out. \n",
    "A partial sale is what occurs when there are multiple owners of a property and one or more of them sell their \"partial\" ownership of the property.\n",
    "\n",
    "These kinds of sales aren't often advertised publicly. As I am trying to predict the value of a house on the open market, I will indicate sales like these from the dataset.\n",
    "\n",
    "Some models can benefit from having these outliers indicated, which is what this next funcion will do."
   ]
  },
  {
   "cell_type": "code",
   "execution_count": 97,
   "metadata": {
    "execution": {
     "iopub.execute_input": "2020-12-03T23:23:42.600386Z",
     "iopub.status.busy": "2020-12-03T23:23:42.599543Z",
     "iopub.status.idle": "2020-12-03T23:23:42.604446Z",
     "shell.execute_reply": "2020-12-03T23:23:42.605148Z"
    },
    "papermill": {
     "duration": 0.10527,
     "end_time": "2020-12-03T23:23:42.605318",
     "exception": false,
     "start_time": "2020-12-03T23:23:42.500048",
     "status": "completed"
    },
    "tags": []
   },
   "outputs": [],
   "source": [
    "def indicate_outliers(df):\n",
    "    X_new = pd.DataFrame()\n",
    "    X_new[\"Outlier\"] = (df.Neighborhood == \"Edwards\") & (df.SaleCondition == \"Partial\")\n",
    "    return X_new"
   ]
  },
  {
   "cell_type": "markdown",
   "metadata": {},
   "source": [
    "## 3.7 Target Encoding\n",
    "\n",
    "Usually, it is needed a separate holdout set of data to create a target encoding. For example, it can be used 25% of the dataset to encode, lets say, Zipcode. The problem with this approach is that the data from the other features in that 25% is not used at all.\n",
    "\n",
    "There is, however, a way it can be used target encoding without having to use held-out encoding data. It's basically the same trick used in cross-validation:\n",
    "\n",
    "-Split the data into folds, each fold having two splits of the dataset.\n",
    "-Train the encoder on one split but transform the values of the other.\n",
    "-Repeat for all the splits.\n",
    "\n",
    "This way, training and transformation always take place on independent sets of data, just like when you use a holdout set but without any data going to waste.\n",
    "\n",
    "In the next cell, there is a usefull tool to apply this explained strategy with any target encoder:"
   ]
  },
  {
   "cell_type": "code",
   "execution_count": 99,
   "metadata": {},
   "outputs": [],
   "source": [
    "class CrossFoldEncoder:\n",
    "    def __init__(self, encoder, **kwargs):\n",
    "        self.encoder_ = encoder\n",
    "        self.kwargs_ = kwargs  # keyword arguments for the encoder\n",
    "        self.cv_ = KFold(n_splits=5)\n",
    "\n",
    "    # Fit an encoder on one split and transform the feature on the\n",
    "    # other. Iterating over the splits in all folds gives a complete\n",
    "    # transformation. We also now have one trained encoder on each\n",
    "    # fold.\n",
    "    def fit_transform(self, X, y, cols):\n",
    "        self.fitted_encoders_ = []\n",
    "        self.cols_ = cols\n",
    "        X_encoded = []\n",
    "        for idx_encode, idx_train in self.cv_.split(X):\n",
    "            fitted_encoder = self.encoder_(cols=cols, **self.kwargs_)\n",
    "            fitted_encoder.fit(\n",
    "                X.iloc[idx_encode, :], y.iloc[idx_encode],\n",
    "            )\n",
    "            X_encoded.append(fitted_encoder.transform(X.iloc[idx_train, :])[cols])\n",
    "            self.fitted_encoders_.append(fitted_encoder)\n",
    "        X_encoded = pd.concat(X_encoded)\n",
    "        X_encoded.columns = [name + \"_encoded\" for name in X_encoded.columns]\n",
    "        return X_encoded\n",
    "\n",
    "    # To transform the test data, average the encodings learned from\n",
    "    # each fold.\n",
    "    def transform(self, X):\n",
    "        from functools import reduce\n",
    "\n",
    "        X_encoded_list = []\n",
    "        for fitted_encoder in self.fitted_encoders_:\n",
    "            X_encoded = fitted_encoder.transform(X)\n",
    "            X_encoded_list.append(X_encoded[self.cols_])\n",
    "        X_encoded = reduce(\n",
    "            lambda x, y: x.add(y, fill_value=0), X_encoded_list\n",
    "        ) / len(X_encoded_list)\n",
    "        X_encoded.columns = [name + \"_encoded\" for name in X_encoded.columns]\n",
    "        return X_encoded\n",
    "    \n",
    "# Use it like:\n",
    "\n",
    "#encoder = CrossFoldEncoder(MEstimateEncoder, m=1)\n",
    "#encoder = CrossFoldEncoder(CatBoostEncoder, a=1)\n",
    "#X_encoded = encoder.fit_transform(X, y, cols=[\"MSSubClass\"]))"
   ]
  },
  {
   "cell_type": "markdown",
   "metadata": {},
   "source": [
    "## 3.8 Creating Final Feature Set.\n",
    "\n",
    "Now let's combine everything together. Putting the transformations into separate functions makes it easier to experiment with various combinations. The ones I left uncommented I found gave the best results."
   ]
  },
  {
   "cell_type": "code",
   "execution_count": 100,
   "metadata": {},
   "outputs": [],
   "source": [
    "def create_features(df, df_test=None):\n",
    "    X = df.copy()\n",
    "    y = X.pop(\"SalePrice\")\n",
    "    mi_scores = make_mi_scores(X, y)\n",
    "\n",
    "    # Combine splits if test data is given\n",
    "    if df_test is not None:\n",
    "        X_test = df_test.copy()\n",
    "        X_test.pop(\"SalePrice\")\n",
    "        X = pd.concat([X, X_test])\n",
    "\n",
    "    # Mutual Information\n",
    "    X = drop_uninformative(X, mi_scores)\n",
    "\n",
    "    # Transformations\n",
    "    X = X.join(mathematical_transforms(X))\n",
    "    X = X.join(interactions(X))\n",
    "    X = X.join(counts(X))\n",
    "    # X = X.join(break_down(X))\n",
    "    X = X.join(group_transforms(X))\n",
    "\n",
    "    # Clustering\n",
    "    # X = X.join(cluster_labels(X, cluster_features, n_clusters=20))\n",
    "    # X = X.join(cluster_distance(X, cluster_features, n_clusters=20))\n",
    "\n",
    "    # PCA\n",
    "    X = X.join(pca_inspired(X))\n",
    "    # X = X.join(pca_components(X, pca_features))\n",
    "    # X = X.join(indicate_outliers(X))\n",
    "\n",
    "    X = label_encode(X)\n",
    "\n",
    "    # Reform splits\n",
    "    if df_test is not None:\n",
    "        X_test = X.loc[df_test.index, :]\n",
    "        X.drop(df_test.index, inplace=True)\n",
    "\n",
    "    # Target Encoder\n",
    "    encoder = CrossFoldEncoder(MEstimateEncoder, m=1)\n",
    "    X = X.join(encoder.fit_transform(X, y, cols=[\"MSSubClass\"]))\n",
    "    if df_test is not None:\n",
    "        X_test = X_test.join(encoder.transform(X_test))\n",
    "        return X, X_test\n",
    "    else:\n",
    "        return X"
   ]
  },
  {
   "cell_type": "code",
   "execution_count": 98,
   "metadata": {},
   "outputs": [],
   "source": [
    "#                                                                      * Baseline score: 0.14351 RMSLE *\n",
    "#********************************************\n",
    "# Mobile Cell to check if I break the Baseline\n",
    "\n",
    "#X = df_train.copy()\n",
    "\n",
    "#****************\n",
    "#X = function(X, mi_scores)\n",
    "#****************\n",
    "#y = X.pop(\"SalePrice\")\n",
    "\n",
    "#baseline_score = score_dataset(X, y)\n",
    "#print(f\"Baseline score: {baseline_score:.5f} RMSLE\")\n",
    "\n",
    "#********************************************"
   ]
  },
  {
   "cell_type": "code",
   "execution_count": 101,
   "metadata": {},
   "outputs": [
    {
     "data": {
      "text/plain": [
       "0.1381925629969659"
      ]
     },
     "execution_count": 101,
     "metadata": {},
     "output_type": "execute_result"
    }
   ],
   "source": [
    "df_train, df_test = load_data()\n",
    "X_train = create_features(df_train)\n",
    "y_train = df_train.loc[:, \"SalePrice\"]\n",
    "\n",
    "score_dataset(X_train, y_train)"
   ]
  },
  {
   "cell_type": "markdown",
   "metadata": {
    "execution": {
     "iopub.execute_input": "2020-12-03T23:23:41.956448Z",
     "iopub.status.busy": "2020-12-03T23:23:41.955354Z",
     "iopub.status.idle": "2020-12-03T23:23:41.984893Z",
     "shell.execute_reply": "2020-12-03T23:23:41.985479Z"
    },
    "papermill": {
     "duration": 0.173551,
     "end_time": "2020-12-03T23:23:41.985632",
     "exception": false,
     "start_time": "2020-12-03T23:23:41.812081",
     "status": "completed"
    },
    "tags": []
   },
   "source": [
    "# //////////////////////////////////////////////////////////\n",
    "# ____UNDER MAINTENANCE\n",
    "# //////////////////////////////////////////////////////////"
   ]
  },
  {
   "cell_type": "markdown",
   "metadata": {
    "papermill": {
     "duration": 0.095939,
     "end_time": "2020-12-03T23:23:43.414161",
     "exception": false,
     "start_time": "2020-12-03T23:23:43.318222",
     "status": "completed"
    },
    "tags": []
   },
   "source": [
    "# Outliers detection\n",
    "\n",
    "\n",
    "#### The presence of outliers in a classifcation or regression dataset can result in a poor fit and lower predictive modeling performance.<br> In that way, we have to treat them effectively before modeling.<br>\n",
    "\n",
    "#### The first thing to do when we want to see if there are outliers in our training dataset is to plot all variables in but we are not going <br>to perform outliers detection on our testing dataset."
   ]
  },
  {
   "cell_type": "code",
   "execution_count": null,
   "metadata": {
    "execution": {
     "iopub.execute_input": "2020-12-03T23:23:43.620794Z",
     "iopub.status.busy": "2020-12-03T23:23:43.619670Z",
     "iopub.status.idle": "2020-12-03T23:23:54.257545Z",
     "shell.execute_reply": "2020-12-03T23:23:54.258141Z"
    },
    "papermill": {
     "duration": 10.749781,
     "end_time": "2020-12-03T23:23:54.258284",
     "exception": false,
     "start_time": "2020-12-03T23:23:43.508503",
     "status": "completed"
    },
    "tags": []
   },
   "outputs": [],
   "source": [
    "#Plots for helping determine outliers\n",
    "\n",
    "train.shape[1]\n",
    "#a = int(np.sqrt(train.shape[1]))\n",
    "a = 4\n",
    "b = int(train.shape[1]/4)\n",
    "r = int(train.shape[1]/a)\n",
    "c = int(train.shape[1]/b)\n",
    "i = 0\n",
    "fig, ax = plt.subplots(nrows=r, ncols=c, figsize=(15, 60))\n",
    "for row in ax:\n",
    "    for col in row:\n",
    "        try:\n",
    "            col.scatter(x = train[train.columns[i]], y = np.log(train['SalePrice']))\n",
    "            col.title.set_text(train.columns[i])\n",
    "        except:\n",
    "            temp=1\n",
    "        #except Exception as e:\n",
    "        #    print(e.message, e.args)\n",
    "        finally:\n",
    "            temp=1\n",
    "        i = i + 1\n",
    "        \n",
    "plt.show()"
   ]
  },
  {
   "cell_type": "markdown",
   "metadata": {
    "papermill": {
     "duration": 0.123556,
     "end_time": "2020-12-03T23:25:32.819648",
     "exception": false,
     "start_time": "2020-12-03T23:25:32.696092",
     "status": "completed"
    },
    "tags": []
   },
   "source": []
  },
  {
   "cell_type": "code",
   "execution_count": null,
   "metadata": {
    "execution": {
     "iopub.execute_input": "2020-12-03T23:25:33.091538Z",
     "iopub.status.busy": "2020-12-03T23:25:33.090415Z",
     "iopub.status.idle": "2020-12-03T23:25:33.146995Z",
     "shell.execute_reply": "2020-12-03T23:25:33.147520Z"
    },
    "papermill": {
     "duration": 0.206855,
     "end_time": "2020-12-03T23:25:33.147681",
     "exception": false,
     "start_time": "2020-12-03T23:25:32.940826",
     "status": "completed"
    },
    "tags": []
   },
   "outputs": [],
   "source": []
  },
  {
   "cell_type": "code",
   "execution_count": null,
   "metadata": {
    "execution": {
     "iopub.execute_input": "2020-12-03T23:25:33.403648Z",
     "iopub.status.busy": "2020-12-03T23:25:33.402867Z",
     "iopub.status.idle": "2020-12-03T23:25:33.514965Z",
     "shell.execute_reply": "2020-12-03T23:25:33.514323Z"
    },
    "papermill": {
     "duration": 0.244911,
     "end_time": "2020-12-03T23:25:33.515111",
     "exception": false,
     "start_time": "2020-12-03T23:25:33.270200",
     "status": "completed"
    },
    "tags": []
   },
   "outputs": [],
   "source": []
  },
  {
   "cell_type": "markdown",
   "metadata": {
    "papermill": {
     "duration": 0.121912,
     "end_time": "2020-12-03T23:25:33.759010",
     "exception": false,
     "start_time": "2020-12-03T23:25:33.637098",
     "status": "completed"
    },
    "tags": []
   },
   "source": [
    "### As we will build differents models (Robust Regression, Support Vector Regression, XGBoost and Random Forest) and each model has it's features selection criteria, we will perform different features selection algorithms based on each models. <br>\n",
    "\n",
    "#### For example, if we wanna build a robust regression model, we should select features based on a non-collinearity criteria and looking for overfiting/underfiting too.<br>\n",
    "\n",
    "#### Also, Linear Kernel of Support vector Regression is very similar to linear Regression, and hence the effect of multicollinearity has a very similar effect in case of Linear Kernel of SVR.<br> So we have to remove multicollinearity between features , if we want to use weight vectors directly for feature importance. \n",
    "\n",
    "#### Random Forest uses bootstrap sampling and feature sampling, i.e row sampling and column sampling. Therefore Random Forest is not affected by multicollinearity that much since it is picking different set of features for different models and of course every model sees a different set of data points. But there is a chance of multicollinear features getting picked up together, and when that happens we will see some trace of it.\n",
    "\n",
    "https://medium.com/@raj5287/effects-of-multi-collinearity-in-logistic-regression-svm-rf-af6766d91f1b"
   ]
  },
  {
   "cell_type": "markdown",
   "metadata": {
    "papermill": {
     "duration": 0.121535,
     "end_time": "2020-12-03T23:25:34.002062",
     "exception": false,
     "start_time": "2020-12-03T23:25:33.880527",
     "status": "completed"
    },
    "tags": []
   },
   "source": [
    "### Models"
   ]
  },
  {
   "cell_type": "code",
   "execution_count": null,
   "metadata": {
    "execution": {
     "iopub.execute_input": "2020-12-03T23:25:34.252927Z",
     "iopub.status.busy": "2020-12-03T23:25:34.251996Z",
     "iopub.status.idle": "2020-12-03T23:25:36.154694Z",
     "shell.execute_reply": "2020-12-03T23:25:36.153671Z"
    },
    "papermill": {
     "duration": 2.031213,
     "end_time": "2020-12-03T23:25:36.154831",
     "exception": false,
     "start_time": "2020-12-03T23:25:34.123618",
     "status": "completed"
    },
    "tags": []
   },
   "outputs": [],
   "source": [
    "from sklearn.ensemble import GradientBoostingRegressor\n",
    "from sklearn.svm import SVR\n",
    "from xgboost import XGBRegressor\n",
    "from lightgbm import LGBMRegressor\n",
    "from sklearn.ensemble import RandomForestRegressor\n",
    "from sklearn.tree import DecisionTreeRegressor"
   ]
  },
  {
   "cell_type": "markdown",
   "metadata": {
    "papermill": {
     "duration": 0.161349,
     "end_time": "2020-12-03T23:25:54.528899",
     "exception": false,
     "start_time": "2020-12-03T23:25:54.367550",
     "status": "completed"
    },
    "tags": []
   },
   "source": [
    "### Now we should notice that all except SVR are good for our dataset. So, we gonna use them."
   ]
  },
  {
   "cell_type": "code",
   "execution_count": null,
   "metadata": {
    "execution": {
     "iopub.execute_input": "2020-12-03T23:25:54.852402Z",
     "iopub.status.busy": "2020-12-03T23:25:54.851352Z",
     "iopub.status.idle": "2020-12-03T23:25:54.854649Z",
     "shell.execute_reply": "2020-12-03T23:25:54.854093Z"
    },
    "papermill": {
     "duration": 0.170149,
     "end_time": "2020-12-03T23:25:54.854767",
     "exception": false,
     "start_time": "2020-12-03T23:25:54.684618",
     "status": "completed"
    },
    "tags": []
   },
   "outputs": [],
   "source": [
    "X_train = train.drop(['SalePrice'],axis=1)\n",
    "y_train = train['SalePrice']\n",
    "kfolds = KFold(n_splits=10, shuffle=True, random_state=42)\n",
    "\n",
    "def rmsle(y_train, y_pred):\n",
    "    return np.sqrt(mean_squared_error(y_train, y_pred))\n",
    "\n",
    "def cv_rmse(model, X_train=X_train):\n",
    "    rmse = np.sqrt(-cross_val_score(model, X_train, y_train, scoring=\"neg_mean_squared_error\", cv=kfolds))\n",
    "    return (rmse)"
   ]
  },
  {
   "cell_type": "code",
   "execution_count": null,
   "metadata": {
    "execution": {
     "iopub.execute_input": "2020-12-03T23:25:55.180900Z",
     "iopub.status.busy": "2020-12-03T23:25:55.179613Z",
     "iopub.status.idle": "2020-12-03T23:26:34.200900Z",
     "shell.execute_reply": "2020-12-03T23:26:34.201749Z"
    },
    "papermill": {
     "duration": 39.19133,
     "end_time": "2020-12-03T23:26:34.201929",
     "exception": false,
     "start_time": "2020-12-03T23:25:55.010599",
     "status": "completed"
    },
    "tags": []
   },
   "outputs": [],
   "source": [
    "score1 = cv_rmse(linear_model.LinearRegression())\n",
    "print(\"LinearRegression: {:.4f} ({:.4f})\\n\".format(score1.mean(), score1.std()), )\n",
    "\n",
    "my_Lasso = linear_model.Lasso(alpha = 2, max_iter = 10000)\n",
    "score2 = cv_rmse(my_Lasso)\n",
    "print(\"Lasso: {:.4f} ({:.4f})\\n\".format(score2.mean(), score2.std()), )\n",
    "\n",
    "my_DecisionTreeRegressor = DecisionTreeRegressor()\n",
    "score4 = cv_rmse(my_DecisionTreeRegressor)\n",
    "print(\"DecisionTreeRegressor: {:.4f} ({:.4f})\\n\".format(score4.mean(), score4.std()), )\n",
    "\n",
    "my_RandomForestRegressor = RandomForestRegressor()\n",
    "score5 = cv_rmse(my_RandomForestRegressor)\n",
    "print(\"RandomForestRegressor: {:.4f} ({:.4f})\\n\".format(score5.mean(), score5.std()), )\n",
    "\n",
    "my_GradientBoostingRegressor = GradientBoostingRegressor()\n",
    "score6 = cv_rmse(my_GradientBoostingRegressor)\n",
    "print(\"GradientBoostingRegressor: {:.4f} ({:.4f})\\n\".format(score6.mean(), score6.std()), )"
   ]
  },
  {
   "cell_type": "code",
   "execution_count": null,
   "metadata": {},
   "outputs": [],
   "source": [
    "my_LGBMRegressor = LGBMRegressor()\n",
    "score7 = cv_rmse(my_LGBMRegressor)\n",
    "print(\"LGBMRegressor: {:.4f} ({:.4f})\\n\".format(score7.mean(), score7.std()), )\n",
    "\n",
    "my_XGBRegressor = XGBRegressor()\n",
    "score8 = cv_rmse(my_XGBRegressor)\n",
    "print(\"XGBRegressor: {:.4f} ({:.4f})\\n\".format(score8.mean(), score8.std()), )"
   ]
  },
  {
   "cell_type": "code",
   "execution_count": null,
   "metadata": {
    "execution": {
     "iopub.execute_input": "2020-12-03T23:26:34.590085Z",
     "iopub.status.busy": "2020-12-03T23:26:34.588784Z",
     "iopub.status.idle": "2020-12-03T23:28:39.854647Z",
     "shell.execute_reply": "2020-12-03T23:28:39.854048Z"
    },
    "papermill": {
     "duration": 125.442948,
     "end_time": "2020-12-03T23:28:39.854761",
     "exception": false,
     "start_time": "2020-12-03T23:26:34.411813",
     "status": "completed"
    },
    "tags": []
   },
   "outputs": [],
   "source": [
    "X = train.drop('SalePrice', axis=1)\n",
    "target = train['SalePrice']\n",
    "\n",
    "# Load a regression dataset\n",
    "#viz = ValidationCurve(\n",
    "#    GradientBoostingRegressor, param_name=\"max_depth\",\n",
    "#    param_range=np.arange(1, 11), cv=10, scoring=\"r2\"\n",
    "#)\n",
    "\n",
    "# Fit and show the visualizer\n",
    "#viz.fit(X, target)\n",
    "#viz.show()"
   ]
  },
  {
   "cell_type": "markdown",
   "metadata": {
    "papermill": {
     "duration": 0.155571,
     "end_time": "2020-12-03T23:28:40.166371",
     "exception": false,
     "start_time": "2020-12-03T23:28:40.010800",
     "status": "completed"
    },
    "tags": []
   },
   "source": [
    "### This tells us the best model for our dataset is GradientBoostingRegressor and the validation curve shoxs it's adapted to our dataset.\n",
    "\n",
    "#### Now, let use Recursive Feature Selection for having best features that we gonna use for model optimization."
   ]
  },
  {
   "cell_type": "code",
   "execution_count": null,
   "metadata": {
    "execution": {
     "iopub.execute_input": "2020-12-03T23:28:40.497634Z",
     "iopub.status.busy": "2020-12-03T23:28:40.495493Z",
     "iopub.status.idle": "2020-12-03T23:31:12.798202Z",
     "shell.execute_reply": "2020-12-03T23:31:12.799093Z"
    },
    "papermill": {
     "duration": 152.473706,
     "end_time": "2020-12-03T23:31:12.799306",
     "exception": false,
     "start_time": "2020-12-03T23:28:40.325600",
     "status": "completed"
    },
    "tags": []
   },
   "outputs": [],
   "source": [
    "# Now, we gonna use RFE with linear regression but we could also use VIF Calculation for finding best features for our linear and svr models.\n",
    "\n",
    "X = train.drop('SalePrice', axis=1)\n",
    "target = train['SalePrice']\n",
    "\n",
    "\n",
    "my_GBR = GradientBoostingRegressor()\n",
    "selector = RFECV(my_GBR)\n",
    "selector = selector.fit(X, target)\n",
    "print('Optimal number of features: {}'.format(selector.n_features_))"
   ]
  },
  {
   "cell_type": "code",
   "execution_count": null,
   "metadata": {
    "execution": {
     "iopub.execute_input": "2020-12-03T23:31:13.147734Z",
     "iopub.status.busy": "2020-12-03T23:31:13.146516Z",
     "iopub.status.idle": "2020-12-03T23:31:13.394130Z",
     "shell.execute_reply": "2020-12-03T23:31:13.394757Z"
    },
    "papermill": {
     "duration": 0.424391,
     "end_time": "2020-12-03T23:31:13.394900",
     "exception": false,
     "start_time": "2020-12-03T23:31:12.970509",
     "status": "completed"
    },
    "tags": []
   },
   "outputs": [],
   "source": [
    "plt.figure(figsize=(16, 9))\n",
    "plt.title('Recursive Feature Elimination with Cross-Validation', fontsize=18, fontweight='bold', pad=20)\n",
    "plt.xlabel('Number of features selected', fontsize=14, labelpad=20)\n",
    "plt.ylabel('% Correct Classification', fontsize=14, labelpad=20)\n",
    "plt.plot(range(1, len(selector.grid_scores_) + 1), selector.grid_scores_, color='#303F9F', linewidth=3)\n",
    "plt.show()"
   ]
  },
  {
   "cell_type": "code",
   "execution_count": null,
   "metadata": {
    "execution": {
     "iopub.execute_input": "2020-12-03T23:31:13.873452Z",
     "iopub.status.busy": "2020-12-03T23:31:13.872410Z",
     "iopub.status.idle": "2020-12-03T23:31:13.882433Z",
     "shell.execute_reply": "2020-12-03T23:31:13.883754Z"
    },
    "papermill": {
     "duration": 0.282765,
     "end_time": "2020-12-03T23:31:13.883995",
     "exception": false,
     "start_time": "2020-12-03T23:31:13.601230",
     "status": "completed"
    },
    "tags": []
   },
   "outputs": [],
   "source": [
    "test.drop(X.columns[np.where(selector.support_ == False)[0]], axis=1, inplace=True)\n",
    "train.drop(X.columns[np.where(selector.support_ == False)[0]], axis=1, inplace=True)"
   ]
  },
  {
   "cell_type": "code",
   "execution_count": null,
   "metadata": {
    "execution": {
     "iopub.execute_input": "2020-12-03T23:31:14.344084Z",
     "iopub.status.busy": "2020-12-03T23:31:14.342892Z",
     "iopub.status.idle": "2020-12-03T23:31:14.354737Z",
     "shell.execute_reply": "2020-12-03T23:31:14.356276Z"
    },
    "papermill": {
     "duration": 0.214626,
     "end_time": "2020-12-03T23:31:14.356473",
     "exception": false,
     "start_time": "2020-12-03T23:31:14.141847",
     "status": "completed"
    },
    "tags": []
   },
   "outputs": [],
   "source": [
    "X = train.drop('SalePrice', axis=1)\n",
    "target = train['SalePrice']\n",
    "\n",
    "X_train, X_val, y_train, y_val = tts(X, target, test_size=0.2, random_state=2020)"
   ]
  },
  {
   "cell_type": "code",
   "execution_count": null,
   "metadata": {
    "execution": {
     "iopub.execute_input": "2020-12-03T23:31:14.733198Z",
     "iopub.status.busy": "2020-12-03T23:31:14.732460Z",
     "iopub.status.idle": "2020-12-03T23:31:14.737429Z",
     "shell.execute_reply": "2020-12-03T23:31:14.736757Z"
    },
    "papermill": {
     "duration": 0.194981,
     "end_time": "2020-12-03T23:31:14.737631",
     "exception": false,
     "start_time": "2020-12-03T23:31:14.542650",
     "status": "completed"
    },
    "tags": []
   },
   "outputs": [],
   "source": [
    "from sklearn.ensemble import GradientBoostingRegressor\n",
    "from sklearn.svm import SVR\n",
    "from xgboost import XGBRegressor\n",
    "from lightgbm import LGBMRegressor\n",
    "from sklearn.ensemble import RandomForestRegressor\n",
    "from sklearn.tree import DecisionTreeRegressor\n",
    "from sklearn.linear_model import Lasso"
   ]
  },
  {
   "cell_type": "code",
   "execution_count": null,
   "metadata": {
    "execution": {
     "iopub.execute_input": "2020-12-03T23:31:15.083531Z",
     "iopub.status.busy": "2020-12-03T23:31:15.081223Z",
     "iopub.status.idle": "2020-12-03T23:31:27.203450Z",
     "shell.execute_reply": "2020-12-03T23:31:27.204432Z"
    },
    "papermill": {
     "duration": 12.295819,
     "end_time": "2020-12-03T23:31:27.204666",
     "exception": false,
     "start_time": "2020-12-03T23:31:14.908847",
     "status": "completed"
    },
    "tags": []
   },
   "outputs": [],
   "source": [
    "#We did the same thing for GradientBoostingRegressor and detect these hyperparameters are best:\n",
    "\n",
    "GradientBoostingRegr = GradientBoostingRegressor(n_estimators=3000, learning_rate=0.05,\n",
    "                                   max_depth=4, max_features='sqrt',\n",
    "                                   min_samples_leaf=15, min_samples_split=10, \n",
    "                                   loss='huber', random_state =42)\n",
    "GradientBoostingRegr.fit(X_train, y_train)"
   ]
  },
  {
   "cell_type": "code",
   "execution_count": null,
   "metadata": {
    "execution": {
     "iopub.execute_input": "2020-12-03T23:31:27.548824Z",
     "iopub.status.busy": "2020-12-03T23:31:27.547844Z",
     "iopub.status.idle": "2020-12-03T23:31:27.647276Z",
     "shell.execute_reply": "2020-12-03T23:31:27.646662Z"
    },
    "papermill": {
     "duration": 0.273597,
     "end_time": "2020-12-03T23:31:27.647406",
     "exception": false,
     "start_time": "2020-12-03T23:31:27.373809",
     "status": "completed"
    },
    "tags": []
   },
   "outputs": [],
   "source": [
    "Predictions = GradientBoostingRegr.predict(test)"
   ]
  },
  {
   "cell_type": "code",
   "execution_count": null,
   "metadata": {
    "execution": {
     "iopub.execute_input": "2020-12-03T23:31:27.986282Z",
     "iopub.status.busy": "2020-12-03T23:31:27.985561Z",
     "iopub.status.idle": "2020-12-03T23:31:28.250382Z",
     "shell.execute_reply": "2020-12-03T23:31:28.249568Z"
    },
    "papermill": {
     "duration": 0.437698,
     "end_time": "2020-12-03T23:31:28.250510",
     "exception": false,
     "start_time": "2020-12-03T23:31:27.812812",
     "status": "completed"
    },
    "tags": []
   },
   "outputs": [],
   "source": [
    "# I'll submit predictions to the competition for scoring on the leaderboard.\n",
    "\n",
    "submission = pd.DataFrame({'Id': test_ID,\n",
    "                           'SalePrice': Predictions})\n",
    "submission.to_csv('submission_boost.csv', index=False)"
   ]
  }
 ],
 "metadata": {
  "kernelspec": {
   "display_name": "Python 3",
   "language": "python",
   "name": "python3"
  },
  "language_info": {
   "codemirror_mode": {
    "name": "ipython",
    "version": 3
   },
   "file_extension": ".py",
   "mimetype": "text/x-python",
   "name": "python",
   "nbconvert_exporter": "python",
   "pygments_lexer": "ipython3",
   "version": "3.7.9"
  },
  "papermill": {
   "duration": 622.917501,
   "end_time": "2020-12-03T23:31:29.655129",
   "environment_variables": {},
   "exception": null,
   "input_path": "__notebook__.ipynb",
   "output_path": "__notebook__.ipynb",
   "parameters": {},
   "start_time": "2020-12-03T23:21:06.737628",
   "version": "2.1.0"
  }
 },
 "nbformat": 4,
 "nbformat_minor": 4
}
