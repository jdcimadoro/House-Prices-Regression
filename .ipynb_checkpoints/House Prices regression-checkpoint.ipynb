{
 "cells": [
  {
   "cell_type": "code",
   "execution_count": 29,
   "metadata": {
    "_cell_guid": "b1076dfc-b9ad-4769-8c92-a6c4dae69d19",
    "_uuid": "8f2839f25d086af736a60e9eeb907d3b93b6e0e5",
    "execution": {
     "iopub.execute_input": "2020-12-03T23:21:11.915723Z",
     "iopub.status.busy": "2020-12-03T23:21:11.914638Z",
     "iopub.status.idle": "2020-12-03T23:21:11.919910Z",
     "shell.execute_reply": "2020-12-03T23:21:11.920526Z"
    },
    "papermill": {
     "duration": 0.096315,
     "end_time": "2020-12-03T23:21:11.920697",
     "exception": false,
     "start_time": "2020-12-03T23:21:11.824382",
     "status": "completed"
    },
    "tags": []
   },
   "outputs": [],
   "source": [
    "# Uploading common packages.\n",
    "\n",
    "import numpy as np # linear algebra\n",
    "import pandas as pd # data processing, CSV file I/O (e.g. pd.read_csv)\n",
    "\n",
    "# Input data files are available in the read-only \"../input/\" directory\n",
    "# For example, running this (by clicking run or pressing Shift+Enter) will list all files under the input directory"
   ]
  },
  {
   "cell_type": "code",
   "execution_count": 30,
   "metadata": {
    "execution": {
     "iopub.execute_input": "2020-12-03T23:21:12.063801Z",
     "iopub.status.busy": "2020-12-03T23:21:12.062867Z",
     "iopub.status.idle": "2020-12-03T23:21:26.746149Z",
     "shell.execute_reply": "2020-12-03T23:21:26.745492Z"
    },
    "papermill": {
     "duration": 14.751777,
     "end_time": "2020-12-03T23:21:26.746296",
     "exception": false,
     "start_time": "2020-12-03T23:21:11.994519",
     "status": "completed"
    },
    "tags": []
   },
   "outputs": [],
   "source": [
    "\n",
    "#!pip install xgboost\n",
    "#!pip install lightgbm"
   ]
  },
  {
   "cell_type": "code",
   "execution_count": 31,
   "metadata": {
    "execution": {
     "iopub.execute_input": "2020-12-03T23:21:43.503992Z",
     "iopub.status.busy": "2020-12-03T23:21:43.502926Z",
     "iopub.status.idle": "2020-12-03T23:21:45.266556Z",
     "shell.execute_reply": "2020-12-03T23:21:45.265751Z"
    },
    "papermill": {
     "duration": 1.843812,
     "end_time": "2020-12-03T23:21:45.266685",
     "exception": false,
     "start_time": "2020-12-03T23:21:43.422873",
     "status": "completed"
    },
    "tags": []
   },
   "outputs": [],
   "source": [
    "#!pip install dabl\n",
    "import dabl #Data Analysis and ML Automation\n",
    "import scipy.stats as stats\n",
    "import sklearn.linear_model as linear_model\n",
    "import seaborn as sns\n",
    "import matplotlib.pyplot as plt"
   ]
  },
  {
   "cell_type": "code",
   "execution_count": 32,
   "metadata": {
    "execution": {
     "iopub.execute_input": "2020-12-03T23:21:45.421463Z",
     "iopub.status.busy": "2020-12-03T23:21:45.420662Z",
     "iopub.status.idle": "2020-12-03T23:21:45.594156Z",
     "shell.execute_reply": "2020-12-03T23:21:45.593503Z"
    },
    "papermill": {
     "duration": 0.252858,
     "end_time": "2020-12-03T23:21:45.594293",
     "exception": false,
     "start_time": "2020-12-03T23:21:45.341435",
     "status": "completed"
    },
    "tags": []
   },
   "outputs": [],
   "source": [
    "from numpy import absolute\n",
    "from sklearn.datasets import make_regression"
   ]
  },
  {
   "cell_type": "code",
   "execution_count": 33,
   "metadata": {
    "execution": {
     "iopub.execute_input": "2020-12-03T23:21:45.749389Z",
     "iopub.status.busy": "2020-12-03T23:21:45.748539Z",
     "iopub.status.idle": "2020-12-03T23:21:45.781676Z",
     "shell.execute_reply": "2020-12-03T23:21:45.780888Z"
    },
    "papermill": {
     "duration": 0.11302,
     "end_time": "2020-12-03T23:21:45.781798",
     "exception": false,
     "start_time": "2020-12-03T23:21:45.668778",
     "status": "completed"
    },
    "tags": []
   },
   "outputs": [],
   "source": [
    "from sklearn.model_selection import KFold, cross_val_score\n",
    "from sklearn.metrics import mean_squared_error\n",
    "#!pip install mlxtend\n",
    "from mlxtend.regressor import StackingCVRegressor"
   ]
  },
  {
   "cell_type": "code",
   "execution_count": 34,
   "metadata": {},
   "outputs": [],
   "source": [
    "from sklearn.ensemble import RandomForestClassifier\n",
    "from sklearn.model_selection import StratifiedKFold\n",
    "from sklearn.feature_selection import RFECV\n",
    "#!pip install yellowbrick\n",
    "from sklearn.utils import _safe_indexing as safe_indexing"
   ]
  },
  {
   "cell_type": "code",
   "execution_count": 35,
   "metadata": {},
   "outputs": [],
   "source": [
    "#There is a problem with importing safe_indexing in sklearn 0.24.\n",
    "#from yellowbrick.model_selection import ValidationCurve #Machine learning visualization package"
   ]
  },
  {
   "cell_type": "code",
   "execution_count": 36,
   "metadata": {
    "execution": {
     "iopub.execute_input": "2020-12-03T23:21:45.941421Z",
     "iopub.status.busy": "2020-12-03T23:21:45.940528Z",
     "iopub.status.idle": "2020-12-03T23:21:46.070703Z",
     "shell.execute_reply": "2020-12-03T23:21:46.071417Z"
    },
    "papermill": {
     "duration": 0.213773,
     "end_time": "2020-12-03T23:21:46.071582",
     "exception": false,
     "start_time": "2020-12-03T23:21:45.857809",
     "status": "completed"
    },
    "tags": []
   },
   "outputs": [],
   "source": [
    "from sklearn.linear_model import LinearRegression\n",
    "from sklearn.model_selection import train_test_split as tts\n",
    "#from yellowbrick.regressor import ResidualsPlot\n",
    "#from yellowbrick.regressor import PredictionError"
   ]
  },
  {
   "cell_type": "code",
   "execution_count": 37,
   "metadata": {
    "execution": {
     "iopub.execute_input": "2020-12-03T23:21:46.234510Z",
     "iopub.status.busy": "2020-12-03T23:21:46.233528Z",
     "iopub.status.idle": "2020-12-03T23:21:46.237368Z",
     "shell.execute_reply": "2020-12-03T23:21:46.238060Z"
    },
    "papermill": {
     "duration": 0.090812,
     "end_time": "2020-12-03T23:21:46.238203",
     "exception": false,
     "start_time": "2020-12-03T23:21:46.147391",
     "status": "completed"
    },
    "tags": []
   },
   "outputs": [],
   "source": [
    "from sklearn.metrics import mean_absolute_error\n",
    "from sklearn.metrics import mean_squared_log_error\n",
    "from sklearn.model_selection import RandomizedSearchCV\n",
    "from sklearn.metrics import mean_squared_error\n",
    "\n",
    "%matplotlib inline\n",
    "\n",
    "pd.pandas.set_option('display.max_columns', None)\n",
    "\n",
    "import warnings"
   ]
  },
  {
   "cell_type": "code",
   "execution_count": 38,
   "metadata": {
    "_cell_guid": "79c7e3d0-c299-4dcb-8224-4455121ee9b0",
    "_uuid": "d629ff2d2480ee46fbb7e2d37f6b5fab8052498a",
    "execution": {
     "iopub.execute_input": "2020-12-03T23:21:46.397904Z",
     "iopub.status.busy": "2020-12-03T23:21:46.396739Z",
     "iopub.status.idle": "2020-12-03T23:21:46.469526Z",
     "shell.execute_reply": "2020-12-03T23:21:46.468704Z"
    },
    "papermill": {
     "duration": 0.155693,
     "end_time": "2020-12-03T23:21:46.469664",
     "exception": false,
     "start_time": "2020-12-03T23:21:46.313971",
     "status": "completed"
    },
    "tags": []
   },
   "outputs": [],
   "source": [
    "#load dataset we are going to use \n",
    "\n",
    "train = pd.read_csv('https://raw.githubusercontent.com/jdcimadoro/House-Prices-Regression/main/train.csv')\n",
    "test = pd.read_csv('https://raw.githubusercontent.com/jdcimadoro/House-Prices-Regression/main/test.csv')"
   ]
  },
  {
   "cell_type": "markdown",
   "metadata": {
    "papermill": {
     "duration": 0.075133,
     "end_time": "2020-12-03T23:21:46.620152",
     "exception": false,
     "start_time": "2020-12-03T23:21:46.545019",
     "status": "completed"
    },
    "tags": []
   },
   "source": [
    "The first step is Exploratory Data Analysis."
   ]
  },
  {
   "cell_type": "code",
   "execution_count": 39,
   "metadata": {
    "execution": {
     "iopub.execute_input": "2020-12-03T23:21:46.821605Z",
     "iopub.status.busy": "2020-12-03T23:21:46.820405Z",
     "iopub.status.idle": "2020-12-03T23:21:46.866764Z",
     "shell.execute_reply": "2020-12-03T23:21:46.867413Z"
    },
    "papermill": {
     "duration": 0.171363,
     "end_time": "2020-12-03T23:21:46.867573",
     "exception": false,
     "start_time": "2020-12-03T23:21:46.696210",
     "status": "completed"
    },
    "tags": []
   },
   "outputs": [],
   "source": [
    "#see samples on train dataset\n",
    "\n",
    "train.head()\n",
    "\n",
    "#We store Id features in a variables and will use them to send predictions to the leaderboard.\n",
    "\n",
    "train_ID = train['Id']\n",
    "test_ID = test['Id']"
   ]
  },
  {
   "cell_type": "code",
   "execution_count": 40,
   "metadata": {
    "execution": {
     "iopub.execute_input": "2020-12-03T23:21:47.093759Z",
     "iopub.status.busy": "2020-12-03T23:21:47.092524Z",
     "iopub.status.idle": "2020-12-03T23:21:47.103257Z",
     "shell.execute_reply": "2020-12-03T23:21:47.104429Z"
    },
    "papermill": {
     "duration": 0.145791,
     "end_time": "2020-12-03T23:21:47.104655",
     "exception": false,
     "start_time": "2020-12-03T23:21:46.958864",
     "status": "completed"
    },
    "tags": []
   },
   "outputs": [
    {
     "name": "stdout",
     "output_type": "stream",
     "text": [
      "Training set shape: (1460, 81)\n",
      "Testing set shape: (1459, 80)\n"
     ]
    }
   ],
   "source": [
    "#see the shapes of training and testing datasets\n",
    "\n",
    "print('Training set shape:', train.shape)\n",
    "print('Testing set shape:', test.shape)"
   ]
  },
  {
   "cell_type": "code",
   "execution_count": 41,
   "metadata": {
    "execution": {
     "iopub.execute_input": "2020-12-03T23:21:47.383638Z",
     "iopub.status.busy": "2020-12-03T23:21:47.382554Z",
     "iopub.status.idle": "2020-12-03T23:21:47.395353Z",
     "shell.execute_reply": "2020-12-03T23:21:47.396583Z"
    },
    "papermill": {
     "duration": 0.15047,
     "end_time": "2020-12-03T23:21:47.396774",
     "exception": false,
     "start_time": "2020-12-03T23:21:47.246304",
     "status": "completed"
    },
    "tags": []
   },
   "outputs": [],
   "source": [
    "# Now drop the  'Id' colum since it's unnecessary for  the prediction process.\n",
    "\n",
    "train.drop(['Id'], axis=1, inplace=True)\n",
    "test.drop(['Id'], axis=1, inplace=True)"
   ]
  },
  {
   "cell_type": "code",
   "execution_count": 42,
   "metadata": {
    "execution": {
     "iopub.execute_input": "2020-12-03T23:21:47.675020Z",
     "iopub.status.busy": "2020-12-03T23:21:47.674046Z",
     "iopub.status.idle": "2020-12-03T23:21:56.299659Z",
     "shell.execute_reply": "2020-12-03T23:21:56.300191Z"
    },
    "papermill": {
     "duration": 8.791109,
     "end_time": "2020-12-03T23:21:56.300331",
     "exception": false,
     "start_time": "2020-12-03T23:21:47.509222",
     "status": "completed"
    },
    "tags": []
   },
   "outputs": [
    {
     "name": "stderr",
     "output_type": "stream",
     "text": [
      "/home/j/anaconda3/lib/python3.7/site-packages/dabl/plot/supervised.py:540: FutureWarning: The second positional argument of plot is a Series 'y'. If passing a column name, use a keyword.\n",
      "  FutureWarning)\n",
      "/home/j/anaconda3/lib/python3.7/site-packages/dabl/preprocessing.py:352: UserWarning: Discarding near-constant features: ['Street', 'Utilities', 'Condition2', 'RoofMatl', 'Heating', 'LowQualFinSF', 'KitchenAbvGr', 'GarageQual', 'GarageCond', '3SsnPorch', 'PoolArea', 'MiscVal']\n",
      "  near_constant.index[near_constant].tolist()))\n"
     ]
    },
    {
     "name": "stdout",
     "output_type": "stream",
     "text": [
      "Target looks like regression\n",
      "Showing only top 10 of 22 continuous features\n"
     ]
    },
    {
     "name": "stderr",
     "output_type": "stream",
     "text": [
      "/home/j/anaconda3/lib/python3.7/site-packages/dabl/plot/utils.py:630: UserWarning: Dropped 3 outliers in column GrLivArea.\n",
      "  int(dropped), series.name), UserWarning)\n",
      "/home/j/anaconda3/lib/python3.7/site-packages/dabl/plot/utils.py:630: UserWarning: Dropped 1 outliers in column TotalBsmtSF.\n",
      "  int(dropped), series.name), UserWarning)\n",
      "/home/j/anaconda3/lib/python3.7/site-packages/dabl/plot/utils.py:630: UserWarning: Dropped 3 outliers in column 1stFlrSF.\n",
      "  int(dropped), series.name), UserWarning)\n",
      "/home/j/anaconda3/lib/python3.7/site-packages/dabl/plot/utils.py:630: UserWarning: Dropped 2 outliers in column MasVnrArea.\n",
      "  int(dropped), series.name), UserWarning)\n"
     ]
    },
    {
     "name": "stdout",
     "output_type": "stream",
     "text": [
      "Showing only top 10 of 45 categorical features\n"
     ]
    },
    {
     "name": "stderr",
     "output_type": "stream",
     "text": [
      "/home/j/anaconda3/lib/python3.7/site-packages/dabl/plot/utils.py:373: UserWarning: FixedFormatter should only be used together with FixedLocator\n",
      "  for t in ax.get_xticklabels()]\n",
      "/home/j/anaconda3/lib/python3.7/site-packages/dabl/plot/utils.py:373: UserWarning: FixedFormatter should only be used together with FixedLocator\n",
      "  for t in ax.get_xticklabels()]\n",
      "/home/j/anaconda3/lib/python3.7/site-packages/dabl/plot/utils.py:373: UserWarning: FixedFormatter should only be used together with FixedLocator\n",
      "  for t in ax.get_xticklabels()]\n",
      "/home/j/anaconda3/lib/python3.7/site-packages/dabl/plot/utils.py:373: UserWarning: FixedFormatter should only be used together with FixedLocator\n",
      "  for t in ax.get_xticklabels()]\n",
      "/home/j/anaconda3/lib/python3.7/site-packages/dabl/plot/utils.py:373: UserWarning: FixedFormatter should only be used together with FixedLocator\n",
      "  for t in ax.get_xticklabels()]\n",
      "/home/j/anaconda3/lib/python3.7/site-packages/dabl/plot/utils.py:373: UserWarning: FixedFormatter should only be used together with FixedLocator\n",
      "  for t in ax.get_xticklabels()]\n",
      "/home/j/anaconda3/lib/python3.7/site-packages/dabl/plot/utils.py:373: UserWarning: FixedFormatter should only be used together with FixedLocator\n",
      "  for t in ax.get_xticklabels()]\n",
      "/home/j/anaconda3/lib/python3.7/site-packages/dabl/plot/utils.py:373: UserWarning: FixedFormatter should only be used together with FixedLocator\n",
      "  for t in ax.get_xticklabels()]\n",
      "/home/j/anaconda3/lib/python3.7/site-packages/dabl/plot/utils.py:373: UserWarning: FixedFormatter should only be used together with FixedLocator\n",
      "  for t in ax.get_xticklabels()]\n",
      "/home/j/anaconda3/lib/python3.7/site-packages/dabl/plot/utils.py:373: UserWarning: FixedFormatter should only be used together with FixedLocator\n",
      "  for t in ax.get_xticklabels()]\n"
     ]
    },
    {
     "data": {
      "image/png": "[encoded data removed]",
      "text/plain": [
       "<Figure size 432x288 with 1 Axes>"
      ]
     },
     "metadata": {
      "needs_background": "light"
     },
     "output_type": "display_data"
    },
    {
     "data": {
      "image/png": "[encoded data removed]",
      "text/plain": [
       "<Figure size 1440x432 with 10 Axes>"
      ]
     },
     "metadata": {
      "needs_background": "light"
     },
     "output_type": "display_data"
    },
    {
     "data": {
      "image/png": "[encoded data removed]",
      "text/plain": [
       "<Figure size 1440x720 with 10 Axes>"
      ]
     },
     "metadata": {
      "needs_background": "light"
     },
     "output_type": "display_data"
    }
   ],
   "source": [
    "#Automatically plots for performing EDA and detect anomalies in dataset\n",
    "\n",
    "### However, we are not going to do this for testing dataset and after because even though we detect anomalies in testing set,\n",
    "# we could not delete rows with such anomalies.\n",
    "\n",
    "dabl.plot(train, 'SalePrice')"
   ]
  },
  {
   "cell_type": "code",
   "execution_count": 43,
   "metadata": {
    "execution": {
     "iopub.execute_input": "2020-12-03T23:21:56.492198Z",
     "iopub.status.busy": "2020-12-03T23:21:56.491131Z",
     "iopub.status.idle": "2020-12-03T23:21:56.520274Z",
     "shell.execute_reply": "2020-12-03T23:21:56.521448Z"
    },
    "papermill": {
     "duration": 0.133972,
     "end_time": "2020-12-03T23:21:56.521679",
     "exception": false,
     "start_time": "2020-12-03T23:21:56.387707",
     "status": "completed"
    },
    "tags": []
   },
   "outputs": [
    {
     "name": "stdout",
     "output_type": "stream",
     "text": [
      "<class 'pandas.core.frame.DataFrame'>\n",
      "RangeIndex: 1460 entries, 0 to 1459\n",
      "Data columns (total 80 columns):\n",
      " #   Column         Non-Null Count  Dtype  \n",
      "---  ------         --------------  -----  \n",
      " 0   MSSubClass     1460 non-null   int64  \n",
      " 1   MSZoning       1460 non-null   object \n",
      " 2   LotFrontage    1201 non-null   float64\n",
      " 3   LotArea        1460 non-null   int64  \n",
      " 4   Street         1460 non-null   object \n",
      " 5   Alley          91 non-null     object \n",
      " 6   LotShape       1460 non-null   object \n",
      " 7   LandContour    1460 non-null   object \n",
      " 8   Utilities      1460 non-null   object \n",
      " 9   LotConfig      1460 non-null   object \n",
      " 10  LandSlope      1460 non-null   object \n",
      " 11  Neighborhood   1460 non-null   object \n",
      " 12  Condition1     1460 non-null   object \n",
      " 13  Condition2     1460 non-null   object \n",
      " 14  BldgType       1460 non-null   object \n",
      " 15  HouseStyle     1460 non-null   object \n",
      " 16  OverallQual    1460 non-null   int64  \n",
      " 17  OverallCond    1460 non-null   int64  \n",
      " 18  YearBuilt      1460 non-null   int64  \n",
      " 19  YearRemodAdd   1460 non-null   int64  \n",
      " 20  RoofStyle      1460 non-null   object \n",
      " 21  RoofMatl       1460 non-null   object \n",
      " 22  Exterior1st    1460 non-null   object \n",
      " 23  Exterior2nd    1460 non-null   object \n",
      " 24  MasVnrType     1452 non-null   object \n",
      " 25  MasVnrArea     1452 non-null   float64\n",
      " 26  ExterQual      1460 non-null   object \n",
      " 27  ExterCond      1460 non-null   object \n",
      " 28  Foundation     1460 non-null   object \n",
      " 29  BsmtQual       1423 non-null   object \n",
      " 30  BsmtCond       1423 non-null   object \n",
      " 31  BsmtExposure   1422 non-null   object \n",
      " 32  BsmtFinType1   1423 non-null   object \n",
      " 33  BsmtFinSF1     1460 non-null   int64  \n",
      " 34  BsmtFinType2   1422 non-null   object \n",
      " 35  BsmtFinSF2     1460 non-null   int64  \n",
      " 36  BsmtUnfSF      1460 non-null   int64  \n",
      " 37  TotalBsmtSF    1460 non-null   int64  \n",
      " 38  Heating        1460 non-null   object \n",
      " 39  HeatingQC      1460 non-null   object \n",
      " 40  CentralAir     1460 non-null   object \n",
      " 41  Electrical     1459 non-null   object \n",
      " 42  1stFlrSF       1460 non-null   int64  \n",
      " 43  2ndFlrSF       1460 non-null   int64  \n",
      " 44  LowQualFinSF   1460 non-null   int64  \n",
      " 45  GrLivArea      1460 non-null   int64  \n",
      " 46  BsmtFullBath   1460 non-null   int64  \n",
      " 47  BsmtHalfBath   1460 non-null   int64  \n",
      " 48  FullBath       1460 non-null   int64  \n",
      " 49  HalfBath       1460 non-null   int64  \n",
      " 50  BedroomAbvGr   1460 non-null   int64  \n",
      " 51  KitchenAbvGr   1460 non-null   int64  \n",
      " 52  KitchenQual    1460 non-null   object \n",
      " 53  TotRmsAbvGrd   1460 non-null   int64  \n",
      " 54  Functional     1460 non-null   object \n",
      " 55  Fireplaces     1460 non-null   int64  \n",
      " 56  FireplaceQu    770 non-null    object \n",
      " 57  GarageType     1379 non-null   object \n",
      " 58  GarageYrBlt    1379 non-null   float64\n",
      " 59  GarageFinish   1379 non-null   object \n",
      " 60  GarageCars     1460 non-null   int64  \n",
      " 61  GarageArea     1460 non-null   int64  \n",
      " 62  GarageQual     1379 non-null   object \n",
      " 63  GarageCond     1379 non-null   object \n",
      " 64  PavedDrive     1460 non-null   object \n",
      " 65  WoodDeckSF     1460 non-null   int64  \n",
      " 66  OpenPorchSF    1460 non-null   int64  \n",
      " 67  EnclosedPorch  1460 non-null   int64  \n",
      " 68  3SsnPorch      1460 non-null   int64  \n",
      " 69  ScreenPorch    1460 non-null   int64  \n",
      " 70  PoolArea       1460 non-null   int64  \n",
      " 71  PoolQC         7 non-null      object \n",
      " 72  Fence          281 non-null    object \n",
      " 73  MiscFeature    54 non-null     object \n",
      " 74  MiscVal        1460 non-null   int64  \n",
      " 75  MoSold         1460 non-null   int64  \n",
      " 76  YrSold         1460 non-null   int64  \n",
      " 77  SaleType       1460 non-null   object \n",
      " 78  SaleCondition  1460 non-null   object \n",
      " 79  SalePrice      1460 non-null   int64  \n",
      "dtypes: float64(3), int64(34), object(43)\n",
      "memory usage: 912.6+ KB\n"
     ]
    }
   ],
   "source": [
    "#see the training set structure\n",
    "\n",
    "train.info()"
   ]
  },
  {
   "cell_type": "code",
   "execution_count": 44,
   "metadata": {
    "execution": {
     "iopub.execute_input": "2020-12-03T23:21:56.719333Z",
     "iopub.status.busy": "2020-12-03T23:21:56.718116Z",
     "iopub.status.idle": "2020-12-03T23:23:40.308828Z",
     "shell.execute_reply": "2020-12-03T23:23:40.307787Z"
    },
    "papermill": {
     "duration": 103.688536,
     "end_time": "2020-12-03T23:23:40.309038",
     "exception": false,
     "start_time": "2020-12-03T23:21:56.620502",
     "status": "completed"
    },
    "tags": []
   },
   "outputs": [
    {
     "data": {
      "text/html": [
       "<div>\n",
       "<style scoped>\n",
       "    .dataframe tbody tr th:only-of-type {\n",
       "        vertical-align: middle;\n",
       "    }\n",
       "\n",
       "    .dataframe tbody tr th {\n",
       "        vertical-align: top;\n",
       "    }\n",
       "\n",
       "    .dataframe thead th {\n",
       "        text-align: right;\n",
       "    }\n",
       "</style>\n",
       "<table border=\"1\" class=\"dataframe\">\n",
       "  <thead>\n",
       "    <tr style=\"text-align: right;\">\n",
       "      <th></th>\n",
       "      <th>MSSubClass</th>\n",
       "      <th>MSZoning</th>\n",
       "      <th>LotFrontage</th>\n",
       "      <th>LotArea</th>\n",
       "      <th>Street</th>\n",
       "      <th>Alley</th>\n",
       "      <th>LotShape</th>\n",
       "      <th>LandContour</th>\n",
       "      <th>Utilities</th>\n",
       "      <th>LotConfig</th>\n",
       "      <th>LandSlope</th>\n",
       "      <th>Neighborhood</th>\n",
       "      <th>Condition1</th>\n",
       "      <th>Condition2</th>\n",
       "      <th>BldgType</th>\n",
       "      <th>HouseStyle</th>\n",
       "      <th>OverallQual</th>\n",
       "      <th>OverallCond</th>\n",
       "      <th>YearBuilt</th>\n",
       "      <th>YearRemodAdd</th>\n",
       "      <th>RoofStyle</th>\n",
       "      <th>RoofMatl</th>\n",
       "      <th>Exterior1st</th>\n",
       "      <th>Exterior2nd</th>\n",
       "      <th>MasVnrType</th>\n",
       "      <th>MasVnrArea</th>\n",
       "      <th>ExterQual</th>\n",
       "      <th>ExterCond</th>\n",
       "      <th>Foundation</th>\n",
       "      <th>BsmtQual</th>\n",
       "      <th>BsmtCond</th>\n",
       "      <th>BsmtExposure</th>\n",
       "      <th>BsmtFinType1</th>\n",
       "      <th>BsmtFinSF1</th>\n",
       "      <th>BsmtFinType2</th>\n",
       "      <th>BsmtFinSF2</th>\n",
       "      <th>BsmtUnfSF</th>\n",
       "      <th>TotalBsmtSF</th>\n",
       "      <th>Heating</th>\n",
       "      <th>HeatingQC</th>\n",
       "      <th>CentralAir</th>\n",
       "      <th>Electrical</th>\n",
       "      <th>1stFlrSF</th>\n",
       "      <th>2ndFlrSF</th>\n",
       "      <th>LowQualFinSF</th>\n",
       "      <th>GrLivArea</th>\n",
       "      <th>BsmtFullBath</th>\n",
       "      <th>BsmtHalfBath</th>\n",
       "      <th>FullBath</th>\n",
       "      <th>HalfBath</th>\n",
       "      <th>BedroomAbvGr</th>\n",
       "      <th>KitchenAbvGr</th>\n",
       "      <th>KitchenQual</th>\n",
       "      <th>TotRmsAbvGrd</th>\n",
       "      <th>Functional</th>\n",
       "      <th>Fireplaces</th>\n",
       "      <th>FireplaceQu</th>\n",
       "      <th>GarageType</th>\n",
       "      <th>GarageYrBlt</th>\n",
       "      <th>GarageFinish</th>\n",
       "      <th>GarageCars</th>\n",
       "      <th>GarageArea</th>\n",
       "      <th>GarageQual</th>\n",
       "      <th>GarageCond</th>\n",
       "      <th>PavedDrive</th>\n",
       "      <th>WoodDeckSF</th>\n",
       "      <th>OpenPorchSF</th>\n",
       "      <th>EnclosedPorch</th>\n",
       "      <th>3SsnPorch</th>\n",
       "      <th>ScreenPorch</th>\n",
       "      <th>PoolArea</th>\n",
       "      <th>PoolQC</th>\n",
       "      <th>Fence</th>\n",
       "      <th>MiscFeature</th>\n",
       "      <th>MiscVal</th>\n",
       "      <th>MoSold</th>\n",
       "      <th>YrSold</th>\n",
       "      <th>SaleType</th>\n",
       "      <th>SaleCondition</th>\n",
       "      <th>SalePrice</th>\n",
       "    </tr>\n",
       "  </thead>\n",
       "  <tbody>\n",
       "    <tr>\n",
       "      <th>0</th>\n",
       "      <td>60</td>\n",
       "      <td>RL</td>\n",
       "      <td>65.0</td>\n",
       "      <td>8450</td>\n",
       "      <td>Pave</td>\n",
       "      <td>NaN</td>\n",
       "      <td>Reg</td>\n",
       "      <td>Lvl</td>\n",
       "      <td>AllPub</td>\n",
       "      <td>Inside</td>\n",
       "      <td>Gtl</td>\n",
       "      <td>CollgCr</td>\n",
       "      <td>Norm</td>\n",
       "      <td>Norm</td>\n",
       "      <td>1Fam</td>\n",
       "      <td>2Story</td>\n",
       "      <td>7</td>\n",
       "      <td>5</td>\n",
       "      <td>2003</td>\n",
       "      <td>2003</td>\n",
       "      <td>Gable</td>\n",
       "      <td>CompShg</td>\n",
       "      <td>VinylSd</td>\n",
       "      <td>VinylSd</td>\n",
       "      <td>BrkFace</td>\n",
       "      <td>196.0</td>\n",
       "      <td>Gd</td>\n",
       "      <td>TA</td>\n",
       "      <td>PConc</td>\n",
       "      <td>Gd</td>\n",
       "      <td>TA</td>\n",
       "      <td>No</td>\n",
       "      <td>GLQ</td>\n",
       "      <td>706</td>\n",
       "      <td>Unf</td>\n",
       "      <td>0</td>\n",
       "      <td>150</td>\n",
       "      <td>856</td>\n",
       "      <td>GasA</td>\n",
       "      <td>Ex</td>\n",
       "      <td>Y</td>\n",
       "      <td>SBrkr</td>\n",
       "      <td>856</td>\n",
       "      <td>854</td>\n",
       "      <td>0</td>\n",
       "      <td>1710</td>\n",
       "      <td>1</td>\n",
       "      <td>0</td>\n",
       "      <td>2</td>\n",
       "      <td>1</td>\n",
       "      <td>3</td>\n",
       "      <td>1</td>\n",
       "      <td>Gd</td>\n",
       "      <td>8</td>\n",
       "      <td>Typ</td>\n",
       "      <td>0</td>\n",
       "      <td>NaN</td>\n",
       "      <td>Attchd</td>\n",
       "      <td>2003.0</td>\n",
       "      <td>RFn</td>\n",
       "      <td>2</td>\n",
       "      <td>548</td>\n",
       "      <td>TA</td>\n",
       "      <td>TA</td>\n",
       "      <td>Y</td>\n",
       "      <td>0</td>\n",
       "      <td>61</td>\n",
       "      <td>0</td>\n",
       "      <td>0</td>\n",
       "      <td>0</td>\n",
       "      <td>0</td>\n",
       "      <td>NaN</td>\n",
       "      <td>NaN</td>\n",
       "      <td>NaN</td>\n",
       "      <td>0</td>\n",
       "      <td>2</td>\n",
       "      <td>2008</td>\n",
       "      <td>WD</td>\n",
       "      <td>Normal</td>\n",
       "      <td>208500</td>\n",
       "    </tr>\n",
       "    <tr>\n",
       "      <th>1</th>\n",
       "      <td>20</td>\n",
       "      <td>RL</td>\n",
       "      <td>80.0</td>\n",
       "      <td>9600</td>\n",
       "      <td>Pave</td>\n",
       "      <td>NaN</td>\n",
       "      <td>Reg</td>\n",
       "      <td>Lvl</td>\n",
       "      <td>AllPub</td>\n",
       "      <td>FR2</td>\n",
       "      <td>Gtl</td>\n",
       "      <td>Veenker</td>\n",
       "      <td>Feedr</td>\n",
       "      <td>Norm</td>\n",
       "      <td>1Fam</td>\n",
       "      <td>1Story</td>\n",
       "      <td>6</td>\n",
       "      <td>8</td>\n",
       "      <td>1976</td>\n",
       "      <td>1976</td>\n",
       "      <td>Gable</td>\n",
       "      <td>CompShg</td>\n",
       "      <td>MetalSd</td>\n",
       "      <td>MetalSd</td>\n",
       "      <td>None</td>\n",
       "      <td>0.0</td>\n",
       "      <td>TA</td>\n",
       "      <td>TA</td>\n",
       "      <td>CBlock</td>\n",
       "      <td>Gd</td>\n",
       "      <td>TA</td>\n",
       "      <td>Gd</td>\n",
       "      <td>ALQ</td>\n",
       "      <td>978</td>\n",
       "      <td>Unf</td>\n",
       "      <td>0</td>\n",
       "      <td>284</td>\n",
       "      <td>1262</td>\n",
       "      <td>GasA</td>\n",
       "      <td>Ex</td>\n",
       "      <td>Y</td>\n",
       "      <td>SBrkr</td>\n",
       "      <td>1262</td>\n",
       "      <td>0</td>\n",
       "      <td>0</td>\n",
       "      <td>1262</td>\n",
       "      <td>0</td>\n",
       "      <td>1</td>\n",
       "      <td>2</td>\n",
       "      <td>0</td>\n",
       "      <td>3</td>\n",
       "      <td>1</td>\n",
       "      <td>TA</td>\n",
       "      <td>6</td>\n",
       "      <td>Typ</td>\n",
       "      <td>1</td>\n",
       "      <td>TA</td>\n",
       "      <td>Attchd</td>\n",
       "      <td>1976.0</td>\n",
       "      <td>RFn</td>\n",
       "      <td>2</td>\n",
       "      <td>460</td>\n",
       "      <td>TA</td>\n",
       "      <td>TA</td>\n",
       "      <td>Y</td>\n",
       "      <td>298</td>\n",
       "      <td>0</td>\n",
       "      <td>0</td>\n",
       "      <td>0</td>\n",
       "      <td>0</td>\n",
       "      <td>0</td>\n",
       "      <td>NaN</td>\n",
       "      <td>NaN</td>\n",
       "      <td>NaN</td>\n",
       "      <td>0</td>\n",
       "      <td>5</td>\n",
       "      <td>2007</td>\n",
       "      <td>WD</td>\n",
       "      <td>Normal</td>\n",
       "      <td>181500</td>\n",
       "    </tr>\n",
       "    <tr>\n",
       "      <th>2</th>\n",
       "      <td>60</td>\n",
       "      <td>RL</td>\n",
       "      <td>68.0</td>\n",
       "      <td>11250</td>\n",
       "      <td>Pave</td>\n",
       "      <td>NaN</td>\n",
       "      <td>IR1</td>\n",
       "      <td>Lvl</td>\n",
       "      <td>AllPub</td>\n",
       "      <td>Inside</td>\n",
       "      <td>Gtl</td>\n",
       "      <td>CollgCr</td>\n",
       "      <td>Norm</td>\n",
       "      <td>Norm</td>\n",
       "      <td>1Fam</td>\n",
       "      <td>2Story</td>\n",
       "      <td>7</td>\n",
       "      <td>5</td>\n",
       "      <td>2001</td>\n",
       "      <td>2002</td>\n",
       "      <td>Gable</td>\n",
       "      <td>CompShg</td>\n",
       "      <td>VinylSd</td>\n",
       "      <td>VinylSd</td>\n",
       "      <td>BrkFace</td>\n",
       "      <td>162.0</td>\n",
       "      <td>Gd</td>\n",
       "      <td>TA</td>\n",
       "      <td>PConc</td>\n",
       "      <td>Gd</td>\n",
       "      <td>TA</td>\n",
       "      <td>Mn</td>\n",
       "      <td>GLQ</td>\n",
       "      <td>486</td>\n",
       "      <td>Unf</td>\n",
       "      <td>0</td>\n",
       "      <td>434</td>\n",
       "      <td>920</td>\n",
       "      <td>GasA</td>\n",
       "      <td>Ex</td>\n",
       "      <td>Y</td>\n",
       "      <td>SBrkr</td>\n",
       "      <td>920</td>\n",
       "      <td>866</td>\n",
       "      <td>0</td>\n",
       "      <td>1786</td>\n",
       "      <td>1</td>\n",
       "      <td>0</td>\n",
       "      <td>2</td>\n",
       "      <td>1</td>\n",
       "      <td>3</td>\n",
       "      <td>1</td>\n",
       "      <td>Gd</td>\n",
       "      <td>6</td>\n",
       "      <td>Typ</td>\n",
       "      <td>1</td>\n",
       "      <td>TA</td>\n",
       "      <td>Attchd</td>\n",
       "      <td>2001.0</td>\n",
       "      <td>RFn</td>\n",
       "      <td>2</td>\n",
       "      <td>608</td>\n",
       "      <td>TA</td>\n",
       "      <td>TA</td>\n",
       "      <td>Y</td>\n",
       "      <td>0</td>\n",
       "      <td>42</td>\n",
       "      <td>0</td>\n",
       "      <td>0</td>\n",
       "      <td>0</td>\n",
       "      <td>0</td>\n",
       "      <td>NaN</td>\n",
       "      <td>NaN</td>\n",
       "      <td>NaN</td>\n",
       "      <td>0</td>\n",
       "      <td>9</td>\n",
       "      <td>2008</td>\n",
       "      <td>WD</td>\n",
       "      <td>Normal</td>\n",
       "      <td>223500</td>\n",
       "    </tr>\n",
       "    <tr>\n",
       "      <th>3</th>\n",
       "      <td>70</td>\n",
       "      <td>RL</td>\n",
       "      <td>60.0</td>\n",
       "      <td>9550</td>\n",
       "      <td>Pave</td>\n",
       "      <td>NaN</td>\n",
       "      <td>IR1</td>\n",
       "      <td>Lvl</td>\n",
       "      <td>AllPub</td>\n",
       "      <td>Corner</td>\n",
       "      <td>Gtl</td>\n",
       "      <td>Crawfor</td>\n",
       "      <td>Norm</td>\n",
       "      <td>Norm</td>\n",
       "      <td>1Fam</td>\n",
       "      <td>2Story</td>\n",
       "      <td>7</td>\n",
       "      <td>5</td>\n",
       "      <td>1915</td>\n",
       "      <td>1970</td>\n",
       "      <td>Gable</td>\n",
       "      <td>CompShg</td>\n",
       "      <td>Wd Sdng</td>\n",
       "      <td>Wd Shng</td>\n",
       "      <td>None</td>\n",
       "      <td>0.0</td>\n",
       "      <td>TA</td>\n",
       "      <td>TA</td>\n",
       "      <td>BrkTil</td>\n",
       "      <td>TA</td>\n",
       "      <td>Gd</td>\n",
       "      <td>No</td>\n",
       "      <td>ALQ</td>\n",
       "      <td>216</td>\n",
       "      <td>Unf</td>\n",
       "      <td>0</td>\n",
       "      <td>540</td>\n",
       "      <td>756</td>\n",
       "      <td>GasA</td>\n",
       "      <td>Gd</td>\n",
       "      <td>Y</td>\n",
       "      <td>SBrkr</td>\n",
       "      <td>961</td>\n",
       "      <td>756</td>\n",
       "      <td>0</td>\n",
       "      <td>1717</td>\n",
       "      <td>1</td>\n",
       "      <td>0</td>\n",
       "      <td>1</td>\n",
       "      <td>0</td>\n",
       "      <td>3</td>\n",
       "      <td>1</td>\n",
       "      <td>Gd</td>\n",
       "      <td>7</td>\n",
       "      <td>Typ</td>\n",
       "      <td>1</td>\n",
       "      <td>Gd</td>\n",
       "      <td>Detchd</td>\n",
       "      <td>1998.0</td>\n",
       "      <td>Unf</td>\n",
       "      <td>3</td>\n",
       "      <td>642</td>\n",
       "      <td>TA</td>\n",
       "      <td>TA</td>\n",
       "      <td>Y</td>\n",
       "      <td>0</td>\n",
       "      <td>35</td>\n",
       "      <td>272</td>\n",
       "      <td>0</td>\n",
       "      <td>0</td>\n",
       "      <td>0</td>\n",
       "      <td>NaN</td>\n",
       "      <td>NaN</td>\n",
       "      <td>NaN</td>\n",
       "      <td>0</td>\n",
       "      <td>2</td>\n",
       "      <td>2006</td>\n",
       "      <td>WD</td>\n",
       "      <td>Abnorml</td>\n",
       "      <td>140000</td>\n",
       "    </tr>\n",
       "    <tr>\n",
       "      <th>4</th>\n",
       "      <td>60</td>\n",
       "      <td>RL</td>\n",
       "      <td>84.0</td>\n",
       "      <td>14260</td>\n",
       "      <td>Pave</td>\n",
       "      <td>NaN</td>\n",
       "      <td>IR1</td>\n",
       "      <td>Lvl</td>\n",
       "      <td>AllPub</td>\n",
       "      <td>FR2</td>\n",
       "      <td>Gtl</td>\n",
       "      <td>NoRidge</td>\n",
       "      <td>Norm</td>\n",
       "      <td>Norm</td>\n",
       "      <td>1Fam</td>\n",
       "      <td>2Story</td>\n",
       "      <td>8</td>\n",
       "      <td>5</td>\n",
       "      <td>2000</td>\n",
       "      <td>2000</td>\n",
       "      <td>Gable</td>\n",
       "      <td>CompShg</td>\n",
       "      <td>VinylSd</td>\n",
       "      <td>VinylSd</td>\n",
       "      <td>BrkFace</td>\n",
       "      <td>350.0</td>\n",
       "      <td>Gd</td>\n",
       "      <td>TA</td>\n",
       "      <td>PConc</td>\n",
       "      <td>Gd</td>\n",
       "      <td>TA</td>\n",
       "      <td>Av</td>\n",
       "      <td>GLQ</td>\n",
       "      <td>655</td>\n",
       "      <td>Unf</td>\n",
       "      <td>0</td>\n",
       "      <td>490</td>\n",
       "      <td>1145</td>\n",
       "      <td>GasA</td>\n",
       "      <td>Ex</td>\n",
       "      <td>Y</td>\n",
       "      <td>SBrkr</td>\n",
       "      <td>1145</td>\n",
       "      <td>1053</td>\n",
       "      <td>0</td>\n",
       "      <td>2198</td>\n",
       "      <td>1</td>\n",
       "      <td>0</td>\n",
       "      <td>2</td>\n",
       "      <td>1</td>\n",
       "      <td>4</td>\n",
       "      <td>1</td>\n",
       "      <td>Gd</td>\n",
       "      <td>9</td>\n",
       "      <td>Typ</td>\n",
       "      <td>1</td>\n",
       "      <td>TA</td>\n",
       "      <td>Attchd</td>\n",
       "      <td>2000.0</td>\n",
       "      <td>RFn</td>\n",
       "      <td>3</td>\n",
       "      <td>836</td>\n",
       "      <td>TA</td>\n",
       "      <td>TA</td>\n",
       "      <td>Y</td>\n",
       "      <td>192</td>\n",
       "      <td>84</td>\n",
       "      <td>0</td>\n",
       "      <td>0</td>\n",
       "      <td>0</td>\n",
       "      <td>0</td>\n",
       "      <td>NaN</td>\n",
       "      <td>NaN</td>\n",
       "      <td>NaN</td>\n",
       "      <td>0</td>\n",
       "      <td>12</td>\n",
       "      <td>2008</td>\n",
       "      <td>WD</td>\n",
       "      <td>Normal</td>\n",
       "      <td>250000</td>\n",
       "    </tr>\n",
       "  </tbody>\n",
       "</table>\n",
       "</div>"
      ],
      "text/plain": [
       "   MSSubClass MSZoning  LotFrontage  LotArea Street Alley LotShape  \\\n",
       "0          60       RL         65.0     8450   Pave   NaN      Reg   \n",
       "1          20       RL         80.0     9600   Pave   NaN      Reg   \n",
       "2          60       RL         68.0    11250   Pave   NaN      IR1   \n",
       "3          70       RL         60.0     9550   Pave   NaN      IR1   \n",
       "4          60       RL         84.0    14260   Pave   NaN      IR1   \n",
       "\n",
       "  LandContour Utilities LotConfig LandSlope Neighborhood Condition1  \\\n",
       "0         Lvl    AllPub    Inside       Gtl      CollgCr       Norm   \n",
       "1         Lvl    AllPub       FR2       Gtl      Veenker      Feedr   \n",
       "2         Lvl    AllPub    Inside       Gtl      CollgCr       Norm   \n",
       "3         Lvl    AllPub    Corner       Gtl      Crawfor       Norm   \n",
       "4         Lvl    AllPub       FR2       Gtl      NoRidge       Norm   \n",
       "\n",
       "  Condition2 BldgType HouseStyle  OverallQual  OverallCond  YearBuilt  \\\n",
       "0       Norm     1Fam     2Story            7            5       2003   \n",
       "1       Norm     1Fam     1Story            6            8       1976   \n",
       "2       Norm     1Fam     2Story            7            5       2001   \n",
       "3       Norm     1Fam     2Story            7            5       1915   \n",
       "4       Norm     1Fam     2Story            8            5       2000   \n",
       "\n",
       "   YearRemodAdd RoofStyle RoofMatl Exterior1st Exterior2nd MasVnrType  \\\n",
       "0          2003     Gable  CompShg     VinylSd     VinylSd    BrkFace   \n",
       "1          1976     Gable  CompShg     MetalSd     MetalSd       None   \n",
       "2          2002     Gable  CompShg     VinylSd     VinylSd    BrkFace   \n",
       "3          1970     Gable  CompShg     Wd Sdng     Wd Shng       None   \n",
       "4          2000     Gable  CompShg     VinylSd     VinylSd    BrkFace   \n",
       "\n",
       "   MasVnrArea ExterQual ExterCond Foundation BsmtQual BsmtCond BsmtExposure  \\\n",
       "0       196.0        Gd        TA      PConc       Gd       TA           No   \n",
       "1         0.0        TA        TA     CBlock       Gd       TA           Gd   \n",
       "2       162.0        Gd        TA      PConc       Gd       TA           Mn   \n",
       "3         0.0        TA        TA     BrkTil       TA       Gd           No   \n",
       "4       350.0        Gd        TA      PConc       Gd       TA           Av   \n",
       "\n",
       "  BsmtFinType1  BsmtFinSF1 BsmtFinType2  BsmtFinSF2  BsmtUnfSF  TotalBsmtSF  \\\n",
       "0          GLQ         706          Unf           0        150          856   \n",
       "1          ALQ         978          Unf           0        284         1262   \n",
       "2          GLQ         486          Unf           0        434          920   \n",
       "3          ALQ         216          Unf           0        540          756   \n",
       "4          GLQ         655          Unf           0        490         1145   \n",
       "\n",
       "  Heating HeatingQC CentralAir Electrical  1stFlrSF  2ndFlrSF  LowQualFinSF  \\\n",
       "0    GasA        Ex          Y      SBrkr       856       854             0   \n",
       "1    GasA        Ex          Y      SBrkr      1262         0             0   \n",
       "2    GasA        Ex          Y      SBrkr       920       866             0   \n",
       "3    GasA        Gd          Y      SBrkr       961       756             0   \n",
       "4    GasA        Ex          Y      SBrkr      1145      1053             0   \n",
       "\n",
       "   GrLivArea  BsmtFullBath  BsmtHalfBath  FullBath  HalfBath  BedroomAbvGr  \\\n",
       "0       1710             1             0         2         1             3   \n",
       "1       1262             0             1         2         0             3   \n",
       "2       1786             1             0         2         1             3   \n",
       "3       1717             1             0         1         0             3   \n",
       "4       2198             1             0         2         1             4   \n",
       "\n",
       "   KitchenAbvGr KitchenQual  TotRmsAbvGrd Functional  Fireplaces FireplaceQu  \\\n",
       "0             1          Gd             8        Typ           0         NaN   \n",
       "1             1          TA             6        Typ           1          TA   \n",
       "2             1          Gd             6        Typ           1          TA   \n",
       "3             1          Gd             7        Typ           1          Gd   \n",
       "4             1          Gd             9        Typ           1          TA   \n",
       "\n",
       "  GarageType  GarageYrBlt GarageFinish  GarageCars  GarageArea GarageQual  \\\n",
       "0     Attchd       2003.0          RFn           2         548         TA   \n",
       "1     Attchd       1976.0          RFn           2         460         TA   \n",
       "2     Attchd       2001.0          RFn           2         608         TA   \n",
       "3     Detchd       1998.0          Unf           3         642         TA   \n",
       "4     Attchd       2000.0          RFn           3         836         TA   \n",
       "\n",
       "  GarageCond PavedDrive  WoodDeckSF  OpenPorchSF  EnclosedPorch  3SsnPorch  \\\n",
       "0         TA          Y           0           61              0          0   \n",
       "1         TA          Y         298            0              0          0   \n",
       "2         TA          Y           0           42              0          0   \n",
       "3         TA          Y           0           35            272          0   \n",
       "4         TA          Y         192           84              0          0   \n",
       "\n",
       "   ScreenPorch  PoolArea PoolQC Fence MiscFeature  MiscVal  MoSold  YrSold  \\\n",
       "0            0         0    NaN   NaN         NaN        0       2    2008   \n",
       "1            0         0    NaN   NaN         NaN        0       5    2007   \n",
       "2            0         0    NaN   NaN         NaN        0       9    2008   \n",
       "3            0         0    NaN   NaN         NaN        0       2    2006   \n",
       "4            0         0    NaN   NaN         NaN        0      12    2008   \n",
       "\n",
       "  SaleType SaleCondition  SalePrice  \n",
       "0       WD        Normal     208500  \n",
       "1       WD        Normal     181500  \n",
       "2       WD        Normal     223500  \n",
       "3       WD       Abnorml     140000  \n",
       "4       WD        Normal     250000  "
      ]
     },
     "execution_count": 44,
     "metadata": {},
     "output_type": "execute_result"
    }
   ],
   "source": [
    "#For finding \"SalePrice\" distribution\n",
    "\n",
    "#fc = dabl.AnyClassifier()\n",
    "#X = train.drop('SalePrice', axis=1)\n",
    "#y = train.SalePrice\n",
    "#fc.fit(X, y)\n",
    "train.head()"
   ]
  },
  {
   "cell_type": "code",
   "execution_count": 45,
   "metadata": {
    "execution": {
     "iopub.execute_input": "2020-12-03T23:23:40.502931Z",
     "iopub.status.busy": "2020-12-03T23:23:40.501367Z",
     "iopub.status.idle": "2020-12-03T23:23:40.526438Z",
     "shell.execute_reply": "2020-12-03T23:23:40.525844Z"
    },
    "papermill": {
     "duration": 0.125967,
     "end_time": "2020-12-03T23:23:40.526544",
     "exception": false,
     "start_time": "2020-12-03T23:23:40.400577",
     "status": "completed"
    },
    "tags": []
   },
   "outputs": [],
   "source": [
    "#Some of the features are seen as numericals and they may be categoricals and others must be datetypes and they are numericals. So we transform them.\n",
    "\n",
    "train['GarageYrBlt'].fillna(train['GarageYrBlt'].mode()[0], inplace=True)\n",
    "train['GarageDateBlt'] = pd.to_datetime(train['GarageYrBlt'], format='%Y') \n",
    "\n",
    "train.drop([\"GarageYrBlt\"], axis = 1, inplace = True) \n",
    "\n",
    "train['MSSubClass'] = train['MSSubClass'].apply(str)\n",
    "train['YrSold'] = train['YrSold'].astype(str)\n",
    "train['MoSold'] = train['MoSold'].astype(str)\n",
    "\n",
    "train['DateBuilt'] = pd.to_datetime(train['YearBuilt'], format='%Y') \n",
    "\n",
    "\n",
    "train['DateSold'] = pd.to_datetime(train['YrSold'], format='%Y') \n",
    "\n",
    "\n",
    "train['DateRemodAdd'] = pd.to_datetime(train['YearRemodAdd'], format='%Y') \n",
    "\n",
    "train.drop([\"YearBuilt\", \"YrSold\", \"YearRemodAdd\"], axis = 1, inplace = True) "
   ]
  },
  {
   "cell_type": "code",
   "execution_count": 46,
   "metadata": {
    "execution": {
     "iopub.execute_input": "2020-12-03T23:23:40.719302Z",
     "iopub.status.busy": "2020-12-03T23:23:40.716614Z",
     "iopub.status.idle": "2020-12-03T23:23:40.740185Z",
     "shell.execute_reply": "2020-12-03T23:23:40.739058Z"
    },
    "papermill": {
     "duration": 0.123777,
     "end_time": "2020-12-03T23:23:40.740312",
     "exception": false,
     "start_time": "2020-12-03T23:23:40.616535",
     "status": "completed"
    },
    "tags": []
   },
   "outputs": [],
   "source": [
    "#Some of the features are seen as numericals and they may be categoricals and others must be datetypes and they are numericals. So we transform them.\n",
    "\n",
    "test['GarageYrBlt'].fillna(test['GarageYrBlt'].mode()[0], inplace=True)\n",
    "test['GarageDateBlt'] = pd.to_datetime(test['GarageYrBlt'], format='%Y') \n",
    "\n",
    "test.drop([\"GarageYrBlt\"], axis = 1, inplace = True) \n",
    "\n",
    "test['MSSubClass'] = test['MSSubClass'].apply(str)\n",
    "test['YrSold'] = test['YrSold'].astype(str)\n",
    "test['MoSold'] = test['MoSold'].astype(str)\n",
    "\n",
    "test['DateBuilt'] = pd.to_datetime(test['YearBuilt'], format='%Y') \n",
    "\n",
    "\n",
    "test['DateSold'] = pd.to_datetime(test['YrSold'], format='%Y') \n",
    "\n",
    "\n",
    "test['DateRemodAdd'] = pd.to_datetime(test['YearRemodAdd'], format='%Y') \n",
    "\n",
    "test.drop([\"YearBuilt\", \"YrSold\", \"YearRemodAdd\"], axis = 1, inplace = True) "
   ]
  },
  {
   "cell_type": "code",
   "execution_count": 47,
   "metadata": {
    "execution": {
     "iopub.execute_input": "2020-12-03T23:23:40.929487Z",
     "iopub.status.busy": "2020-12-03T23:23:40.927543Z",
     "iopub.status.idle": "2020-12-03T23:23:40.930230Z",
     "shell.execute_reply": "2020-12-03T23:23:40.930726Z"
    },
    "papermill": {
     "duration": 0.100445,
     "end_time": "2020-12-03T23:23:40.930842",
     "exception": false,
     "start_time": "2020-12-03T23:23:40.830397",
     "status": "completed"
    },
    "tags": []
   },
   "outputs": [],
   "source": [
    "#Function for finding numerical and categorical features\n",
    "\n",
    "def characteristics(dataset):\n",
    "    print('Shape of the dataset: {}'.format(dataset.shape))\n",
    "    dataset_numerical = dataset.select_dtypes(include = [np.number])\n",
    "    print('Number of Numerical Features: {}'.format(dataset_numerical.shape[1]))\n",
    "    dataset_categorical = dataset.select_dtypes(exclude = [np.number])\n",
    "    print('Number of Categorical Features: {}'.format(dataset_categorical.shape[1]))"
   ]
  },
  {
   "cell_type": "code",
   "execution_count": 48,
   "metadata": {
    "execution": {
     "iopub.execute_input": "2020-12-03T23:23:41.122815Z",
     "iopub.status.busy": "2020-12-03T23:23:41.121920Z",
     "iopub.status.idle": "2020-12-03T23:23:41.129618Z",
     "shell.execute_reply": "2020-12-03T23:23:41.129037Z"
    },
    "papermill": {
     "duration": 0.108364,
     "end_time": "2020-12-03T23:23:41.129748",
     "exception": false,
     "start_time": "2020-12-03T23:23:41.021384",
     "status": "completed"
    },
    "tags": []
   },
   "outputs": [
    {
     "name": "stdout",
     "output_type": "stream",
     "text": [
      "Shape of the dataset: (1460, 80)\n",
      "Number of Numerical Features: 31\n",
      "Number of Categorical Features: 49\n"
     ]
    }
   ],
   "source": [
    "characteristics(train)"
   ]
  },
  {
   "cell_type": "code",
   "execution_count": 49,
   "metadata": {
    "execution": {
     "iopub.execute_input": "2020-12-03T23:23:41.325118Z",
     "iopub.status.busy": "2020-12-03T23:23:41.323126Z",
     "iopub.status.idle": "2020-12-03T23:23:41.331011Z",
     "shell.execute_reply": "2020-12-03T23:23:41.331873Z"
    },
    "papermill": {
     "duration": 0.109032,
     "end_time": "2020-12-03T23:23:41.332051",
     "exception": false,
     "start_time": "2020-12-03T23:23:41.223019",
     "status": "completed"
    },
    "tags": []
   },
   "outputs": [
    {
     "name": "stdout",
     "output_type": "stream",
     "text": [
      "Shape of the dataset: (1459, 79)\n",
      "Number of Numerical Features: 30\n",
      "Number of Categorical Features: 49\n"
     ]
    }
   ],
   "source": [
    "characteristics(test)"
   ]
  },
  {
   "cell_type": "code",
   "execution_count": 50,
   "metadata": {
    "execution": {
     "iopub.execute_input": "2020-12-03T23:23:41.527226Z",
     "iopub.status.busy": "2020-12-03T23:23:41.526267Z",
     "iopub.status.idle": "2020-12-03T23:23:41.529432Z",
     "shell.execute_reply": "2020-12-03T23:23:41.528918Z"
    },
    "papermill": {
     "duration": 0.104688,
     "end_time": "2020-12-03T23:23:41.529569",
     "exception": false,
     "start_time": "2020-12-03T23:23:41.424881",
     "status": "completed"
    },
    "tags": []
   },
   "outputs": [],
   "source": [
    "#Variables for storing numerical and categoricals features in training dataset\n",
    "\n",
    "numerical_train = train.select_dtypes(include = [np.number])\n",
    "numerical_features = numerical_train.columns\n",
    "\n",
    "categorical_train = train.select_dtypes(exclude = [np.number])\n",
    "categorical_features = categorical_train.columns"
   ]
  },
  {
   "cell_type": "code",
   "execution_count": 51,
   "metadata": {
    "execution": {
     "iopub.execute_input": "2020-12-03T23:23:41.721159Z",
     "iopub.status.busy": "2020-12-03T23:23:41.720232Z",
     "iopub.status.idle": "2020-12-03T23:23:41.723640Z",
     "shell.execute_reply": "2020-12-03T23:23:41.723111Z"
    },
    "papermill": {
     "duration": 0.104424,
     "end_time": "2020-12-03T23:23:41.723747",
     "exception": false,
     "start_time": "2020-12-03T23:23:41.619323",
     "status": "completed"
    },
    "tags": []
   },
   "outputs": [],
   "source": [
    "#Variables for storing numerical and categoricals features in testing dataset\n",
    "\n",
    "numerical_test = test.select_dtypes(include = [np.number])\n",
    "numerical_features = numerical_test.columns\n",
    "\n",
    "categorical_test = test.select_dtypes(exclude = [np.number])\n",
    "categorical_features = categorical_test.columns"
   ]
  },
  {
   "cell_type": "code",
   "execution_count": 52,
   "metadata": {
    "execution": {
     "iopub.execute_input": "2020-12-03T23:23:41.956448Z",
     "iopub.status.busy": "2020-12-03T23:23:41.955354Z",
     "iopub.status.idle": "2020-12-03T23:23:41.984893Z",
     "shell.execute_reply": "2020-12-03T23:23:41.985479Z"
    },
    "papermill": {
     "duration": 0.173551,
     "end_time": "2020-12-03T23:23:41.985632",
     "exception": false,
     "start_time": "2020-12-03T23:23:41.812081",
     "status": "completed"
    },
    "tags": []
   },
   "outputs": [],
   "source": [
    "# Deleting features with more than 96% of common values in both dataset because these features won't be efficient to predict \"SalePrice\".\n",
    "\n",
    "overfit_categorical_train = []\n",
    "for i in categorical_train:\n",
    "    counts = train[i].value_counts()\n",
    "    zeros = counts.iloc[0]\n",
    "    if zeros / len(train) * 100 > 96:\n",
    "        overfit_categorical_train.append(i)\n",
    "\n",
    "overfit_categorical_train = list(overfit_categorical_train)\n",
    "test = test.drop(overfit_categorical_train, axis=1)\n",
    "train = train.drop(overfit_categorical_train, axis=1)"
   ]
  },
  {
   "cell_type": "code",
   "execution_count": 53,
   "metadata": {
    "execution": {
     "iopub.execute_input": "2020-12-03T23:23:42.180852Z",
     "iopub.status.busy": "2020-12-03T23:23:42.179709Z",
     "iopub.status.idle": "2020-12-03T23:23:42.209181Z",
     "shell.execute_reply": "2020-12-03T23:23:42.208579Z"
    },
    "papermill": {
     "duration": 0.131442,
     "end_time": "2020-12-03T23:23:42.209295",
     "exception": false,
     "start_time": "2020-12-03T23:23:42.077853",
     "status": "completed"
    },
    "tags": []
   },
   "outputs": [],
   "source": [
    "overfit_numerical_train = []\n",
    "for i in numerical_train:\n",
    "    counts = train[i].value_counts()\n",
    "    zeros = counts.iloc[0]\n",
    "    if zeros / len(train) * 100 > 96:\n",
    "        overfit_numerical_train.append(i)\n",
    "\n",
    "overfit_numerical_train = list(overfit_numerical_train)\n",
    "test = test.drop(overfit_numerical_train, axis=1)\n",
    "train = train.drop(overfit_numerical_train, axis=1)"
   ]
  },
  {
   "cell_type": "code",
   "execution_count": 54,
   "metadata": {
    "execution": {
     "iopub.execute_input": "2020-12-03T23:23:42.401572Z",
     "iopub.status.busy": "2020-12-03T23:23:42.400695Z",
     "iopub.status.idle": "2020-12-03T23:23:42.406839Z",
     "shell.execute_reply": "2020-12-03T23:23:42.407364Z"
    },
    "papermill": {
     "duration": 0.105503,
     "end_time": "2020-12-03T23:23:42.407498",
     "exception": false,
     "start_time": "2020-12-03T23:23:42.301995",
     "status": "completed"
    },
    "tags": []
   },
   "outputs": [
    {
     "name": "stdout",
     "output_type": "stream",
     "text": [
      "Categorical Features with >96% of the same value:  ['Street', 'Utilities', 'Condition2', 'RoofMatl', 'Heating']\n",
      "Numerical Features with >96% of the same value:  ['LowQualFinSF', '3SsnPorch', 'PoolArea', 'MiscVal']\n"
     ]
    }
   ],
   "source": [
    "print(\"Categorical Features with >96% of the same value: \",overfit_categorical_train)\n",
    "print(\"Numerical Features with >96% of the same value: \",overfit_numerical_train)"
   ]
  },
  {
   "cell_type": "code",
   "execution_count": 55,
   "metadata": {
    "execution": {
     "iopub.execute_input": "2020-12-03T23:23:42.600386Z",
     "iopub.status.busy": "2020-12-03T23:23:42.599543Z",
     "iopub.status.idle": "2020-12-03T23:23:42.604446Z",
     "shell.execute_reply": "2020-12-03T23:23:42.605148Z"
    },
    "papermill": {
     "duration": 0.10527,
     "end_time": "2020-12-03T23:23:42.605318",
     "exception": false,
     "start_time": "2020-12-03T23:23:42.500048",
     "status": "completed"
    },
    "tags": []
   },
   "outputs": [
    {
     "name": "stdout",
     "output_type": "stream",
     "text": [
      "Training set shape is now : (1460, 71)\n"
     ]
    }
   ],
   "source": [
    "print('Training set shape is now :', train.shape)"
   ]
  },
  {
   "cell_type": "code",
   "execution_count": 56,
   "metadata": {
    "execution": {
     "iopub.execute_input": "2020-12-03T23:23:42.797180Z",
     "iopub.status.busy": "2020-12-03T23:23:42.796337Z",
     "iopub.status.idle": "2020-12-03T23:23:42.804009Z",
     "shell.execute_reply": "2020-12-03T23:23:42.804782Z"
    },
    "papermill": {
     "duration": 0.108267,
     "end_time": "2020-12-03T23:23:42.805012",
     "exception": false,
     "start_time": "2020-12-03T23:23:42.696745",
     "status": "completed"
    },
    "tags": []
   },
   "outputs": [
    {
     "name": "stdout",
     "output_type": "stream",
     "text": [
      "Testing set shape is now : (1459, 70)\n"
     ]
    }
   ],
   "source": [
    "print('Testing set shape is now :', test.shape)"
   ]
  },
  {
   "cell_type": "code",
   "execution_count": 57,
   "metadata": {
    "execution": {
     "iopub.execute_input": "2020-12-03T23:23:43.015286Z",
     "iopub.status.busy": "2020-12-03T23:23:43.014049Z",
     "iopub.status.idle": "2020-12-03T23:23:43.016497Z",
     "shell.execute_reply": "2020-12-03T23:23:43.017125Z"
    },
    "papermill": {
     "duration": 0.109895,
     "end_time": "2020-12-03T23:23:43.017256",
     "exception": false,
     "start_time": "2020-12-03T23:23:42.907361",
     "status": "completed"
    },
    "tags": []
   },
   "outputs": [],
   "source": [
    "#Variables for storing numerical and categoricals features in training dataset\n",
    "\n",
    "numerical_train = train.select_dtypes(include = [np.number])\n",
    "numerical_features = numerical_train.columns\n",
    "categorical_train = train.select_dtypes(exclude = [np.number])\n",
    "categorical_features = categorical_train.columns"
   ]
  },
  {
   "cell_type": "code",
   "execution_count": 58,
   "metadata": {
    "execution": {
     "iopub.execute_input": "2020-12-03T23:23:43.219028Z",
     "iopub.status.busy": "2020-12-03T23:23:43.218094Z",
     "iopub.status.idle": "2020-12-03T23:23:43.220799Z",
     "shell.execute_reply": "2020-12-03T23:23:43.221341Z"
    },
    "papermill": {
     "duration": 0.109955,
     "end_time": "2020-12-03T23:23:43.221500",
     "exception": false,
     "start_time": "2020-12-03T23:23:43.111545",
     "status": "completed"
    },
    "tags": []
   },
   "outputs": [],
   "source": [
    "#Variables for storing numerical and categoricals features in testing dataset\n",
    "\n",
    "numerical_test = test.select_dtypes(include = [np.number])\n",
    "numerical_features = numerical_test.columns\n",
    "\n",
    "categorical_test = test.select_dtypes(exclude = [np.number])\n",
    "categorical_features = categorical_test.columns"
   ]
  },
  {
   "cell_type": "markdown",
   "metadata": {
    "papermill": {
     "duration": 0.095939,
     "end_time": "2020-12-03T23:23:43.414161",
     "exception": false,
     "start_time": "2020-12-03T23:23:43.318222",
     "status": "completed"
    },
    "tags": []
   },
   "source": [
    "# Outliers detection\n",
    "\n",
    "\n",
    "### The presence of outliers in a classifcation or regression dataset can result in a poor fit and lower predictive modeling performance.<br> In that way, we have to treat them effectively before modeling.<br>\n",
    "\n",
    "### The first thing to do when we want to see if there are outliers in our training dataset is to plot all variables in but we are not going <br>to perform outliers detection on our testing dataset. We will lay back after to explain why. \n",
    "\n",
    "### Here is the code to do that :"
   ]
  },
  {
   "cell_type": "code",
   "execution_count": null,
   "metadata": {
    "execution": {
     "iopub.execute_input": "2020-12-03T23:23:43.620794Z",
     "iopub.status.busy": "2020-12-03T23:23:43.619670Z",
     "iopub.status.idle": "2020-12-03T23:23:54.257545Z",
     "shell.execute_reply": "2020-12-03T23:23:54.258141Z"
    },
    "papermill": {
     "duration": 10.749781,
     "end_time": "2020-12-03T23:23:54.258284",
     "exception": false,
     "start_time": "2020-12-03T23:23:43.508503",
     "status": "completed"
    },
    "tags": []
   },
   "outputs": [],
   "source": [
    "#Plots for helping determine outliers\n",
    "\n",
    "train.shape[1]\n",
    "#a = int(np.sqrt(train.shape[1]))\n",
    "a = 4\n",
    "b = int(train.shape[1]/4)\n",
    "r = int(train.shape[1]/a)\n",
    "c = int(train.shape[1]/b)\n",
    "i = 0\n",
    "fig, ax = plt.subplots(nrows=r, ncols=c, figsize=(15, 60))\n",
    "for row in ax:\n",
    "    for col in row:\n",
    "        try:\n",
    "            col.scatter(x = train[train.columns[i]], y = np.log(train['SalePrice']))\n",
    "            col.title.set_text(train.columns[i])\n",
    "        except:\n",
    "            temp=1\n",
    "        #except Exception as e:\n",
    "        #    print(e.message, e.args)\n",
    "        finally:\n",
    "            temp=1\n",
    "        i = i + 1\n",
    "        \n",
    "plt.show()"
   ]
  },
  {
   "cell_type": "markdown",
   "metadata": {
    "papermill": {
     "duration": 0.107826,
     "end_time": "2020-12-03T23:23:54.475702",
     "exception": false,
     "start_time": "2020-12-03T23:23:54.367876",
     "status": "completed"
    },
    "tags": []
   },
   "source": [
    "### As seen with plots, we have several outliers in our training dataset but how should we perform them ?<br>\n",
    "\n",
    "### We have two differents ways to treat outliers which are :<br>\n",
    "   \n",
    "### 1.    The first one is manually by reading plots and delete rows when certains conditions are not repected;<br>\n",
    "\n",
    "### 2.   The second one is to perform outliers detection automatically and for that, there are several methods.<br>\n",
    "      \n",
    "### You can visit [4 Automatic Outlier Detection Algorithms in Python  : site d'Estia](https://www.groupe-estia.fr/)\n",
    "   \n",
    "   \n",
    " ### In our case, we are going to do that manually. <br>"
   ]
  },
  {
   "cell_type": "code",
   "execution_count": null,
   "metadata": {
    "execution": {
     "iopub.execute_input": "2020-12-03T23:23:54.754620Z",
     "iopub.status.busy": "2020-12-03T23:23:54.753447Z",
     "iopub.status.idle": "2020-12-03T23:25:26.347987Z",
     "shell.execute_reply": "2020-12-03T23:25:26.348571Z"
    },
    "papermill": {
     "duration": 91.716523,
     "end_time": "2020-12-03T23:25:26.348726",
     "exception": false,
     "start_time": "2020-12-03T23:23:54.632203",
     "status": "completed"
    },
    "tags": []
   },
   "outputs": [],
   "source": [
    "fig = plt.figure(figsize=(20,15))\n",
    "for index,col in enumerate(numerical_train):\n",
    "    plt.subplot(6,5,index+1)\n",
    "    sns.countplot(x=col, data=numerical_train.dropna())\n",
    "fig.tight_layout(pad=1.0)"
   ]
  },
  {
   "cell_type": "code",
   "execution_count": null,
   "metadata": {
    "execution": {
     "iopub.execute_input": "2020-12-03T23:25:26.589612Z",
     "iopub.status.busy": "2020-12-03T23:25:26.588629Z",
     "iopub.status.idle": "2020-12-03T23:25:26.605282Z",
     "shell.execute_reply": "2020-12-03T23:25:26.604543Z"
    },
    "papermill": {
     "duration": 0.141761,
     "end_time": "2020-12-03T23:25:26.605411",
     "exception": false,
     "start_time": "2020-12-03T23:25:26.463650",
     "status": "completed"
    },
    "tags": []
   },
   "outputs": [],
   "source": [
    "train = train.drop(train[train['LotFrontage'] > 200].index)\n",
    "train = train.drop(train[train['LotArea'] > 100000].index)\n",
    "train = train.drop(train[train['BsmtFinSF1'] > 4000].index)\n",
    "train = train.drop(train[train['TotalBsmtSF'] > 5000].index)\n",
    "train = train.drop(train[train['GrLivArea'] > 4000].index)\n",
    "train = train.drop(train[train['EnclosedPorch'] > 401].index)\n",
    "train.reset_index(drop=True, inplace=True)"
   ]
  },
  {
   "cell_type": "code",
   "execution_count": null,
   "metadata": {
    "execution": {
     "iopub.execute_input": "2020-12-03T23:25:26.842227Z",
     "iopub.status.busy": "2020-12-03T23:25:26.841174Z",
     "iopub.status.idle": "2020-12-03T23:25:27.764921Z",
     "shell.execute_reply": "2020-12-03T23:25:27.766056Z"
    },
    "papermill": {
     "duration": 1.049945,
     "end_time": "2020-12-03T23:25:27.766234",
     "exception": false,
     "start_time": "2020-12-03T23:25:26.716289",
     "status": "completed"
    },
    "tags": []
   },
   "outputs": [],
   "source": [
    "trt = train.copy()\n",
    "outliers = []\n",
    "\n",
    "outliers.append(trt[trt['1stFlrSF']>2700][trt['SalePrice']<500_000].index)\n",
    "outliers.append(trt[trt['BsmtFullBath']==3.0].index)\n",
    "outliers.append(trt[trt['GrLivArea']>3300][trt['SalePrice']<300_000].index)\n",
    "outliers.append(trt[trt['FullBath']==0.0][trt['SalePrice']>300_000].index)\n",
    "outliers.append(trt[trt['GarageArea']>1200][trt['SalePrice']<200_000].index)\n",
    "outliers.append(trt[trt['OpenPorchSF']>500].index)\n",
    "\n",
    "outliers = [x[0] for x in outliers]\n",
    "outliers\n",
    "train.drop(outliers, axis=0, inplace=True)\n",
    "train.shape"
   ]
  },
  {
   "cell_type": "code",
   "execution_count": null,
   "metadata": {
    "execution": {
     "iopub.execute_input": "2020-12-03T23:25:28.074352Z",
     "iopub.status.busy": "2020-12-03T23:25:28.073478Z",
     "iopub.status.idle": "2020-12-03T23:25:28.078818Z",
     "shell.execute_reply": "2020-12-03T23:25:28.079546Z"
    },
    "papermill": {
     "duration": 0.162244,
     "end_time": "2020-12-03T23:25:28.079743",
     "exception": false,
     "start_time": "2020-12-03T23:25:27.917499",
     "status": "completed"
    },
    "tags": []
   },
   "outputs": [],
   "source": [
    "def characteristics(dataset):\n",
    "    print('Shape of the dataset: {}'.format(dataset.shape))\n",
    "    dataset_numerical = dataset.select_dtypes(include = [np.number])\n",
    "    print('Number of Numerical Features: {}'.format(dataset_numerical.shape[1]))\n",
    "    dataset_categorical = dataset.select_dtypes(exclude = [np.number])\n",
    "    print('Number of Categorical Features: {}'.format(dataset_categorical.shape[1]))"
   ]
  },
  {
   "cell_type": "code",
   "execution_count": null,
   "metadata": {
    "execution": {
     "iopub.execute_input": "2020-12-03T23:25:28.390101Z",
     "iopub.status.busy": "2020-12-03T23:25:28.387035Z",
     "iopub.status.idle": "2020-12-03T23:25:28.393766Z",
     "shell.execute_reply": "2020-12-03T23:25:28.394573Z"
    },
    "papermill": {
     "duration": 0.139346,
     "end_time": "2020-12-03T23:25:28.394776",
     "exception": false,
     "start_time": "2020-12-03T23:25:28.255430",
     "status": "completed"
    },
    "tags": []
   },
   "outputs": [],
   "source": [
    "characteristics(train)"
   ]
  },
  {
   "cell_type": "code",
   "execution_count": null,
   "metadata": {
    "execution": {
     "iopub.execute_input": "2020-12-03T23:25:28.643158Z",
     "iopub.status.busy": "2020-12-03T23:25:28.641265Z",
     "iopub.status.idle": "2020-12-03T23:25:28.649700Z",
     "shell.execute_reply": "2020-12-03T23:25:28.648831Z"
    },
    "papermill": {
     "duration": 0.130551,
     "end_time": "2020-12-03T23:25:28.649826",
     "exception": false,
     "start_time": "2020-12-03T23:25:28.519275",
     "status": "completed"
    },
    "tags": []
   },
   "outputs": [],
   "source": [
    "characteristics(test)"
   ]
  },
  {
   "cell_type": "markdown",
   "metadata": {
    "papermill": {
     "duration": 0.114521,
     "end_time": "2020-12-03T23:25:28.876161",
     "exception": false,
     "start_time": "2020-12-03T23:25:28.761640",
     "status": "completed"
    },
    "tags": []
   },
   "source": [
    "# Handling missing values\n",
    "\n",
    "\n",
    "### Missing values <br> In that way, we have to treat them effectively before modeling.<br>\n",
    "\n",
    "### The first thing to do when we want to see if there are outliers in our training dataset is to plot all variables in but we are not going <br>to perform outliers detection on our testing dataset. We will lay back after to explain why. \n",
    "\n",
    "### Here is the code to do that :"
   ]
  },
  {
   "cell_type": "code",
   "execution_count": null,
   "metadata": {
    "execution": {
     "iopub.execute_input": "2020-12-03T23:25:29.131804Z",
     "iopub.status.busy": "2020-12-03T23:25:29.121345Z",
     "iopub.status.idle": "2020-12-03T23:25:29.138553Z",
     "shell.execute_reply": "2020-12-03T23:25:29.137852Z"
    },
    "papermill": {
     "duration": 0.148114,
     "end_time": "2020-12-03T23:25:29.138681",
     "exception": false,
     "start_time": "2020-12-03T23:25:28.990567",
     "status": "completed"
    },
    "tags": []
   },
   "outputs": [],
   "source": [
    "train_na = (train.isnull().sum() / len(train)) * 100\n",
    "train_na = train_na.drop(train_na[train_na == 0].index).sort_values(ascending=False)[:71]\n",
    "missing_data = pd.DataFrame({'Missing Ratio' :train_na})\n",
    "missing_data.head(50)"
   ]
  },
  {
   "cell_type": "code",
   "execution_count": null,
   "metadata": {
    "execution": {
     "iopub.execute_input": "2020-12-03T23:25:29.393831Z",
     "iopub.status.busy": "2020-12-03T23:25:29.391565Z",
     "iopub.status.idle": "2020-12-03T23:25:29.723147Z",
     "shell.execute_reply": "2020-12-03T23:25:29.722500Z"
    },
    "papermill": {
     "duration": 0.464328,
     "end_time": "2020-12-03T23:25:29.723269",
     "exception": false,
     "start_time": "2020-12-03T23:25:29.258941",
     "status": "completed"
    },
    "tags": []
   },
   "outputs": [],
   "source": [
    "f, ax = plt.subplots(figsize=(15, 12))\n",
    "plt.xticks(rotation='90')\n",
    "sns.barplot(x=train_na.index, y=train_na)\n",
    "plt.xlabel('Features', fontsize=15)\n",
    "plt.ylabel('Percent of missing values', fontsize=15)\n",
    "plt.title('Percent missing data by feature', fontsize=15)"
   ]
  },
  {
   "cell_type": "code",
   "execution_count": null,
   "metadata": {
    "execution": {
     "iopub.execute_input": "2020-12-03T23:25:29.981919Z",
     "iopub.status.busy": "2020-12-03T23:25:29.975575Z",
     "iopub.status.idle": "2020-12-03T23:25:30.004554Z",
     "shell.execute_reply": "2020-12-03T23:25:30.003900Z"
    },
    "papermill": {
     "duration": 0.164623,
     "end_time": "2020-12-03T23:25:30.004700",
     "exception": false,
     "start_time": "2020-12-03T23:25:29.840077",
     "status": "completed"
    },
    "tags": []
   },
   "outputs": [],
   "source": [
    "train[\"PoolQC\"] = train[\"PoolQC\"].fillna(\"None\")\n",
    "train[\"MiscFeature\"] = train[\"MiscFeature\"].fillna(\"None\")\n",
    "train[\"Alley\"] = train[\"Alley\"].fillna(\"None\")\n",
    "train[\"Fence\"] = train[\"Fence\"].fillna(\"None\")\n",
    "train[\"FireplaceQu\"] = train[\"FireplaceQu\"].fillna(\"None\")\n",
    "train[\"MasVnrType\"] = train[\"MasVnrType\"].fillna(\"None\")\n",
    "\n",
    "\n",
    "train[\"GarageType\"] = train[\"GarageType\"].fillna(\"None\")\n",
    "train[\"GarageFinish\"] = train[\"GarageFinish\"].fillna(\"None\")\n",
    "train[\"GarageQual\"] = train[\"GarageQual\"].fillna(\"None\")\n",
    "train[\"GarageCond\"] = train[\"GarageCond\"].fillna(\"None\")\n",
    "train[\"BsmtQual\"] = train[\"BsmtQual\"].fillna(\"None\")\n",
    "train[\"BsmtCond\"] = train[\"BsmtCond\"].fillna(\"None\")\n",
    "train[\"BsmtExposure\"] = train[\"BsmtExposure\"].fillna(\"None\")\n",
    "train[\"BsmtFinType1\"] = train[\"BsmtFinType1\"].fillna(\"None\")\n",
    "train[\"BsmtFinType2\"] = train[\"BsmtFinType2\"].fillna(\"None\")\n",
    "\n",
    "train[\"LotFrontage\"] = train.groupby(\"Neighborhood\")[\"LotFrontage\"].transform(\n",
    "    lambda x: x.fillna(x.median()))\n",
    "\n",
    "train['GarageCars'] = train['GarageCars'].fillna(0)\n",
    "\n",
    "train[\"MasVnrArea\"] = train[\"MasVnrArea\"].fillna(0)\n",
    "\n",
    "train['Electrical'] = train['Electrical'].fillna(\"Typ\")"
   ]
  },
  {
   "cell_type": "code",
   "execution_count": null,
   "metadata": {
    "execution": {
     "iopub.execute_input": "2020-12-03T23:25:30.256390Z",
     "iopub.status.busy": "2020-12-03T23:25:30.255337Z",
     "iopub.status.idle": "2020-12-03T23:25:30.272333Z",
     "shell.execute_reply": "2020-12-03T23:25:30.271689Z"
    },
    "papermill": {
     "duration": 0.151032,
     "end_time": "2020-12-03T23:25:30.272466",
     "exception": false,
     "start_time": "2020-12-03T23:25:30.121434",
     "status": "completed"
    },
    "tags": []
   },
   "outputs": [],
   "source": [
    "test_na = (test.isnull().sum() / len(test)) * 100\n",
    "test_na = test_na.drop(test_na[test_na == 0].index).sort_values(ascending=False)[:71]\n",
    "missing_data = pd.DataFrame({'Missing Ratio' :test_na})\n",
    "missing_data.head(50)"
   ]
  },
  {
   "cell_type": "code",
   "execution_count": null,
   "metadata": {
    "execution": {
     "iopub.execute_input": "2020-12-03T23:25:30.531239Z",
     "iopub.status.busy": "2020-12-03T23:25:30.530016Z",
     "iopub.status.idle": "2020-12-03T23:25:30.977906Z",
     "shell.execute_reply": "2020-12-03T23:25:30.978531Z"
    },
    "papermill": {
     "duration": 0.583724,
     "end_time": "2020-12-03T23:25:30.978693",
     "exception": false,
     "start_time": "2020-12-03T23:25:30.394969",
     "status": "completed"
    },
    "tags": []
   },
   "outputs": [],
   "source": [
    "f, ax = plt.subplots(figsize=(15, 12))\n",
    "plt.xticks(rotation='90')\n",
    "sns.barplot(x=test_na.index, y=test_na)\n",
    "plt.xlabel('Features', fontsize=15)\n",
    "plt.ylabel('Percent of missing values', fontsize=15)\n",
    "plt.title('Percent missing data by feature in testing dataset', fontsize=15)"
   ]
  },
  {
   "cell_type": "code",
   "execution_count": null,
   "metadata": {
    "execution": {
     "iopub.execute_input": "2020-12-03T23:25:31.257766Z",
     "iopub.status.busy": "2020-12-03T23:25:31.240989Z",
     "iopub.status.idle": "2020-12-03T23:25:31.291996Z",
     "shell.execute_reply": "2020-12-03T23:25:31.291400Z"
    },
    "papermill": {
     "duration": 0.189139,
     "end_time": "2020-12-03T23:25:31.292110",
     "exception": false,
     "start_time": "2020-12-03T23:25:31.102971",
     "status": "completed"
    },
    "tags": []
   },
   "outputs": [],
   "source": [
    "test[\"PoolQC\"] = test[\"PoolQC\"].fillna(\"None\")\n",
    "test[\"MiscFeature\"] = test[\"MiscFeature\"].fillna(\"None\")\n",
    "test[\"Alley\"] = test[\"Alley\"].fillna(\"None\")\n",
    "test[\"Fence\"] = test[\"Fence\"].fillna(\"None\")\n",
    "test[\"FireplaceQu\"] = test[\"FireplaceQu\"].fillna(\"None\")\n",
    "test[\"MasVnrType\"] = test[\"MasVnrType\"].fillna(\"None\")\n",
    "\n",
    "\n",
    "test[\"GarageType\"] = test[\"GarageType\"].fillna(\"None\")\n",
    "test[\"GarageFinish\"] = test[\"GarageFinish\"].fillna(\"None\")\n",
    "test[\"GarageQual\"] = test[\"GarageQual\"].fillna(\"None\")\n",
    "test[\"GarageCond\"] = test[\"GarageCond\"].fillna(\"None\")\n",
    "test[\"BsmtQual\"] = test[\"BsmtQual\"].fillna(\"None\")\n",
    "test[\"BsmtCond\"] = test[\"BsmtCond\"].fillna(\"None\")\n",
    "test[\"BsmtExposure\"] = test[\"BsmtExposure\"].fillna(\"None\")\n",
    "test[\"BsmtFinType1\"] = test[\"BsmtFinType1\"].fillna(\"None\")\n",
    "test[\"BsmtFinType2\"] = test[\"BsmtFinType2\"].fillna(\"None\")\n",
    "\n",
    "test[\"LotFrontage\"] = test.groupby(\"Neighborhood\")[\"LotFrontage\"].transform(\n",
    "    lambda x: x.fillna(x.median()))\n",
    "\n",
    "test['GarageCars'] = test['GarageCars'].fillna(0)\n",
    "\n",
    "test[\"MasVnrArea\"] = test[\"MasVnrArea\"].fillna(0)\n",
    "\n",
    "test['MSZoning'].fillna(test['MSZoning'].mode()[0], inplace=True)\n",
    "test['Functional'].fillna(test['Functional'].mode()[0], inplace=True)\n",
    "\n",
    "test['BsmtHalfBath'].fillna(test['BsmtHalfBath'].mode()[0], inplace=True)\n",
    "test['BsmtFullBath'].fillna(test['BsmtFullBath'].mode()[0], inplace=True)\n",
    "\n",
    "test['SaleType'].fillna(test['SaleType'].mode()[0], inplace=True)\n",
    "test['GarageArea'].fillna(test['GarageArea'].mode()[0], inplace=True)\n",
    "test['KitchenQual'].fillna(test['KitchenQual'].mode()[0], inplace=True)\n",
    "test['TotalBsmtSF'].fillna(test['TotalBsmtSF'].mode()[0], inplace=True)\n",
    "test['BsmtUnfSF'].fillna(test['BsmtUnfSF'].mode()[0], inplace=True)\n",
    "test['BsmtFinSF2'].fillna(test['BsmtFinSF2'].mode()[0], inplace=True)\n",
    "test['BsmtFinSF1'].fillna(test['BsmtFinSF1'].mode()[0], inplace=True)\n",
    "test['Exterior2nd'].fillna(test['Exterior2nd'].mode()[0], inplace=True)\n",
    "test['Exterior1st'].fillna(test['Exterior1st'].mode()[0], inplace=True)\n"
   ]
  },
  {
   "cell_type": "markdown",
   "metadata": {
    "papermill": {
     "duration": 0.128408,
     "end_time": "2020-12-03T23:25:31.539231",
     "exception": false,
     "start_time": "2020-12-03T23:25:31.410823",
     "status": "completed"
    },
    "tags": []
   },
   "source": [
    "https://towardsdatascience.com/all-about-categorical-variable-encoding-305f3361fd02"
   ]
  },
  {
   "cell_type": "code",
   "execution_count": null,
   "metadata": {
    "execution": {
     "iopub.execute_input": "2020-12-03T23:25:31.800208Z",
     "iopub.status.busy": "2020-12-03T23:25:31.799207Z",
     "iopub.status.idle": "2020-12-03T23:25:31.802058Z",
     "shell.execute_reply": "2020-12-03T23:25:31.802725Z"
    },
    "papermill": {
     "duration": 0.144164,
     "end_time": "2020-12-03T23:25:31.802860",
     "exception": false,
     "start_time": "2020-12-03T23:25:31.658696",
     "status": "completed"
    },
    "tags": []
   },
   "outputs": [],
   "source": [
    "#Encoding Categorical variables\n",
    "\n",
    "\n",
    "categorical_train = train.select_dtypes(exclude = [np.number])\n",
    "categorical_features = categorical_train.columns\n",
    "\n",
    "categorical_test = test.select_dtypes(exclude = [np.number])\n",
    "categorical_features = categorical_test.columns"
   ]
  },
  {
   "cell_type": "code",
   "execution_count": null,
   "metadata": {
    "execution": {
     "iopub.execute_input": "2020-12-03T23:25:32.073610Z",
     "iopub.status.busy": "2020-12-03T23:25:32.072616Z",
     "iopub.status.idle": "2020-12-03T23:25:32.198430Z",
     "shell.execute_reply": "2020-12-03T23:25:32.197776Z"
    },
    "papermill": {
     "duration": 0.27496,
     "end_time": "2020-12-03T23:25:32.198557",
     "exception": false,
     "start_time": "2020-12-03T23:25:31.923597",
     "status": "completed"
    },
    "tags": []
   },
   "outputs": [],
   "source": [
    "for i in categorical_train:\n",
    "    fe = train.groupby(i).size()/len(train)\n",
    "    train.loc[:, i] = train[i].map(fe)"
   ]
  },
  {
   "cell_type": "code",
   "execution_count": null,
   "metadata": {
    "execution": {
     "iopub.execute_input": "2020-12-03T23:25:32.454109Z",
     "iopub.status.busy": "2020-12-03T23:25:32.453047Z",
     "iopub.status.idle": "2020-12-03T23:25:32.574166Z",
     "shell.execute_reply": "2020-12-03T23:25:32.573476Z"
    },
    "papermill": {
     "duration": 0.252504,
     "end_time": "2020-12-03T23:25:32.574304",
     "exception": false,
     "start_time": "2020-12-03T23:25:32.321800",
     "status": "completed"
    },
    "tags": []
   },
   "outputs": [],
   "source": [
    "for i in categorical_test:\n",
    "    fe = test.groupby(i).size()/len(test)\n",
    "    test.loc[:, i] = test[i].map(fe)"
   ]
  },
  {
   "cell_type": "markdown",
   "metadata": {
    "papermill": {
     "duration": 0.123556,
     "end_time": "2020-12-03T23:25:32.819648",
     "exception": false,
     "start_time": "2020-12-03T23:25:32.696092",
     "status": "completed"
    },
    "tags": []
   },
   "source": [
    "# Now we gonna start features selection for building our models.\n",
    "\n",
    "Feature selection is a process where you automatically select those features in your data that contribute most to the prediction variable or output in which you are interested.\n",
    "\n",
    "Having irrelevant features in your data can decrease the accuracy of many models, especially linear algorithms like linear and logistic regression.\n",
    "\n",
    "Three benefits of performing feature selection before modeling your data are:\n",
    "\n",
    "    Reduces Overfitting: Less redundant data means less opportunity to make decisions based on noise.\n",
    "    Improves Accuracy: Less misleading data means modeling accuracy improves.\n",
    "    Reduces Training Time: Less data means that algorithms train faster.\n",
    "\n",
    "\n",
    "https://machinelearningmastery.com/feature-selection-machine-learning-python/"
   ]
  },
  {
   "cell_type": "code",
   "execution_count": null,
   "metadata": {
    "execution": {
     "iopub.execute_input": "2020-12-03T23:25:33.091538Z",
     "iopub.status.busy": "2020-12-03T23:25:33.090415Z",
     "iopub.status.idle": "2020-12-03T23:25:33.146995Z",
     "shell.execute_reply": "2020-12-03T23:25:33.147520Z"
    },
    "papermill": {
     "duration": 0.206855,
     "end_time": "2020-12-03T23:25:33.147681",
     "exception": false,
     "start_time": "2020-12-03T23:25:32.940826",
     "status": "completed"
    },
    "tags": []
   },
   "outputs": [],
   "source": [
    "# Deleting features with more than 96% of common values in training dataset because these features won't be efficient to predict \"SalePrice\".\n",
    "\n",
    "overfit_categorical_train = []\n",
    "for i in categorical_train:\n",
    "    counts = train[i].value_counts()\n",
    "    zeros = counts.iloc[0]\n",
    "    if zeros / len(train) * 100 > 96:\n",
    "        overfit_categorical_train.append(i)\n",
    "\n",
    "overfit_categorical_train = list(overfit_categorical_train)\n",
    "train = train.drop(overfit_categorical_train, axis=1)\n",
    "test = test.drop(overfit_categorical_train, axis=1)\n",
    "\n",
    "overfit_numerical_train = []\n",
    "for i in numerical_train:\n",
    "    counts = train[i].value_counts()\n",
    "    zeros = counts.iloc[0]\n",
    "    if zeros / len(train) * 100 > 96:\n",
    "        overfit_numerical_train.append(i)\n",
    "\n",
    "overfit_numerical_train = list(overfit_numerical_train)\n",
    "train = train.drop(overfit_numerical_train, axis=1)\n",
    "test = test.drop(overfit_numerical_train, axis=1)\n",
    "\n",
    "print(\"Categorical Features with >96% of the same value: \",overfit_categorical_train)\n",
    "print(\"Numerical Features with >96% of the same value: \",overfit_numerical_train)"
   ]
  },
  {
   "cell_type": "code",
   "execution_count": null,
   "metadata": {
    "execution": {
     "iopub.execute_input": "2020-12-03T23:25:33.403648Z",
     "iopub.status.busy": "2020-12-03T23:25:33.402867Z",
     "iopub.status.idle": "2020-12-03T23:25:33.514965Z",
     "shell.execute_reply": "2020-12-03T23:25:33.514323Z"
    },
    "papermill": {
     "duration": 0.244911,
     "end_time": "2020-12-03T23:25:33.515111",
     "exception": false,
     "start_time": "2020-12-03T23:25:33.270200",
     "status": "completed"
    },
    "tags": []
   },
   "outputs": [],
   "source": [
    "correlated_features = set()\n",
    "correlation_matrix = train.drop('SalePrice', axis=1).corr()\n",
    "\n",
    "for i in range(len(correlation_matrix.columns)):\n",
    "    for j in range(i):\n",
    "        if abs(correlation_matrix.iloc[i, j]) > 0.8:\n",
    "            colname = correlation_matrix.columns[i]\n",
    "            correlated_features.add(colname)\n",
    "            \n",
    "for i in correlated_features:\n",
    "    train.drop(i, axis=1, inplace=True)\n",
    "    test.drop(i, axis=1, inplace=True)"
   ]
  },
  {
   "cell_type": "markdown",
   "metadata": {
    "papermill": {
     "duration": 0.121912,
     "end_time": "2020-12-03T23:25:33.759010",
     "exception": false,
     "start_time": "2020-12-03T23:25:33.637098",
     "status": "completed"
    },
    "tags": []
   },
   "source": [
    "### As we will build differents models (Robust Regression, Support Vector Regression, XGBoost and Random Forest) and each model has it's features selection criteria, we will perform different features selection algorithms based on each models. <br>\n",
    "\n",
    "#### For example, if we wanna build a robust regression model, we should select features based on a non-collinearity criteria and looking for overfiting/underfiting too.<br>\n",
    "\n",
    "#### Also, Linear Kernel of Support vector Regression is very similar to linear Regression, and hence the effect of multicollinearity has a very similar effect in case of Linear Kernel of SVR.<br> So we have to remove multicollinearity between features , if we want to use weight vectors directly for feature importance. \n",
    "\n",
    "#### Random Forest uses bootstrap sampling and feature sampling, i.e row sampling and column sampling. Therefore Random Forest is not affected by multicollinearity that much since it is picking different set of features for different models and of course every model sees a different set of data points. But there is a chance of multicollinear features getting picked up together, and when that happens we will see some trace of it.\n",
    "\n",
    "https://medium.com/@raj5287/effects-of-multi-collinearity-in-logistic-regression-svm-rf-af6766d91f1b"
   ]
  },
  {
   "cell_type": "markdown",
   "metadata": {
    "papermill": {
     "duration": 0.121535,
     "end_time": "2020-12-03T23:25:34.002062",
     "exception": false,
     "start_time": "2020-12-03T23:25:33.880527",
     "status": "completed"
    },
    "tags": []
   },
   "source": [
    "### Features selection for Linear regression and SVR"
   ]
  },
  {
   "cell_type": "code",
   "execution_count": null,
   "metadata": {
    "execution": {
     "iopub.execute_input": "2020-12-03T23:25:34.252927Z",
     "iopub.status.busy": "2020-12-03T23:25:34.251996Z",
     "iopub.status.idle": "2020-12-03T23:25:36.154694Z",
     "shell.execute_reply": "2020-12-03T23:25:36.153671Z"
    },
    "papermill": {
     "duration": 2.031213,
     "end_time": "2020-12-03T23:25:36.154831",
     "exception": false,
     "start_time": "2020-12-03T23:25:34.123618",
     "status": "completed"
    },
    "tags": []
   },
   "outputs": [],
   "source": [
    "from sklearn.ensemble import GradientBoostingRegressor\n",
    "from sklearn.svm import SVR\n",
    "from xgboost import XGBRegressor\n",
    "from lightgbm import LGBMRegressor\n",
    "\n",
    "from sklearn.ensemble import RandomForestRegressor\n",
    "from sklearn.tree import DecisionTreeRegressor\n",
    "from sklearn.linear_model import Lasso"
   ]
  },
  {
   "cell_type": "code",
   "execution_count": null,
   "metadata": {
    "execution": {
     "iopub.execute_input": "2020-12-03T23:25:36.410487Z",
     "iopub.status.busy": "2020-12-03T23:25:36.409558Z",
     "iopub.status.idle": "2020-12-03T23:25:36.999411Z",
     "shell.execute_reply": "2020-12-03T23:25:36.998832Z"
    },
    "papermill": {
     "duration": 0.722524,
     "end_time": "2020-12-03T23:25:36.999535",
     "exception": false,
     "start_time": "2020-12-03T23:25:36.277011",
     "status": "completed"
    },
    "tags": []
   },
   "outputs": [],
   "source": [
    "train_saleprice = train[\"SalePrice\"]\n",
    "\n",
    "train2 = train.drop(['SalePrice'],axis=1)\n",
    "\n",
    "X_train1, X_train2, y_train1, y_train2 = tts(train2, train_saleprice, test_size=0.4, shuffle=True)\n",
    "\n",
    "linear = LinearRegression()\n",
    "visualizer = PredictionError(linear)\n",
    "visualizer.fit(X_train1, y_train1,)\n",
    "visualizer.score(X_train2, y_train2)\n",
    "visualizer.show()"
   ]
  },
  {
   "cell_type": "code",
   "execution_count": null,
   "metadata": {
    "execution": {
     "iopub.execute_input": "2020-12-03T23:25:37.265013Z",
     "iopub.status.busy": "2020-12-03T23:25:37.263421Z",
     "iopub.status.idle": "2020-12-03T23:25:38.127300Z",
     "shell.execute_reply": "2020-12-03T23:25:38.128053Z"
    },
    "papermill": {
     "duration": 1.004526,
     "end_time": "2020-12-03T23:25:38.128260",
     "exception": false,
     "start_time": "2020-12-03T23:25:37.123734",
     "status": "completed"
    },
    "tags": []
   },
   "outputs": [],
   "source": [
    "visualizer = ResidualsPlot(linear)\n",
    "visualizer.fit(X_train1, y_train1,)\n",
    "visualizer.score(X_train2, y_train2)\n",
    "visualizer.show()"
   ]
  },
  {
   "cell_type": "code",
   "execution_count": null,
   "metadata": {
    "execution": {
     "iopub.execute_input": "2020-12-03T23:25:38.651538Z",
     "iopub.status.busy": "2020-12-03T23:25:38.650535Z",
     "iopub.status.idle": "2020-12-03T23:25:39.489077Z",
     "shell.execute_reply": "2020-12-03T23:25:39.488263Z"
    },
    "papermill": {
     "duration": 1.137409,
     "end_time": "2020-12-03T23:25:39.489238",
     "exception": false,
     "start_time": "2020-12-03T23:25:38.351829",
     "status": "completed"
    },
    "tags": []
   },
   "outputs": [],
   "source": [
    "X_train1, X_train2, y_train1, y_train2 = tts(train2, train_saleprice, test_size=0.4, shuffle=True)\n",
    "Lasso = Lasso()\n",
    "visualizer = PredictionError(Lasso)\n",
    "visualizer.fit(X_train1, y_train1,)\n",
    "visualizer.score(X_train2, y_train2)\n",
    "visualizer.show()"
   ]
  },
  {
   "cell_type": "code",
   "execution_count": null,
   "metadata": {
    "execution": {
     "iopub.execute_input": "2020-12-03T23:25:39.859760Z",
     "iopub.status.busy": "2020-12-03T23:25:39.858733Z",
     "iopub.status.idle": "2020-12-03T23:25:40.624523Z",
     "shell.execute_reply": "2020-12-03T23:25:40.623535Z"
    },
    "papermill": {
     "duration": 0.939541,
     "end_time": "2020-12-03T23:25:40.624648",
     "exception": false,
     "start_time": "2020-12-03T23:25:39.685107",
     "status": "completed"
    },
    "tags": []
   },
   "outputs": [],
   "source": [
    "visualizer = ResidualsPlot(Lasso)\n",
    "visualizer.fit(X_train1, y_train1,)\n",
    "visualizer.score(X_train2, y_train2)\n",
    "visualizer.show()"
   ]
  },
  {
   "cell_type": "code",
   "execution_count": null,
   "metadata": {
    "execution": {
     "iopub.execute_input": "2020-12-03T23:25:40.898515Z",
     "iopub.status.busy": "2020-12-03T23:25:40.897533Z",
     "iopub.status.idle": "2020-12-03T23:25:41.390780Z",
     "shell.execute_reply": "2020-12-03T23:25:41.390194Z"
    },
    "papermill": {
     "duration": 0.636818,
     "end_time": "2020-12-03T23:25:41.390894",
     "exception": false,
     "start_time": "2020-12-03T23:25:40.754076",
     "status": "completed"
    },
    "tags": []
   },
   "outputs": [],
   "source": [
    "X_train1, X_train2, y_train1, y_train2 = tts(train2, train_saleprice, test_size=0.4, shuffle=True)\n",
    "\n",
    "SVR = SVR()\n",
    "visualizer = PredictionError(SVR)\n",
    "visualizer.fit(X_train1, y_train1,)\n",
    "visualizer.score(X_train2, y_train2)\n",
    "visualizer.show()"
   ]
  },
  {
   "cell_type": "code",
   "execution_count": null,
   "metadata": {
    "execution": {
     "iopub.execute_input": "2020-12-03T23:25:41.670652Z",
     "iopub.status.busy": "2020-12-03T23:25:41.669519Z",
     "iopub.status.idle": "2020-12-03T23:25:42.610945Z",
     "shell.execute_reply": "2020-12-03T23:25:42.611556Z"
    },
    "papermill": {
     "duration": 1.088049,
     "end_time": "2020-12-03T23:25:42.611705",
     "exception": false,
     "start_time": "2020-12-03T23:25:41.523656",
     "status": "completed"
    },
    "tags": []
   },
   "outputs": [],
   "source": [
    "visualizer = ResidualsPlot(SVR)\n",
    "visualizer.fit(X_train1, y_train1,)\n",
    "visualizer.score(X_train2, y_train2)\n",
    "visualizer.show()"
   ]
  },
  {
   "cell_type": "code",
   "execution_count": null,
   "metadata": {
    "execution": {
     "iopub.execute_input": "2020-12-03T23:25:42.897943Z",
     "iopub.status.busy": "2020-12-03T23:25:42.895916Z",
     "iopub.status.idle": "2020-12-03T23:25:43.183205Z",
     "shell.execute_reply": "2020-12-03T23:25:43.182367Z"
    },
    "papermill": {
     "duration": 0.433899,
     "end_time": "2020-12-03T23:25:43.183357",
     "exception": false,
     "start_time": "2020-12-03T23:25:42.749458",
     "status": "completed"
    },
    "tags": []
   },
   "outputs": [],
   "source": [
    "X_train1, X_train2, y_train1, y_train2 = tts(train2, train_saleprice, test_size=0.4, shuffle=True)\n",
    "\n",
    "DecisionTreeRegressor = DecisionTreeRegressor()\n",
    "visualizer = PredictionError(DecisionTreeRegressor)\n",
    "visualizer.fit(X_train1, y_train1,)\n",
    "visualizer.score(X_train2, y_train2)\n",
    "visualizer.show()"
   ]
  },
  {
   "cell_type": "code",
   "execution_count": null,
   "metadata": {
    "execution": {
     "iopub.execute_input": "2020-12-03T23:25:43.484749Z",
     "iopub.status.busy": "2020-12-03T23:25:43.483550Z",
     "iopub.status.idle": "2020-12-03T23:25:44.094722Z",
     "shell.execute_reply": "2020-12-03T23:25:44.094117Z"
    },
    "papermill": {
     "duration": 0.765797,
     "end_time": "2020-12-03T23:25:44.094838",
     "exception": false,
     "start_time": "2020-12-03T23:25:43.329041",
     "status": "completed"
    },
    "tags": []
   },
   "outputs": [],
   "source": [
    "visualizer = ResidualsPlot(DecisionTreeRegressor)\n",
    "visualizer.fit(X_train1, y_train1,)\n",
    "visualizer.score(X_train2, y_train2)\n",
    "visualizer.show()"
   ]
  },
  {
   "cell_type": "code",
   "execution_count": null,
   "metadata": {
    "execution": {
     "iopub.execute_input": "2020-12-03T23:25:44.382073Z",
     "iopub.status.busy": "2020-12-03T23:25:44.381034Z",
     "iopub.status.idle": "2020-12-03T23:25:45.950223Z",
     "shell.execute_reply": "2020-12-03T23:25:45.949535Z"
    },
    "papermill": {
     "duration": 1.714859,
     "end_time": "2020-12-03T23:25:45.950350",
     "exception": false,
     "start_time": "2020-12-03T23:25:44.235491",
     "status": "completed"
    },
    "tags": []
   },
   "outputs": [],
   "source": [
    "X_train1, X_train2, y_train1, y_train2 = tts(train2, train_saleprice, test_size=0.4, shuffle=True)\n",
    "\n",
    "RandomForestRegressor = RandomForestRegressor()\n",
    "visualizer = PredictionError(RandomForestRegressor)\n",
    "visualizer.fit(X_train1, y_train1,)\n",
    "visualizer.score(X_train2, y_train2)\n",
    "visualizer.show()"
   ]
  },
  {
   "cell_type": "code",
   "execution_count": null,
   "metadata": {
    "execution": {
     "iopub.execute_input": "2020-12-03T23:25:46.251837Z",
     "iopub.status.busy": "2020-12-03T23:25:46.250644Z",
     "iopub.status.idle": "2020-12-03T23:25:47.007432Z",
     "shell.execute_reply": "2020-12-03T23:25:47.006338Z"
    },
    "papermill": {
     "duration": 0.912211,
     "end_time": "2020-12-03T23:25:47.007551",
     "exception": false,
     "start_time": "2020-12-03T23:25:46.095340",
     "status": "completed"
    },
    "tags": []
   },
   "outputs": [],
   "source": [
    "visualizer = ResidualsPlot(RandomForestRegressor)\n",
    "visualizer.fit(X_train1, y_train1,)\n",
    "visualizer.score(X_train2, y_train2)\n",
    "visualizer.show()"
   ]
  },
  {
   "cell_type": "code",
   "execution_count": null,
   "metadata": {
    "execution": {
     "iopub.execute_input": "2020-12-03T23:25:47.307659Z",
     "iopub.status.busy": "2020-12-03T23:25:47.302306Z",
     "iopub.status.idle": "2020-12-03T23:25:48.035647Z",
     "shell.execute_reply": "2020-12-03T23:25:48.036301Z"
    },
    "papermill": {
     "duration": 0.885949,
     "end_time": "2020-12-03T23:25:48.036458",
     "exception": false,
     "start_time": "2020-12-03T23:25:47.150509",
     "status": "completed"
    },
    "tags": []
   },
   "outputs": [],
   "source": [
    "X_train1, X_train2, y_train1, y_train2 = tts(train2, train_saleprice, test_size=0.4, shuffle=True)\n",
    "\n",
    "GradientBoostingRegressor = GradientBoostingRegressor()\n",
    "visualizer = PredictionError(GradientBoostingRegressor)\n",
    "visualizer.fit(X_train1, y_train1,)\n",
    "visualizer.score(X_train2, y_train2)\n",
    "visualizer.show()"
   ]
  },
  {
   "cell_type": "code",
   "execution_count": null,
   "metadata": {
    "execution": {
     "iopub.execute_input": "2020-12-03T23:25:48.349834Z",
     "iopub.status.busy": "2020-12-03T23:25:48.340900Z",
     "iopub.status.idle": "2020-12-03T23:25:49.095862Z",
     "shell.execute_reply": "2020-12-03T23:25:49.097664Z"
    },
    "papermill": {
     "duration": 0.91421,
     "end_time": "2020-12-03T23:25:49.097869",
     "exception": false,
     "start_time": "2020-12-03T23:25:48.183659",
     "status": "completed"
    },
    "tags": []
   },
   "outputs": [],
   "source": [
    "visualizer = ResidualsPlot(GradientBoostingRegressor)\n",
    "visualizer.fit(X_train1, y_train1,)\n",
    "visualizer.score(X_train2, y_train2)\n",
    "visualizer.show()"
   ]
  },
  {
   "cell_type": "code",
   "execution_count": null,
   "metadata": {
    "execution": {
     "iopub.execute_input": "2020-12-03T23:25:49.581876Z",
     "iopub.status.busy": "2020-12-03T23:25:49.580814Z",
     "iopub.status.idle": "2020-12-03T23:25:50.801455Z",
     "shell.execute_reply": "2020-12-03T23:25:50.802070Z"
    },
    "papermill": {
     "duration": 1.463831,
     "end_time": "2020-12-03T23:25:50.802237",
     "exception": false,
     "start_time": "2020-12-03T23:25:49.338406",
     "status": "completed"
    },
    "tags": []
   },
   "outputs": [],
   "source": [
    "X_train1, X_train2, y_train1, y_train2 = tts(train2, train_saleprice, test_size=0.4, shuffle=True)\n",
    "\n",
    "LGBMRegressor = LGBMRegressor()\n",
    "visualizer = PredictionError(LGBMRegressor)\n",
    "visualizer.fit(X_train1, y_train1,)\n",
    "visualizer.score(X_train2, y_train2)\n",
    "visualizer.show()"
   ]
  },
  {
   "cell_type": "code",
   "execution_count": null,
   "metadata": {
    "execution": {
     "iopub.execute_input": "2020-12-03T23:25:51.119250Z",
     "iopub.status.busy": "2020-12-03T23:25:51.117641Z",
     "iopub.status.idle": "2020-12-03T23:25:51.838532Z",
     "shell.execute_reply": "2020-12-03T23:25:51.837978Z"
    },
    "papermill": {
     "duration": 0.882789,
     "end_time": "2020-12-03T23:25:51.838650",
     "exception": false,
     "start_time": "2020-12-03T23:25:50.955861",
     "status": "completed"
    },
    "tags": []
   },
   "outputs": [],
   "source": [
    "visualizer = ResidualsPlot(LGBMRegressor)\n",
    "visualizer.fit(X_train1, y_train1,)\n",
    "visualizer.score(X_train2, y_train2)\n",
    "visualizer.show()"
   ]
  },
  {
   "cell_type": "code",
   "execution_count": null,
   "metadata": {
    "execution": {
     "iopub.execute_input": "2020-12-03T23:25:52.155874Z",
     "iopub.status.busy": "2020-12-03T23:25:52.154849Z",
     "iopub.status.idle": "2020-12-03T23:25:53.183149Z",
     "shell.execute_reply": "2020-12-03T23:25:53.183734Z"
    },
    "papermill": {
     "duration": 1.186492,
     "end_time": "2020-12-03T23:25:53.183881",
     "exception": false,
     "start_time": "2020-12-03T23:25:51.997389",
     "status": "completed"
    },
    "tags": []
   },
   "outputs": [],
   "source": [
    "X_train1, X_train2, y_train1, y_train2 = tts(train2, train_saleprice, test_size=0.4, shuffle=True)\n",
    "\n",
    "XGBRegressor = XGBRegressor()\n",
    "visualizer = PredictionError(XGBRegressor)\n",
    "visualizer.fit(X_train1, y_train1,)\n",
    "visualizer.score(X_train2, y_train2)\n",
    "visualizer.show()"
   ]
  },
  {
   "cell_type": "code",
   "execution_count": null,
   "metadata": {
    "execution": {
     "iopub.execute_input": "2020-12-03T23:25:53.511657Z",
     "iopub.status.busy": "2020-12-03T23:25:53.510487Z",
     "iopub.status.idle": "2020-12-03T23:25:54.208501Z",
     "shell.execute_reply": "2020-12-03T23:25:54.209127Z"
    },
    "papermill": {
     "duration": 0.870399,
     "end_time": "2020-12-03T23:25:54.209280",
     "exception": false,
     "start_time": "2020-12-03T23:25:53.338881",
     "status": "completed"
    },
    "tags": []
   },
   "outputs": [],
   "source": [
    "visualizer = ResidualsPlot(XGBRegressor)\n",
    "visualizer.fit(X_train1, y_train1,)\n",
    "visualizer.score(X_train2, y_train2)\n",
    "visualizer.show()"
   ]
  },
  {
   "cell_type": "markdown",
   "metadata": {
    "papermill": {
     "duration": 0.161349,
     "end_time": "2020-12-03T23:25:54.528899",
     "exception": false,
     "start_time": "2020-12-03T23:25:54.367550",
     "status": "completed"
    },
    "tags": []
   },
   "source": [
    "### Now we should notice that all except SVR are good for our dataset. So, we gonna use them."
   ]
  },
  {
   "cell_type": "code",
   "execution_count": null,
   "metadata": {
    "execution": {
     "iopub.execute_input": "2020-12-03T23:25:54.852402Z",
     "iopub.status.busy": "2020-12-03T23:25:54.851352Z",
     "iopub.status.idle": "2020-12-03T23:25:54.854649Z",
     "shell.execute_reply": "2020-12-03T23:25:54.854093Z"
    },
    "papermill": {
     "duration": 0.170149,
     "end_time": "2020-12-03T23:25:54.854767",
     "exception": false,
     "start_time": "2020-12-03T23:25:54.684618",
     "status": "completed"
    },
    "tags": []
   },
   "outputs": [],
   "source": [
    "X_train = train.drop(['SalePrice'],axis=1)\n",
    "y_train = train['SalePrice']\n",
    "kfolds = KFold(n_splits=10, shuffle=True, random_state=42)\n",
    "\n",
    "def rmsle(y_train, y_pred):\n",
    "    return np.sqrt(mean_squared_error(y_train, y_pred))\n",
    "\n",
    "def cv_rmse(model, X_train=X_train):\n",
    "    rmse = np.sqrt(-cross_val_score(model, X_train, y_train, scoring=\"neg_mean_squared_error\", cv=kfolds))\n",
    "    return (rmse)"
   ]
  },
  {
   "cell_type": "code",
   "execution_count": null,
   "metadata": {
    "execution": {
     "iopub.execute_input": "2020-12-03T23:25:55.180900Z",
     "iopub.status.busy": "2020-12-03T23:25:55.179613Z",
     "iopub.status.idle": "2020-12-03T23:26:34.200900Z",
     "shell.execute_reply": "2020-12-03T23:26:34.201749Z"
    },
    "papermill": {
     "duration": 39.19133,
     "end_time": "2020-12-03T23:26:34.201929",
     "exception": false,
     "start_time": "2020-12-03T23:25:55.010599",
     "status": "completed"
    },
    "tags": []
   },
   "outputs": [],
   "source": [
    "score1 = cv_rmse(LinearRegression())\n",
    "print(\"LinearRegression: {:.4f} ({:.4f})\\n\".format(score1.mean(), score1.std()), )\n",
    "\n",
    "score2 = cv_rmse(Lasso)\n",
    "print(\"Lasso: {:.4f} ({:.4f})\\n\".format(score2.mean(), score2.std()), )\n",
    "\n",
    "score4 = cv_rmse(DecisionTreeRegressor)\n",
    "print(\"DecisionTreeRegressor: {:.4f} ({:.4f})\\n\".format(score4.mean(), score4.std()), )\n",
    "\n",
    "score5 = cv_rmse(RandomForestRegressor)\n",
    "print(\"RandomForestRegressor: {:.4f} ({:.4f})\\n\".format(score5.mean(), score5.std()), )\n",
    "\n",
    "score6 = cv_rmse(GradientBoostingRegressor)\n",
    "print(\"GradientBoostingRegressor: {:.4f} ({:.4f})\\n\".format(score6.mean(), score6.std()), )\n",
    "\n",
    "score7 = cv_rmse(LGBMRegressor)\n",
    "print(\"LGBMRegressor: {:.4f} ({:.4f})\\n\".format(score7.mean(), score7.std()), )\n",
    "\n",
    "score8 = cv_rmse(XGBRegressor)\n",
    "print(\"XGBRegressor: {:.4f} ({:.4f})\\n\".format(score8.mean(), score8.std()), )\n"
   ]
  },
  {
   "cell_type": "code",
   "execution_count": null,
   "metadata": {
    "execution": {
     "iopub.execute_input": "2020-12-03T23:26:34.590085Z",
     "iopub.status.busy": "2020-12-03T23:26:34.588784Z",
     "iopub.status.idle": "2020-12-03T23:28:39.854647Z",
     "shell.execute_reply": "2020-12-03T23:28:39.854048Z"
    },
    "papermill": {
     "duration": 125.442948,
     "end_time": "2020-12-03T23:28:39.854761",
     "exception": false,
     "start_time": "2020-12-03T23:26:34.411813",
     "status": "completed"
    },
    "tags": []
   },
   "outputs": [],
   "source": [
    "X = train.drop('SalePrice', axis=1)\n",
    "target = train['SalePrice']\n",
    "\n",
    "# Load a regression dataset\n",
    "viz = ValidationCurve(\n",
    "    GradientBoostingRegressor, param_name=\"max_depth\",\n",
    "    param_range=np.arange(1, 11), cv=10, scoring=\"r2\"\n",
    ")\n",
    "\n",
    "# Fit and show the visualizer\n",
    "viz.fit(X, target)\n",
    "viz.show()"
   ]
  },
  {
   "cell_type": "markdown",
   "metadata": {
    "papermill": {
     "duration": 0.155571,
     "end_time": "2020-12-03T23:28:40.166371",
     "exception": false,
     "start_time": "2020-12-03T23:28:40.010800",
     "status": "completed"
    },
    "tags": []
   },
   "source": [
    "### This tells us the best model for our dataset is GradientBoostingRegressor and the validation curve shoxs it's adapted to our dataset.\n",
    "\n",
    "#### Now, let use Recursive Feature Selection for having best features that we gonna use for model optimization."
   ]
  },
  {
   "cell_type": "code",
   "execution_count": null,
   "metadata": {
    "execution": {
     "iopub.execute_input": "2020-12-03T23:28:40.497634Z",
     "iopub.status.busy": "2020-12-03T23:28:40.495493Z",
     "iopub.status.idle": "2020-12-03T23:31:12.798202Z",
     "shell.execute_reply": "2020-12-03T23:31:12.799093Z"
    },
    "papermill": {
     "duration": 152.473706,
     "end_time": "2020-12-03T23:31:12.799306",
     "exception": false,
     "start_time": "2020-12-03T23:28:40.325600",
     "status": "completed"
    },
    "tags": []
   },
   "outputs": [],
   "source": [
    "# Now, we gonna use RFE with linear regression but we could also use VIF Calculation for finding best features for our linear and svr models.\n",
    "\n",
    "from sklearn.feature_selection import RFE\n",
    "from sklearn.model_selection import StratifiedKFold\n",
    "from sklearn.feature_selection import RFECV\n",
    "\n",
    "X = train.drop('SalePrice', axis=1)\n",
    "target = train['SalePrice']\n",
    "\n",
    "\n",
    "selector = RFECV(GradientBoostingRegressor, step=1, cv=5, scoring=\"neg_mean_squared_error\")\n",
    "selector = selector.fit(X, target)\n",
    "print('Optimal number of features: {}'.format(selector.n_features_))"
   ]
  },
  {
   "cell_type": "code",
   "execution_count": null,
   "metadata": {
    "execution": {
     "iopub.execute_input": "2020-12-03T23:31:13.147734Z",
     "iopub.status.busy": "2020-12-03T23:31:13.146516Z",
     "iopub.status.idle": "2020-12-03T23:31:13.394130Z",
     "shell.execute_reply": "2020-12-03T23:31:13.394757Z"
    },
    "papermill": {
     "duration": 0.424391,
     "end_time": "2020-12-03T23:31:13.394900",
     "exception": false,
     "start_time": "2020-12-03T23:31:12.970509",
     "status": "completed"
    },
    "tags": []
   },
   "outputs": [],
   "source": [
    "plt.figure(figsize=(16, 9))\n",
    "plt.title('Recursive Feature Elimination with Cross-Validation', fontsize=18, fontweight='bold', pad=20)\n",
    "plt.xlabel('Number of features selected', fontsize=14, labelpad=20)\n",
    "plt.ylabel('% Correct Classification', fontsize=14, labelpad=20)\n",
    "plt.plot(range(1, len(selector.grid_scores_) + 1), selector.grid_scores_, color='#303F9F', linewidth=3)\n",
    "plt.show()"
   ]
  },
  {
   "cell_type": "code",
   "execution_count": null,
   "metadata": {
    "execution": {
     "iopub.execute_input": "2020-12-03T23:31:13.873452Z",
     "iopub.status.busy": "2020-12-03T23:31:13.872410Z",
     "iopub.status.idle": "2020-12-03T23:31:13.882433Z",
     "shell.execute_reply": "2020-12-03T23:31:13.883754Z"
    },
    "papermill": {
     "duration": 0.282765,
     "end_time": "2020-12-03T23:31:13.883995",
     "exception": false,
     "start_time": "2020-12-03T23:31:13.601230",
     "status": "completed"
    },
    "tags": []
   },
   "outputs": [],
   "source": [
    "test.drop(X.columns[np.where(selector.support_ == False)[0]], axis=1, inplace=True)\n",
    "train.drop(X.columns[np.where(selector.support_ == False)[0]], axis=1, inplace=True)"
   ]
  },
  {
   "cell_type": "code",
   "execution_count": null,
   "metadata": {
    "execution": {
     "iopub.execute_input": "2020-12-03T23:31:14.344084Z",
     "iopub.status.busy": "2020-12-03T23:31:14.342892Z",
     "iopub.status.idle": "2020-12-03T23:31:14.354737Z",
     "shell.execute_reply": "2020-12-03T23:31:14.356276Z"
    },
    "papermill": {
     "duration": 0.214626,
     "end_time": "2020-12-03T23:31:14.356473",
     "exception": false,
     "start_time": "2020-12-03T23:31:14.141847",
     "status": "completed"
    },
    "tags": []
   },
   "outputs": [],
   "source": [
    "X = train.drop('SalePrice', axis=1)\n",
    "target = train['SalePrice']\n",
    "\n",
    "X_train, X_val, y_train, y_val = tts(X, target, test_size=0.2, random_state=2020)"
   ]
  },
  {
   "cell_type": "code",
   "execution_count": null,
   "metadata": {
    "execution": {
     "iopub.execute_input": "2020-12-03T23:31:14.733198Z",
     "iopub.status.busy": "2020-12-03T23:31:14.732460Z",
     "iopub.status.idle": "2020-12-03T23:31:14.737429Z",
     "shell.execute_reply": "2020-12-03T23:31:14.736757Z"
    },
    "papermill": {
     "duration": 0.194981,
     "end_time": "2020-12-03T23:31:14.737631",
     "exception": false,
     "start_time": "2020-12-03T23:31:14.542650",
     "status": "completed"
    },
    "tags": []
   },
   "outputs": [],
   "source": [
    "from sklearn.ensemble import GradientBoostingRegressor\n",
    "from sklearn.svm import SVR\n",
    "from xgboost import XGBRegressor\n",
    "from lightgbm import LGBMRegressor\n",
    "\n",
    "from sklearn.ensemble import RandomForestRegressor\n",
    "from sklearn.tree import DecisionTreeRegressor\n",
    "from sklearn.linear_model import Lasso"
   ]
  },
  {
   "cell_type": "code",
   "execution_count": null,
   "metadata": {
    "execution": {
     "iopub.execute_input": "2020-12-03T23:31:15.083531Z",
     "iopub.status.busy": "2020-12-03T23:31:15.081223Z",
     "iopub.status.idle": "2020-12-03T23:31:27.203450Z",
     "shell.execute_reply": "2020-12-03T23:31:27.204432Z"
    },
    "papermill": {
     "duration": 12.295819,
     "end_time": "2020-12-03T23:31:27.204666",
     "exception": false,
     "start_time": "2020-12-03T23:31:14.908847",
     "status": "completed"
    },
    "tags": []
   },
   "outputs": [],
   "source": [
    "#We did the same thing for GradientBoostingRegressor and detect these hyperparameters are best:\n",
    "\n",
    "GradientBoostingRegr = GradientBoostingRegressor(n_estimators=3000, learning_rate=0.05,\n",
    "                                   max_depth=4, max_features='sqrt',\n",
    "                                   min_samples_leaf=15, min_samples_split=10, \n",
    "                                   loss='huber', random_state =42)\n",
    "GradientBoostingRegr.fit(X_train, y_train)"
   ]
  },
  {
   "cell_type": "code",
   "execution_count": null,
   "metadata": {
    "execution": {
     "iopub.execute_input": "2020-12-03T23:31:27.548824Z",
     "iopub.status.busy": "2020-12-03T23:31:27.547844Z",
     "iopub.status.idle": "2020-12-03T23:31:27.647276Z",
     "shell.execute_reply": "2020-12-03T23:31:27.646662Z"
    },
    "papermill": {
     "duration": 0.273597,
     "end_time": "2020-12-03T23:31:27.647406",
     "exception": false,
     "start_time": "2020-12-03T23:31:27.373809",
     "status": "completed"
    },
    "tags": []
   },
   "outputs": [],
   "source": [
    "Predictions = GradientBoostingRegr.predict(test)"
   ]
  },
  {
   "cell_type": "code",
   "execution_count": null,
   "metadata": {
    "execution": {
     "iopub.execute_input": "2020-12-03T23:31:27.986282Z",
     "iopub.status.busy": "2020-12-03T23:31:27.985561Z",
     "iopub.status.idle": "2020-12-03T23:31:28.250382Z",
     "shell.execute_reply": "2020-12-03T23:31:28.249568Z"
    },
    "papermill": {
     "duration": 0.437698,
     "end_time": "2020-12-03T23:31:28.250510",
     "exception": false,
     "start_time": "2020-12-03T23:31:27.812812",
     "status": "completed"
    },
    "tags": []
   },
   "outputs": [],
   "source": [
    "submission = pd.DataFrame({'Id': test_ID,\n",
    "                           'SalePrice': Predictions})\n",
    "submission.to_csv('submission_boost.csv', index=False)"
   ]
  }
 ],
 "metadata": {
  "kernelspec": {
   "display_name": "Python 3",
   "language": "python",
   "name": "python3"
  },
  "language_info": {
   "codemirror_mode": {
    "name": "ipython",
    "version": 3
   },
   "file_extension": ".py",
   "mimetype": "text/x-python",
   "name": "python",
   "nbconvert_exporter": "python",
   "pygments_lexer": "ipython3",
   "version": "3.7.9"
  },
  "papermill": {
   "duration": 622.917501,
   "end_time": "2020-12-03T23:31:29.655129",
   "environment_variables": {},
   "exception": null,
   "input_path": "__notebook__.ipynb",
   "output_path": "__notebook__.ipynb",
   "parameters": {},
   "start_time": "2020-12-03T23:21:06.737628",
   "version": "2.1.0"
  }
 },
 "nbformat": 4,
 "nbformat_minor": 4
}
